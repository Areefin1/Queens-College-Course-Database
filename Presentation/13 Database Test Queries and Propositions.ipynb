{
    "metadata": {
        "kernelspec": {
            "name": "SQL",
            "display_name": "SQL",
            "language": "sql"
        },
        "language_info": {
            "name": "sql",
            "version": ""
        }
    },
    "nbformat_minor": 2,
    "nbformat": 4,
    "cells": [
        {
            "cell_type": "markdown",
            "source": [
                "<h1 style = \"color:#0D0630\">Query 1</h1>\n",
                "\n",
                "<div style=\"border:2px solid #C57B57; padding: 7px; background-color:#FEFAEC\">\n",
                "<h2 style=\"color:#3A435E\"><b>Proposition Statement:</h2>\n",
                "<h3>Show all instructors who are teaching in classes in multiple departments.</b></h3>\n",
                "<p><i>(Completed by Jude Pierre)</i></p></div>"
            ],
            "metadata": {
                "azdata_cell_guid": "e2fdccd8-29ad-4cf5-9bf7-96bb4d43cb35"
            },
            "attachments": {}
        },
        {
            "cell_type": "code",
            "source": [
                "Use QueensClassSchedule;\n",
                "\n",
                "SELECT DI.InstructorFullName\n",
                "FROM [dbo].[Department_Instructor] AS DI\n",
                "    INNER JOIN [Course].Class AS C \n",
                "        ON DI.InstructorFullName = C.InstructorFullName\n",
                "GROUP BY DI.InstructorFullName\n",
                "HAVING COUNT(DI.DepartmentKey) > 1 AND COUNT(C.ClassKey) > 1;"
            ],
            "metadata": {
                "azdata_cell_guid": "55def0bb-8eea-481e-85f8-29f59e25f3c7",
                "language": "sql"
            },
            "outputs": [
                {
                    "output_type": "display_data",
                    "data": {
                        "text/html": "(1105 rows affected)"
                    },
                    "metadata": {}
                },
                {
                    "output_type": "display_data",
                    "data": {
                        "text/html": "Total execution time: 00:00:00.092"
                    },
                    "metadata": {}
                },
                {
                    "output_type": "execute_result",
                    "metadata": {},
                    "execution_count": 1,
                    "data": {
                        "application/vnd.dataresource+json": {
                            "schema": {
                                "fields": [
                                    {
                                        "name": "InstructorFullName"
                                    }
                                ]
                            },
                            "data": [
                                {
                                    "InstructorFullName": "Abd-Elhafez, Alaa"
                                },
                                {
                                    "InstructorFullName": "Abeyweera, Thushara"
                                },
                                {
                                    "InstructorFullName": "Abrams, Brian"
                                },
                                {
                                    "InstructorFullName": "Abrams, Catherine"
                                },
                                {
                                    "InstructorFullName": "Abrego Jr., Raul"
                                },
                                {
                                    "InstructorFullName": "Abrell, Elan"
                                },
                                {
                                    "InstructorFullName": "Abreu, Andy"
                                },
                                {
                                    "InstructorFullName": "Abreu, Dorian"
                                },
                                {
                                    "InstructorFullName": "Ackerman, Judith"
                                },
                                {
                                    "InstructorFullName": "Ackerman, Tsippa"
                                },
                                {
                                    "InstructorFullName": "Acosta Alamo, Marlen"
                                },
                                {
                                    "InstructorFullName": "Adams, Emily"
                                },
                                {
                                    "InstructorFullName": "Adler, David"
                                },
                                {
                                    "InstructorFullName": "Adrian, Moshe"
                                },
                                {
                                    "InstructorFullName": "Aftergood, Joshua"
                                },
                                {
                                    "InstructorFullName": "Agbeyegbe, Omayemi"
                                },
                                {
                                    "InstructorFullName": "Agnew, Charlene"
                                },
                                {
                                    "InstructorFullName": "Agostini, Emanuela"
                                },
                                {
                                    "InstructorFullName": "Aharonoff, Abraham"
                                },
                                {
                                    "InstructorFullName": "Ahn, Dongmyung"
                                },
                                {
                                    "InstructorFullName": "Alaimo, Christina"
                                },
                                {
                                    "InstructorFullName": "Alexiou, Nicholas"
                                },
                                {
                                    "InstructorFullName": "Ali, Ashna"
                                },
                                {
                                    "InstructorFullName": "Ali, Meimona"
                                },
                                {
                                    "InstructorFullName": "Alim, Jasmin"
                                },
                                {
                                    "InstructorFullName": "Alkins, Kimberley"
                                },
                                {
                                    "InstructorFullName": "Allen, Joel"
                                },
                                {
                                    "InstructorFullName": "Allen, Victoria"
                                },
                                {
                                    "InstructorFullName": "Alryyes, Ala"
                                },
                                {
                                    "InstructorFullName": "Alteras, Isaac"
                                },
                                {
                                    "InstructorFullName": "Altman, Alexander"
                                },
                                {
                                    "InstructorFullName": "Altman, Julie"
                                },
                                {
                                    "InstructorFullName": "Altman, Melinda"
                                },
                                {
                                    "InstructorFullName": "Alves, Jorge"
                                },
                                {
                                    "InstructorFullName": "Amatulli, Rosa"
                                },
                                {
                                    "InstructorFullName": "Ament, Jonathon"
                                },
                                {
                                    "InstructorFullName": "An, Guozhen"
                                },
                                {
                                    "InstructorFullName": "Anadon, Jose"
                                },
                                {
                                    "InstructorFullName": "Anderson, Lindsay"
                                },
                                {
                                    "InstructorFullName": "Anderson, William"
                                },
                                {
                                    "InstructorFullName": "Anson-Cartwright, Mark"
                                },
                                {
                                    "InstructorFullName": "Antonov, Sergei"
                                },
                                {
                                    "InstructorFullName": "Aomori, Yoshio"
                                },
                                {
                                    "InstructorFullName": "Aprile, Andrew"
                                },
                                {
                                    "InstructorFullName": "Argue, Darcy"
                                },
                                {
                                    "InstructorFullName": "Argyros, Maria"
                                },
                                {
                                    "InstructorFullName": "Armacost, Timothy"
                                },
                                {
                                    "InstructorFullName": "Artzt, Alice"
                                },
                                {
                                    "InstructorFullName": "Ashton, Hilarie"
                                },
                                {
                                    "InstructorFullName": "Atamer, Esra"
                                },
                                {
                                    "InstructorFullName": "Aufenanger, Mary"
                                },
                                {
                                    "InstructorFullName": "Avitsur, Haim"
                                },
                                {
                                    "InstructorFullName": "Azzollini, Ann"
                                },
                                {
                                    "InstructorFullName": "Bacchus, Nazreen"
                                },
                                {
                                    "InstructorFullName": "Baghban, Marcia"
                                },
                                {
                                    "InstructorFullName": "Bahri, Soubeika"
                                },
                                {
                                    "InstructorFullName": "Bailey, Lauren"
                                },
                                {
                                    "InstructorFullName": "Baker, Mitchell"
                                },
                                {
                                    "InstructorFullName": "Balkaran, Dianand"
                                },
                                {
                                    "InstructorFullName": "Ball, Karen"
                                },
                                {
                                    "InstructorFullName": "Balnova, Natalya"
                                },
                                {
                                    "InstructorFullName": "Balsam, Kevin"
                                },
                                {
                                    "InstructorFullName": "Barahmand, Usha"
                                },
                                {
                                    "InstructorFullName": "Baren, Alison"
                                },
                                {
                                    "InstructorFullName": "Barone, Ernest"
                                },
                                {
                                    "InstructorFullName": "Barone, Toni Ann"
                                },
                                {
                                    "InstructorFullName": "Barton, Scott"
                                },
                                {
                                    "InstructorFullName": "Bass, Chloe"
                                },
                                {
                                    "InstructorFullName": "Bauer, Sara"
                                },
                                {
                                    "InstructorFullName": "Baum, Joy"
                                },
                                {
                                    "InstructorFullName": "Bazant, Jan"
                                },
                                {
                                    "InstructorFullName": "Beeler, Jeff"
                                },
                                {
                                    "InstructorFullName": "Belfield, Clive"
                                },
                                {
                                    "InstructorFullName": "Bembenutty, Hefer"
                                },
                                {
                                    "InstructorFullName": "Bemporad, Elissa"
                                },
                                {
                                    "InstructorFullName": "Benchimol, Judith"
                                },
                                {
                                    "InstructorFullName": "Benjamin, Ranjitkumar"
                                },
                                {
                                    "InstructorFullName": "Benson, Rodney"
                                },
                                {
                                    "InstructorFullName": "Ben-Yakar, Taly"
                                },
                                {
                                    "InstructorFullName": "Berger, Kirsten"
                                },
                                {
                                    "InstructorFullName": "Bergey, Bradley"
                                },
                                {
                                    "InstructorFullName": "Berkman, David"
                                },
                                {
                                    "InstructorFullName": "Berman, Amy"
                                },
                                {
                                    "InstructorFullName": "Berman, Gary"
                                },
                                {
                                    "InstructorFullName": "Bernard, Lisa"
                                },
                                {
                                    "InstructorFullName": "Bernstein, Eve"
                                },
                                {
                                    "InstructorFullName": "Bernstein, Melvin"
                                },
                                {
                                    "InstructorFullName": "Bhagat, Renu"
                                },
                                {
                                    "InstructorFullName": "Bhairam-Raza, Gita"
                                },
                                {
                                    "InstructorFullName": "Bhattacharya, Alpana"
                                },
                                {
                                    "InstructorFullName": "Bian, Kaikai"
                                },
                                {
                                    "InstructorFullName": "Biber, Julia"
                                },
                                {
                                    "InstructorFullName": "Biddle, Brenda"
                                },
                                {
                                    "InstructorFullName": "Biegel, Jeffrey"
                                },
                                {
                                    "InstructorFullName": "Bilan, Jacqueline"
                                },
                                {
                                    "InstructorFullName": "Billado, Tracey"
                                },
                                {
                                    "InstructorFullName": "Binyaminov, Olga"
                                },
                                {
                                    "InstructorFullName": "Biondi, Maria"
                                },
                                {
                                    "InstructorFullName": "Bird, Jeffrey"
                                },
                                {
                                    "InstructorFullName": "Birth, Kevin"
                                },
                                {
                                    "InstructorFullName": "Black, Ryan"
                                },
                                {
                                    "InstructorFullName": "Bligh, Pamela"
                                },
                                {
                                    "InstructorFullName": "Bodenstein, Jan"
                                },
                                {
                                    "InstructorFullName": "Bodnar, Richard"
                                },
                                {
                                    "InstructorFullName": "Boehmcke, Suzanne"
                                },
                                {
                                    "InstructorFullName": "Boghosian, Stella"
                                },
                                {
                                    "InstructorFullName": "Boklan, Kent"
                                },
                                {
                                    "InstructorFullName": "Bollenback, Paul"
                                },
                                {
                                    "InstructorFullName": "Bonilla, Luis"
                                },
                                {
                                    "InstructorFullName": "Bonomo, Carl"
                                },
                                {
                                    "InstructorFullName": "Boodaghian, Arthur"
                                },
                                {
                                    "InstructorFullName": "Bourgoin, Michael"
                                },
                                {
                                    "InstructorFullName": "Boyd, Julie"
                                },
                                {
                                    "InstructorFullName": "Braude, Arie"
                                },
                                {
                                    "InstructorFullName": "Bregoli, Francesca"
                                },
                                {
                                    "InstructorFullName": "Bremner, Francesca"
                                },
                                {
                                    "InstructorFullName": "Brewer, Alexis"
                                },
                                {
                                    "InstructorFullName": "Brodsky, Julia"
                                },
                                {
                                    "InstructorFullName": "Brody, Roberta"
                                },
                                {
                                    "InstructorFullName": "Broges, Adele"
                                },
                                {
                                    "InstructorFullName": "Brown, Fredda"
                                },
                                {
                                    "InstructorFullName": "Brown, Jennifer"
                                },
                                {
                                    "InstructorFullName": "Brown, Royal"
                                },
                                {
                                    "InstructorFullName": "Brown, Theodore"
                                },
                                {
                                    "InstructorFullName": "Brown, Todd"
                                },
                                {
                                    "InstructorFullName": "Browne, Basil"
                                },
                                {
                                    "InstructorFullName": "Brumbaugh, Claudia"
                                },
                                {
                                    "InstructorFullName": "Brumberg, Joshua"
                                },
                                {
                                    "InstructorFullName": "Bruno, Gregory"
                                },
                                {
                                    "InstructorFullName": "Buccellato, Thomas"
                                },
                                {
                                    "InstructorFullName": "Burgstaller, Josef"
                                },
                                {
                                    "InstructorFullName": "Burrows, Lourdes"
                                },
                                {
                                    "InstructorFullName": "Burstein, Harvey"
                                },
                                {
                                    "InstructorFullName": "Caamano, Juan"
                                },
                                {
                                    "InstructorFullName": "Caccamo, Victoria"
                                },
                                {
                                    "InstructorFullName": "Caccavale, Teresa"
                                },
                                {
                                    "InstructorFullName": "Cadieu, Fred"
                                },
                                {
                                    "InstructorFullName": "Calandra, Peter"
                                },
                                {
                                    "InstructorFullName": "Callis, Cathy"
                                },
                                {
                                    "InstructorFullName": "Calvet, Dana"
                                },
                                {
                                    "InstructorFullName": "Candelo-Londono, Natalia"
                                },
                                {
                                    "InstructorFullName": "Capetanos, Anastasia"
                                },
                                {
                                    "InstructorFullName": "Cappello, Lawrence"
                                },
                                {
                                    "InstructorFullName": "Caraballo, Limarys"
                                },
                                {
                                    "InstructorFullName": "Carr, Nora"
                                },
                                {
                                    "InstructorFullName": "Carris, Patricia"
                                },
                                {
                                    "InstructorFullName": "Carroll, Clare"
                                },
                                {
                                    "InstructorFullName": "Carvalho Macedo, Isabela"
                                },
                                {
                                    "InstructorFullName": "Casco, Monica"
                                },
                                {
                                    "InstructorFullName": "Case, Dyanne"
                                },
                                {
                                    "InstructorFullName": "Cassano-Repole, Michelle"
                                },
                                {
                                    "InstructorFullName": "Cassvan, Jeffrey"
                                },
                                {
                                    "InstructorFullName": "Catalano, Linda"
                                },
                                {
                                    "InstructorFullName": "Catalano, Victoria"
                                },
                                {
                                    "InstructorFullName": "Catsambis, Sophia"
                                },
                                {
                                    "InstructorFullName": "Cedeira Serantes, Lucia"
                                },
                                {
                                    "InstructorFullName": "Celello, Kristin"
                                },
                                {
                                    "InstructorFullName": "Cermeli, Alana"
                                },
                                {
                                    "InstructorFullName": "Chan, Tsz"
                                },
                                {
                                    "InstructorFullName": "Charny, Allison"
                                },
                                {
                                    "InstructorFullName": "Chase, Nancy"
                                },
                                {
                                    "InstructorFullName": "Chauhan, Riddhi"
                                },
                                {
                                    "InstructorFullName": "Chaves, Carolina"
                                },
                                {
                                    "InstructorFullName": "Chavez, Monica"
                                },
                                {
                                    "InstructorFullName": "Checker, Melissa"
                                },
                                {
                                    "InstructorFullName": "Cheema, Saima"
                                },
                                {
                                    "InstructorFullName": "Chelliah, Birunda"
                                },
                                {
                                    "InstructorFullName": "Cheloukhina, Svetlana"
                                },
                                {
                                    "InstructorFullName": "Chen, Chao"
                                },
                                {
                                    "InstructorFullName": "Chen, Cong"
                                },
                                {
                                    "InstructorFullName": "Chen, Dianna"
                                },
                                {
                                    "InstructorFullName": "Chen, Tong"
                                },
                                {
                                    "InstructorFullName": "Chen, Yu"
                                },
                                {
                                    "InstructorFullName": "Chen, Yung-Chi"
                                },
                                {
                                    "InstructorFullName": "Cheng, Xiaojun"
                                },
                                {
                                    "InstructorFullName": "Cherico, Vincent"
                                },
                                {
                                    "InstructorFullName": "Chernov, Eric"
                                },
                                {
                                    "InstructorFullName": "Chernov, Konstantza"
                                },
                                {
                                    "InstructorFullName": "Cheshire, Scott"
                                },
                                {
                                    "InstructorFullName": "Chin Hong, Rose"
                                },
                                {
                                    "InstructorFullName": "Chinnan, Ashley"
                                },
                                {
                                    "InstructorFullName": "Cho, Chaeeoun"
                                },
                                {
                                    "InstructorFullName": "Cho, Dongho"
                                },
                                {
                                    "InstructorFullName": "Cho, Euna"
                                },
                                {
                                    "InstructorFullName": "Choi, Jimee"
                                },
                                {
                                    "InstructorFullName": "Choi, Jiyoung"
                                },
                                {
                                    "InstructorFullName": "Choi, Sung-Eun"
                                },
                                {
                                    "InstructorFullName": "Chouaib, Abderrahim"
                                },
                                {
                                    "InstructorFullName": "Chu, Seo-Young"
                                },
                                {
                                    "InstructorFullName": "Ciavarella, Peter"
                                },
                                {
                                    "InstructorFullName": "Ciccarelli, Emma"
                                },
                                {
                                    "InstructorFullName": "Ciolino Volano, Francesca"
                                },
                                {
                                    "InstructorFullName": "Clark, James"
                                },
                                {
                                    "InstructorFullName": "Clark, Kevin"
                                },
                                {
                                    "InstructorFullName": "Clark, William"
                                },
                                {
                                    "InstructorFullName": "Clarke, Anisha"
                                },
                                {
                                    "InstructorFullName": "Cloarec, Yves"
                                },
                                {
                                    "InstructorFullName": "Cohen, Joseph"
                                },
                                {
                                    "InstructorFullName": "Cohen, Nancy"
                                },
                                {
                                    "InstructorFullName": "Cohen, Paul"
                                },
                                {
                                    "InstructorFullName": "Cohen, Wayne"
                                },
                                {
                                    "InstructorFullName": "Colella, Cristianna"
                                },
                                {
                                    "InstructorFullName": "Colon, Paulina"
                                },
                                {
                                    "InstructorFullName": "Comfort, Gardiner"
                                },
                                {
                                    "InstructorFullName": "Consiglio, Clare"
                                },
                                {
                                    "InstructorFullName": "Cook, Lewis"
                                },
                                {
                                    "InstructorFullName": "Cooley, Nicole"
                                },
                                {
                                    "InstructorFullName": "Cooper Owens, Deirdre"
                                },
                                {
                                    "InstructorFullName": "Cooper Owens, Edward"
                                },
                                {
                                    "InstructorFullName": "Cordeiro, Catherine"
                                },
                                {
                                    "InstructorFullName": "Cornell, Julian"
                                },
                                {
                                    "InstructorFullName": "Cosby, Erika"
                                },
                                {
                                    "InstructorFullName": "Cossin, David"
                                },
                                {
                                    "InstructorFullName": "Costigan, Arthur"
                                },
                                {
                                    "InstructorFullName": "Courtadon, Georges"
                                },
                                {
                                    "InstructorFullName": "Covington, Sarah"
                                },
                                {
                                    "InstructorFullName": "Cowan, Elliot"
                                },
                                {
                                    "InstructorFullName": "Cox-Evans, Catherine"
                                },
                                {
                                    "InstructorFullName": "Crain, Matthew"
                                },
                                {
                                    "InstructorFullName": "Critchell, Yinmei"
                                },
                                {
                                    "InstructorFullName": "Crouse, Rose-Marie"
                                },
                                {
                                    "InstructorFullName": "Crowder, Michael"
                                },
                                {
                                    "InstructorFullName": "Crowe, Susan"
                                },
                                {
                                    "InstructorFullName": "Cuomo, Joseph"
                                },
                                {
                                    "InstructorFullName": "Curcio, Frances"
                                },
                                {
                                    "InstructorFullName": "D Costa, Celestina"
                                },
                                {
                                    "InstructorFullName": "Daniel, Evan"
                                },
                                {
                                    "InstructorFullName": "D'Ateno, Patricia"
                                },
                                {
                                    "InstructorFullName": "Dauber, Nicky"
                                },
                                {
                                    "InstructorFullName": "David, Amy"
                                },
                                {
                                    "InstructorFullName": "Davidovits, Murray"
                                },
                                {
                                    "InstructorFullName": "Davie, Dorothy"
                                },
                                {
                                    "InstructorFullName": "Davis, Marshall"
                                },
                                {
                                    "InstructorFullName": "Davis, Susan"
                                },
                                {
                                    "InstructorFullName": "Davis-Kram, Harriet"
                                },
                                {
                                    "InstructorFullName": "Davison, Adam"
                                },
                                {
                                    "InstructorFullName": "Day, Matthew"
                                },
                                {
                                    "InstructorFullName": "De Cuba, Carlos"
                                },
                                {
                                    "InstructorFullName": "De Soyza, Tushini"
                                },
                                {
                                    "InstructorFullName": "Dealy, Michael"
                                },
                                {
                                    "InstructorFullName": "Deb, Basuli"
                                },
                                {
                                    "InstructorFullName": "Debora, David"
                                },
                                {
                                    "InstructorFullName": "Deckler, Meredith"
                                },
                                {
                                    "InstructorFullName": "Defelice, Andrea"
                                },
                                {
                                    "InstructorFullName": "Deleo, Joseph"
                                },
                                {
                                    "InstructorFullName": "Dennehy, John"
                                },
                                {
                                    "InstructorFullName": "Derosa, Andrew"
                                },
                                {
                                    "InstructorFullName": "Derosse, Pamela"
                                },
                                {
                                    "InstructorFullName": "Desai, Tarlika"
                                },
                                {
                                    "InstructorFullName": "Deych, Daniil"
                                },
                                {
                                    "InstructorFullName": "Deych, Lev"
                                },
                                {
                                    "InstructorFullName": "Diaz, Richard"
                                },
                                {
                                    "InstructorFullName": "Dignam, Arthur"
                                },
                                {
                                    "InstructorFullName": "Dilts, Anne"
                                },
                                {
                                    "InstructorFullName": "Dimitrakopoulos, Jim"
                                },
                                {
                                    "InstructorFullName": "Dionisio, Jabri"
                                },
                                {
                                    "InstructorFullName": "Dodson, Laura"
                                },
                                {
                                    "InstructorFullName": "Dolman, Christopher"
                                },
                                {
                                    "InstructorFullName": "Don, Eugene"
                                },
                                {
                                    "InstructorFullName": "Donato, Antonio"
                                },
                                {
                                    "InstructorFullName": "Dong, Xinlong"
                                },
                                {
                                    "InstructorFullName": "Dong, Yu"
                                },
                                {
                                    "InstructorFullName": "Donofrio, Pasquale"
                                },
                                {
                                    "InstructorFullName": "Doran, Erica"
                                },
                                {
                                    "InstructorFullName": "Doukhan, Abigail"
                                },
                                {
                                    "InstructorFullName": "Doyle, Donna"
                                },
                                {
                                    "InstructorFullName": "Dryer, Tracy"
                                },
                                {
                                    "InstructorFullName": "Dunn Davison, Megan"
                                },
                                {
                                    "InstructorFullName": "Dvora, Shira"
                                },
                                {
                                    "InstructorFullName": "Dyer, Glenn"
                                },
                                {
                                    "InstructorFullName": "Dytell, Robert"
                                },
                                {
                                    "InstructorFullName": "Eaton, Timothy"
                                },
                                {
                                    "InstructorFullName": "Ebner, Rosanne"
                                },
                                {
                                    "InstructorFullName": "Efstathiou, Constantine"
                                },
                                {
                                    "InstructorFullName": "Egan, Laura"
                                },
                                {
                                    "InstructorFullName": "Ehrlich, Yosefa"
                                },
                                {
                                    "InstructorFullName": "Einstein, Mara"
                                },
                                {
                                    "InstructorFullName": "Eisen, Carole"
                                },
                                {
                                    "InstructorFullName": "Eisman, Lawrence"
                                },
                                {
                                    "InstructorFullName": "Elan, Robert"
                                },
                                {
                                    "InstructorFullName": "Elisha, Omri"
                                },
                                {
                                    "InstructorFullName": "Ellis, John"
                                },
                                {
                                    "InstructorFullName": "Emerson, William"
                                },
                                {
                                    "InstructorFullName": "Emmett, Joseph"
                                },
                                {
                                    "InstructorFullName": "Engel, Robert"
                                },
                                {
                                    "InstructorFullName": "English, Hugh"
                                },
                                {
                                    "InstructorFullName": "Erlach, David"
                                },
                                {
                                    "InstructorFullName": "Erlbaum, Sharon"
                                },
                                {
                                    "InstructorFullName": "Esposito, Christopher"
                                },
                                {
                                    "InstructorFullName": "Esteban-Pretel, Julen"
                                },
                                {
                                    "InstructorFullName": "Ewing, Scott"
                                },
                                {
                                    "InstructorFullName": "Fadoul, Paul"
                                },
                                {
                                    "InstructorFullName": "Farber, Jeffrey"
                                },
                                {
                                    "InstructorFullName": "Farhood-Karasavva, Linda"
                                },
                                {
                                    "InstructorFullName": "Farrell, Elizabeth"
                                },
                                {
                                    "InstructorFullName": "Fasos, Sofia"
                                },
                                {
                                    "InstructorFullName": "Fath, Karl"
                                },
                                {
                                    "InstructorFullName": "Feder, Rhonda"
                                },
                                {
                                    "InstructorFullName": "Feeley, Francis"
                                },
                                {
                                    "InstructorFullName": "Feisullin, Anita"
                                },
                                {
                                    "InstructorFullName": "Feldman, Lawrence"
                                },
                                {
                                    "InstructorFullName": "Feldstein, Claudia"
                                },
                                {
                                    "InstructorFullName": "Feliciano, Zadia"
                                },
                                {
                                    "InstructorFullName": "Fenig, Beverly"
                                },
                                {
                                    "InstructorFullName": "Fernandez, Alvaro"
                                },
                                {
                                    "InstructorFullName": "Ferrara, Denise"
                                },
                                {
                                    "InstructorFullName": "Fiani, Theresa"
                                },
                                {
                                    "InstructorFullName": "Fienup, Daniel"
                                },
                                {
                                    "InstructorFullName": "Figelman, Robin"
                                },
                                {
                                    "InstructorFullName": "Finkelstein, Alan"
                                },
                                {
                                    "InstructorFullName": "Finkelstein, Elissa"
                                },
                                {
                                    "InstructorFullName": "Fiorile, Carol"
                                },
                                {
                                    "InstructorFullName": "Fischthal, Arnold"
                                },
                                {
                                    "InstructorFullName": "Fittante, Carlos"
                                },
                                {
                                    "InstructorFullName": "Fitzsimons, Sean"
                                },
                                {
                                    "InstructorFullName": "Flamhaft, Ziva"
                                },
                                {
                                    "InstructorFullName": "Flanagan, John"
                                },
                                {
                                    "InstructorFullName": "Fleetwood, Gordon"
                                },
                                {
                                    "InstructorFullName": "Fleming, Liselotte"
                                },
                                {
                                    "InstructorFullName": "Fluture, Simina"
                                },
                                {
                                    "InstructorFullName": "Forrest, Frances"
                                },
                                {
                                    "InstructorFullName": "Fouyer, Nathalie"
                                },
                                {
                                    "InstructorFullName": "Fraboni, Michelle"
                                },
                                {
                                    "InstructorFullName": "Frank, Barry"
                                },
                                {
                                    "InstructorFullName": "Frank, Morton"
                                },
                                {
                                    "InstructorFullName": "Franklin, Arnold"
                                },
                                {
                                    "InstructorFullName": "Franko, Layton"
                                },
                                {
                                    "InstructorFullName": "Frary, Barbara"
                                },
                                {
                                    "InstructorFullName": "Freundschuh, Aaron"
                                },
                                {
                                    "InstructorFullName": "Fried, Matthew"
                                },
                                {
                                    "InstructorFullName": "Fried, Michael"
                                },
                                {
                                    "InstructorFullName": "Froman, Ian"
                                },
                                {
                                    "InstructorFullName": "Fujimoto, Mari"
                                },
                                {
                                    "InstructorFullName": "Fuqua, Joy"
                                },
                                {
                                    "InstructorFullName": "Furnari, John"
                                },
                                {
                                    "InstructorFullName": "Gabel, David"
                                },
                                {
                                    "InstructorFullName": "Gafney, Harry"
                                },
                                {
                                    "InstructorFullName": "Gallucci, Maryann"
                                },
                                {
                                    "InstructorFullName": "Gandjian, Babak"
                                },
                                {
                                    "InstructorFullName": "Gangaram, Elliot"
                                },
                                {
                                    "InstructorFullName": "Gangji, Al-Karim"
                                },
                                {
                                    "InstructorFullName": "Garces, Daniel"
                                },
                                {
                                    "InstructorFullName": "Garcia, Kimberley"
                                },
                                {
                                    "InstructorFullName": "Garofalo, Salvatore"
                                },
                                {
                                    "InstructorFullName": "Gaska, Jonathan"
                                },
                                {
                                    "InstructorFullName": "Geizhals, Sara"
                                },
                                {
                                    "InstructorFullName": "Gelfand, Stanley"
                                },
                                {
                                    "InstructorFullName": "Geller, Frances"
                                },
                                {
                                    "InstructorFullName": "Genack, Azriel"
                                },
                                {
                                    "InstructorFullName": "Genao, Soribel"
                                },
                                {
                                    "InstructorFullName": "George, Julie"
                                },
                                {
                                    "InstructorFullName": "Gerwin, David"
                                },
                                {
                                    "InstructorFullName": "Ghatak, Ronita"
                                },
                                {
                                    "InstructorFullName": "Gherghi, Lucian"
                                },
                                {
                                    "InstructorFullName": "Ghosh Roy, Sounak"
                                },
                                {
                                    "InstructorFullName": "Giardina, Carol"
                                },
                                {
                                    "InstructorFullName": "Giberti, George"
                                },
                                {
                                    "InstructorFullName": "Gibson, Lenwood"
                                },
                                {
                                    "InstructorFullName": "Gigante, Monica"
                                },
                                {
                                    "InstructorFullName": "Gill, Harsangeet"
                                },
                                {
                                    "InstructorFullName": "Gillman, Paula"
                                },
                                {
                                    "InstructorFullName": "Gimbel, Betty"
                                },
                                {
                                    "InstructorFullName": "Girod, Francesca"
                                },
                                {
                                    "InstructorFullName": "Gjicali, Kalina"
                                },
                                {
                                    "InstructorFullName": "Glass, Peter"
                                },
                                {
                                    "InstructorFullName": "Gloster, Daniel"
                                },
                                {
                                    "InstructorFullName": "Goldberg, Barry"
                                },
                                {
                                    "InstructorFullName": "Goldberg, David"
                                },
                                {
                                    "InstructorFullName": "Goldberg, Glenn"
                                },
                                {
                                    "InstructorFullName": "Goldberg, Robert"
                                },
                                {
                                    "InstructorFullName": "Goldberg, Teresia"
                                },
                                {
                                    "InstructorFullName": "Goldhaber, Sue"
                                },
                                {
                                    "InstructorFullName": "Goldman, Steven"
                                },
                                {
                                    "InstructorFullName": "Gomez, Ingrid"
                                },
                                {
                                    "InstructorFullName": "Gonzalez, Alan"
                                },
                                {
                                    "InstructorFullName": "Gonzalez, Mabel"
                                },
                                {
                                    "InstructorFullName": "Gonzalez, Teresa"
                                },
                                {
                                    "InstructorFullName": "Gorelick, Michael"
                                },
                                {
                                    "InstructorFullName": "Goswami, Mayank"
                                },
                                {
                                    "InstructorFullName": "Gouede, Karen"
                                },
                                {
                                    "InstructorFullName": "Granieri, Krista"
                                },
                                {
                                    "InstructorFullName": "Greco, Matthew"
                                },
                                {
                                    "InstructorFullName": "Greenberg, Aryeh"
                                },
                                {
                                    "InstructorFullName": "Greenberg, Ross"
                                },
                                {
                                    "InstructorFullName": "Greene, Vilma"
                                },
                                {
                                    "InstructorFullName": "Greenman, Jennifer"
                                },
                                {
                                    "InstructorFullName": "Greiner, Mary"
                                },
                                {
                                    "InstructorFullName": "Grella, Dustin"
                                },
                                {
                                    "InstructorFullName": "Grey, Leslee"
                                },
                                {
                                    "InstructorFullName": "Grier, Miles"
                                },
                                {
                                    "InstructorFullName": "Grover, Stephen"
                                },
                                {
                                    "InstructorFullName": "Gruber, Deborah"
                                },
                                {
                                    "InstructorFullName": "Gruber, Debra"
                                },
                                {
                                    "InstructorFullName": "Gruza, Marvin"
                                },
                                {
                                    "InstructorFullName": "Guadalupe, Julieanne"
                                },
                                {
                                    "InstructorFullName": "Guendoo, Leon"
                                },
                                {
                                    "InstructorFullName": "Gulley, Hillary"
                                },
                                {
                                    "InstructorFullName": "Gurl, Theresa"
                                },
                                {
                                    "InstructorFullName": "Hackett, Kristen"
                                },
                                {
                                    "InstructorFullName": "Haddican, William"
                                },
                                {
                                    "InstructorFullName": "Hadi, Syeda"
                                },
                                {
                                    "InstructorFullName": "Hanlon, Martin"
                                },
                                {
                                    "InstructorFullName": "Hanson, Derek"
                                },
                                {
                                    "InstructorFullName": "Hantzandreou, Katerina"
                                },
                                {
                                    "InstructorFullName": "Harmey, Sinead"
                                },
                                {
                                    "InstructorFullName": "Harris, Jessica"
                                },
                                {
                                    "InstructorFullName": "Harris, Steven"
                                },
                                {
                                    "InstructorFullName": "Hart, Antonio"
                                },
                                {
                                    "InstructorFullName": "Hart, William"
                                },
                                {
                                    "InstructorFullName": "Hastings, Elizabeth"
                                },
                                {
                                    "InstructorFullName": "Hauptman, Ira"
                                },
                                {
                                    "InstructorFullName": "Hayley, Jared"
                                },
                                {
                                    "InstructorFullName": "Healey, Meghan"
                                },
                                {
                                    "InstructorFullName": "Heffernan, Lauren"
                                },
                                {
                                    "InstructorFullName": "Heller, Peter"
                                },
                                {
                                    "InstructorFullName": "Hendrey, George"
                                },
                                {
                                    "InstructorFullName": "Herman, Ariela"
                                },
                                {
                                    "InstructorFullName": "Hersh, William"
                                },
                                {
                                    "InstructorFullName": "Herzog, Amy"
                                },
                                {
                                    "InstructorFullName": "Hickey, Andrew"
                                },
                                {
                                    "InstructorFullName": "Hickok, John"
                                },
                                {
                                    "InstructorFullName": "Hitzig, Neal"
                                },
                                {
                                    "InstructorFullName": "Ho, Jay"
                                },
                                {
                                    "InstructorFullName": "Ho, Sin-Ying"
                                },
                                {
                                    "InstructorFullName": "Hoehn, Harry"
                                },
                                {
                                    "InstructorFullName": "Holtzman, Nathalia"
                                },
                                {
                                    "InstructorFullName": "Hong, Caroline"
                                },
                                {
                                    "InstructorFullName": "Hoover, Robert"
                                },
                                {
                                    "InstructorFullName": "Hornung, David"
                                },
                                {
                                    "InstructorFullName": "Hosseini, Pariskeh"
                                },
                                {
                                    "InstructorFullName": "Huang, Qianyun (Ivy)"
                                },
                                {
                                    "InstructorFullName": "Huang, Xiu"
                                },
                                {
                                    "InstructorFullName": "Huber, Frank"
                                },
                                {
                                    "InstructorFullName": "Hughes, Mamori"
                                },
                                {
                                    "InstructorFullName": "Hull, Geordan"
                                },
                                {
                                    "InstructorFullName": "Humera, Fathima"
                                },
                                {
                                    "InstructorFullName": "Hung, Yaching"
                                },
                                {
                                    "InstructorFullName": "Husain, Abbas"
                                },
                                {
                                    "InstructorFullName": "Hussain, Sabrina"
                                },
                                {
                                    "InstructorFullName": "Hwang, Dae-Yeop"
                                },
                                {
                                    "InstructorFullName": "Ijalba, Elizabeth"
                                },
                                {
                                    "InstructorFullName": "Ilyayev, Reuven"
                                },
                                {
                                    "InstructorFullName": "Indergaard, Fumiko"
                                },
                                {
                                    "InstructorFullName": "Izquierdo, Sally"
                                },
                                {
                                    "InstructorFullName": "Jackman, George"
                                },
                                {
                                    "InstructorFullName": "Jacobs, Ruth"
                                },
                                {
                                    "InstructorFullName": "Jaffe, Violetta"
                                },
                                {
                                    "InstructorFullName": "Janash, Daniel"
                                },
                                {
                                    "InstructorFullName": "Jang, Seogjoo"
                                },
                                {
                                    "InstructorFullName": "Jasti, Sunitha"
                                },
                                {
                                    "InstructorFullName": "Jiang, Yunping"
                                },
                                {
                                    "InstructorFullName": "Jin, Ye"
                                },
                                {
                                    "InstructorFullName": "Jofat, David"
                                },
                                {
                                    "InstructorFullName": "John, Emily"
                                },
                                {
                                    "InstructorFullName": "John, James"
                                },
                                {
                                    "InstructorFullName": "Johnson, Aubrey"
                                },
                                {
                                    "InstructorFullName": "Johnson, Paulette"
                                },
                                {
                                    "InstructorFullName": "Johnson, Timothy"
                                },
                                {
                                    "InstructorFullName": "Jolley, David"
                                },
                                {
                                    "InstructorFullName": "Jones, Emily"
                                },
                                {
                                    "InstructorFullName": "Jordan, Jake"
                                },
                                {
                                    "InstructorFullName": "Jordan, James"
                                },
                                {
                                    "InstructorFullName": "Joseph, Michael"
                                },
                                {
                                    "InstructorFullName": "Julmisse, Evelyn"
                                },
                                {
                                    "InstructorFullName": "Juva, John"
                                },
                                {
                                    "InstructorFullName": "Kabir, Humayun"
                                },
                                {
                                    "InstructorFullName": "Kabir, Muhammad"
                                },
                                {
                                    "InstructorFullName": "Kabuto, Bobbie"
                                },
                                {
                                    "InstructorFullName": "Kahan, Harry"
                                },
                                {
                                    "InstructorFullName": "Kahan, Steven"
                                },
                                {
                                    "InstructorFullName": "Kalamaras, Jimmy"
                                },
                                {
                                    "InstructorFullName": "Kalra, Priya"
                                },
                                {
                                    "InstructorFullName": "Kang, Jung Min"
                                },
                                {
                                    "InstructorFullName": "Kang, Yuhao"
                                },
                                {
                                    "InstructorFullName": "Kanze, Bruce"
                                },
                                {
                                    "InstructorFullName": "Kapelner, Adam"
                                },
                                {
                                    "InstructorFullName": "Kaplan, Burton"
                                },
                                {
                                    "InstructorFullName": "Kapsis, Robert"
                                },
                                {
                                    "InstructorFullName": "Kapuscinski, Scott"
                                },
                                {
                                    "InstructorFullName": "Karol, Diane"
                                },
                                {
                                    "InstructorFullName": "Katsan, Gerasimus"
                                },
                                {
                                    "InstructorFullName": "Katz, Heather"
                                },
                                {
                                    "InstructorFullName": "Kauper, Kurt"
                                },
                                {
                                    "InstructorFullName": "Keane, Alice"
                                },
                                {
                                    "InstructorFullName": "Keem, Marie"
                                },
                                {
                                    "InstructorFullName": "Keen, Danielle"
                                },
                                {
                                    "InstructorFullName": "Kerson, Marleen"
                                },
                                {
                                    "InstructorFullName": "Kesler, Theodore"
                                },
                                {
                                    "InstructorFullName": "Kessar, Nathaniel"
                                },
                                {
                                    "InstructorFullName": "Khalil, Andrea"
                                },
                                {
                                    "InstructorFullName": "Khan, Akhtar"
                                },
                                {
                                    "InstructorFullName": "Khan, Areej"
                                },
                                {
                                    "InstructorFullName": "Kibirige, Harry"
                                },
                                {
                                    "InstructorFullName": "Killeaney, Richard"
                                },
                                {
                                    "InstructorFullName": "Kim, Albert"
                                },
                                {
                                    "InstructorFullName": "Kim, Chin"
                                },
                                {
                                    "InstructorFullName": "Kim, Ji Young"
                                },
                                {
                                    "InstructorFullName": "Kim, Jinyo"
                                },
                                {
                                    "InstructorFullName": "Kim, Sun"
                                },
                                {
                                    "InstructorFullName": "Kimatov, Mikhail"
                                },
                                {
                                    "InstructorFullName": "Kimerling, Judith"
                                },
                                {
                                    "InstructorFullName": "Kirschner, David"
                                },
                                {
                                    "InstructorFullName": "Kisilevsky, Sari"
                                },
                                {
                                    "InstructorFullName": "Klein, Coby"
                                },
                                {
                                    "InstructorFullName": "Klorman, Edward"
                                },
                                {
                                    "InstructorFullName": "Klosin, Krzysztof"
                                },
                                {
                                    "InstructorFullName": "Knable, Sunny"
                                },
                                {
                                    "InstructorFullName": "Ko, Seong Yeon"
                                },
                                {
                                    "InstructorFullName": "Kong, Tatyung"
                                },
                                {
                                    "InstructorFullName": "Korobkin, Dmitriy"
                                },
                                {
                                    "InstructorFullName": "Koroveshi, Blendi"
                                },
                                {
                                    "InstructorFullName": "Kostel, Andrew"
                                },
                                {
                                    "InstructorFullName": "Kostopoulos, Ioannis"
                                },
                                {
                                    "InstructorFullName": "Kourassanis-Velasquez, Jennifer"
                                },
                                {
                                    "InstructorFullName": "Kouris, James"
                                },
                                {
                                    "InstructorFullName": "Kowalczyk, Marta"
                                },
                                {
                                    "InstructorFullName": "Kramer, Kenneth"
                                },
                                {
                                    "InstructorFullName": "Krasner, Michael"
                                },
                                {
                                    "InstructorFullName": "Krause, William"
                                },
                                {
                                    "InstructorFullName": "Krekeler, Daniel"
                                },
                                {
                                    "InstructorFullName": "Kuhn, Susan"
                                },
                                {
                                    "InstructorFullName": "Kumar, Sanjai"
                                },
                                {
                                    "InstructorFullName": "Kumar, Vijay"
                                },
                                {
                                    "InstructorFullName": "Kupersmid, Debora"
                                },
                                {
                                    "InstructorFullName": "Kwon, Alice"
                                },
                                {
                                    "InstructorFullName": "Kyle, Jennifer"
                                },
                                {
                                    "InstructorFullName": "Lacy, Michael"
                                },
                                {
                                    "InstructorFullName": "Lahijani, Richard"
                                },
                                {
                                    "InstructorFullName": "Lahti, David"
                                },
                                {
                                    "InstructorFullName": "Lamela Lopez, Raquel"
                                },
                                {
                                    "InstructorFullName": "Land, Marianne"
                                },
                                {
                                    "InstructorFullName": "Landau, Gerald"
                                },
                                {
                                    "InstructorFullName": "Lane, Barbara"
                                },
                                {
                                    "InstructorFullName": "Larian, Laurin"
                                },
                                {
                                    "InstructorFullName": "Larson, Scott"
                                },
                                {
                                    "InstructorFullName": "Larsson, Anna"
                                },
                                {
                                    "InstructorFullName": "Laurenson, David"
                                },
                                {
                                    "InstructorFullName": "Lawley, Elizabeth"
                                },
                                {
                                    "InstructorFullName": "Le, Tony"
                                },
                                {
                                    "InstructorFullName": "Lee, Christopher"
                                },
                                {
                                    "InstructorFullName": "Lee, Dan"
                                },
                                {
                                    "InstructorFullName": "Lee, David"
                                },
                                {
                                    "InstructorFullName": "Lee, Do"
                                },
                                {
                                    "InstructorFullName": "Lee, Hye Su"
                                },
                                {
                                    "InstructorFullName": "Lee, Keum Sook"
                                },
                                {
                                    "InstructorFullName": "Lee, Kok Teng"
                                },
                                {
                                    "InstructorFullName": "Lee, Michelle I-Hui"
                                },
                                {
                                    "InstructorFullName": "Lehman, Eric"
                                },
                                {
                                    "InstructorFullName": "Leibowicz, Barry"
                                },
                                {
                                    "InstructorFullName": "Leites, Edmund"
                                },
                                {
                                    "InstructorFullName": "Lelchuk, Nina"
                                },
                                {
                                    "InstructorFullName": "Lemonda, Thomas"
                                },
                                {
                                    "InstructorFullName": "Lennon, Patricia"
                                },
                                {
                                    "InstructorFullName": "Lenzer, Janice"
                                },
                                {
                                    "InstructorFullName": "Lev, Lara"
                                },
                                {
                                    "InstructorFullName": "Leventhal, David"
                                },
                                {
                                    "InstructorFullName": "Leventhal, Julie Clarissa"
                                },
                                {
                                    "InstructorFullName": "Leventhal, Steven"
                                },
                                {
                                    "InstructorFullName": "Levin, Irina"
                                },
                                {
                                    "InstructorFullName": "Levine, Marc"
                                },
                                {
                                    "InstructorFullName": "Lewis, Norman"
                                },
                                {
                                    "InstructorFullName": "Lewis, Philip"
                                },
                                {
                                    "InstructorFullName": "Li, Andrea"
                                },
                                {
                                    "InstructorFullName": "Li, Changlin"
                                },
                                {
                                    "InstructorFullName": "Li, Nan"
                                },
                                {
                                    "InstructorFullName": "Li, Ping"
                                },
                                {
                                    "InstructorFullName": "Li, Xiao"
                                },
                                {
                                    "InstructorFullName": "Li, Xuemeng"
                                },
                                {
                                    "InstructorFullName": "Liberman, Peter"
                                },
                                {
                                    "InstructorFullName": "Lieb, Nathaniel"
                                },
                                {
                                    "InstructorFullName": "Liebovitch, Larry"
                                },
                                {
                                    "InstructorFullName": "Lin, Chiao-Han"
                                },
                                {
                                    "InstructorFullName": "Lin, Esther"
                                },
                                {
                                    "InstructorFullName": "Lin, Xiaoting"
                                },
                                {
                                    "InstructorFullName": "Link-Harrington, Agnes"
                                },
                                {
                                    "InstructorFullName": "Linn, David"
                                },
                                {
                                    "InstructorFullName": "Lipsey, Michael"
                                },
                                {
                                    "InstructorFullName": "Lipsitz, Keena"
                                },
                                {
                                    "InstructorFullName": "Lipyanskiy, Mikhail"
                                },
                                {
                                    "InstructorFullName": "Liu, Gaoquan"
                                },
                                {
                                    "InstructorFullName": "Liu, Jianbo"
                                },
                                {
                                    "InstructorFullName": "Liu, John Chun Yah"
                                },
                                {
                                    "InstructorFullName": "Liu, Zong Wang"
                                },
                                {
                                    "InstructorFullName": "Llorens, Irma"
                                },
                                {
                                    "InstructorFullName": "Loftus, Grace"
                                },
                                {
                                    "InstructorFullName": "Loizos, Maria"
                                },
                                {
                                    "InstructorFullName": "London, Michael"
                                },
                                {
                                    "InstructorFullName": "Longpre, Marc-Antoine"
                                },
                                {
                                    "InstructorFullName": "Look, Edward"
                                },
                                {
                                    "InstructorFullName": "Lord, Kenneth"
                                },
                                {
                                    "InstructorFullName": "Love, Lori"
                                },
                                {
                                    "InstructorFullName": "Lozada, Joseph"
                                },
                                {
                                    "InstructorFullName": "Luckett, Moya"
                                },
                                {
                                    "InstructorFullName": "Ludman, Allan"
                                },
                                {
                                    "InstructorFullName": "Luo, Fang"
                                },
                                {
                                    "InstructorFullName": "Lupia, Luann"
                                },
                                {
                                    "InstructorFullName": "Ma, Li"
                                },
                                {
                                    "InstructorFullName": "Ma, Pokay"
                                },
                                {
                                    "InstructorFullName": "Ma, Shaoying"
                                },
                                {
                                    "InstructorFullName": "Ma, Xujun"
                                },
                                {
                                    "InstructorFullName": "Ma, Zhen"
                                },
                                {
                                    "InstructorFullName": "Macdonald, Weldon"
                                },
                                {
                                    "InstructorFullName": "Macdougall Iii, Malcolm"
                                },
                                {
                                    "InstructorFullName": "Mackey, Jacob"
                                },
                                {
                                    "InstructorFullName": "Mackie, Lisa"
                                },
                                {
                                    "InstructorFullName": "Mackrel, Dennis"
                                },
                                {
                                    "InstructorFullName": "Madeira, Mary Anne"
                                },
                                {
                                    "InstructorFullName": "Madimenos, Felicia"
                                },
                                {
                                    "InstructorFullName": "Maerhofer, John"
                                },
                                {
                                    "InstructorFullName": "Mahavadi, Krishna"
                                },
                                {
                                    "InstructorFullName": "Mahendran, Thiruvarangan"
                                },
                                {
                                    "InstructorFullName": "Maki, Masayuki"
                                },
                                {
                                    "InstructorFullName": "Malagon, Anthony"
                                },
                                {
                                    "InstructorFullName": "Maller, Michael"
                                },
                                {
                                    "InstructorFullName": "Mancini, Elena"
                                },
                                {
                                    "InstructorFullName": "Mancusi, Marianne"
                                },
                                {
                                    "InstructorFullName": "Mandelkorn, Steven"
                                },
                                {
                                    "InstructorFullName": "Manfredo, Roberta"
                                },
                                {
                                    "InstructorFullName": "Mangiapanello, Kathleen"
                                },
                                {
                                    "InstructorFullName": "Manheim, Gale"
                                },
                                {
                                    "InstructorFullName": "Manson, Douglas"
                                },
                                {
                                    "InstructorFullName": "Marest, Luc"
                                },
                                {
                                    "InstructorFullName": "Markowitz, Elena"
                                },
                                {
                                    "InstructorFullName": "Maroko, Richard"
                                },
                                {
                                    "InstructorFullName": "Marsh, Jeffrey"
                                },
                                {
                                    "InstructorFullName": "Marshall, Cara"
                                },
                                {
                                    "InstructorFullName": "Martin, Charles"
                                },
                                {
                                    "InstructorFullName": "Martin, Joseph"
                                },
                                {
                                    "InstructorFullName": "Martinez, Magen"
                                },
                                {
                                    "InstructorFullName": "Martineztorrejon, Jose"
                                },
                                {
                                    "InstructorFullName": "Marzec, Amelia"
                                },
                                {
                                    "InstructorFullName": "Maskovsky, Jeff"
                                },
                                {
                                    "InstructorFullName": "Mason, Zachary"
                                },
                                {
                                    "InstructorFullName": "Mauceri, Nina"
                                },
                                {
                                    "InstructorFullName": "Maurer, Eli"
                                },
                                {
                                    "InstructorFullName": "Maxwell, Richard"
                                },
                                {
                                    "InstructorFullName": "Mazzo, Mark"
                                },
                                {
                                    "InstructorFullName": "Mccarthy, Sheryl"
                                },
                                {
                                    "InstructorFullName": "Mcclean, Kelly"
                                },
                                {
                                    "InstructorFullName": "Mccormick, Gavin"
                                },
                                {
                                    "InstructorFullName": "Mcdonnell, Myles"
                                },
                                {
                                    "InstructorFullName": "Mcelwaine, James"
                                },
                                {
                                    "InstructorFullName": "Mcgonnell, Carol"
                                },
                                {
                                    "InstructorFullName": "Melendez, Alicia"
                                },
                                {
                                    "InstructorFullName": "Mendenhall, Judith"
                                },
                                {
                                    "InstructorFullName": "Mengiste, Maaza"
                                },
                                {
                                    "InstructorFullName": "Menken, Kate"
                                },
                                {
                                    "InstructorFullName": "Mentzer, Amanda"
                                },
                                {
                                    "InstructorFullName": "Meric, Alexandra"
                                },
                                {
                                    "InstructorFullName": "Mesa-Pelly, Deborah"
                                },
                                {
                                    "InstructorFullName": "Metas, Nick"
                                },
                                {
                                    "InstructorFullName": "Metton, Bertrand"
                                },
                                {
                                    "InstructorFullName": "Miceli, Salvatore"
                                },
                                {
                                    "InstructorFullName": "Michael-Luna, Sara"
                                },
                                {
                                    "InstructorFullName": "Micic, Dragana"
                                },
                                {
                                    "InstructorFullName": "Milchman, Alan"
                                },
                                {
                                    "InstructorFullName": "Milich, Marvin"
                                },
                                {
                                    "InstructorFullName": "Milks, Megan"
                                },
                                {
                                    "InstructorFullName": "Miller, David"
                                },
                                {
                                    "InstructorFullName": "Miller, Denise"
                                },
                                {
                                    "InstructorFullName": "Miller, Joanne"
                                },
                                {
                                    "InstructorFullName": "Miller, Russell"
                                },
                                {
                                    "InstructorFullName": "Milo, Michael"
                                },
                                {
                                    "InstructorFullName": "Miner, Patricia"
                                },
                                {
                                    "InstructorFullName": "Minielli, Gina"
                                },
                                {
                                    "InstructorFullName": "Mintz, Seymour"
                                },
                                {
                                    "InstructorFullName": "Mirkin, Michael"
                                },
                                {
                                    "InstructorFullName": "Mitchell, Karl"
                                },
                                {
                                    "InstructorFullName": "Mitchell, Tyrone"
                                },
                                {
                                    "InstructorFullName": "Mitra, Sudeb"
                                },
                                {
                                    "InstructorFullName": "Mitsel, Rita"
                                },
                                {
                                    "InstructorFullName": "Moe, May Myat"
                                },
                                {
                                    "InstructorFullName": "Mohamed, Abeer"
                                },
                                {
                                    "InstructorFullName": "Moncada-Davidson, Lillian"
                                },
                                {
                                    "InstructorFullName": "Mondal, Dhiman"
                                },
                                {
                                    "InstructorFullName": "Monroy, Juan"
                                },
                                {
                                    "InstructorFullName": "Montana, Monica"
                                },
                                {
                                    "InstructorFullName": "Montana, Omar"
                                },
                                {
                                    "InstructorFullName": "Montero Mercedes, Angel"
                                },
                                {
                                    "InstructorFullName": "Moore, Barbara"
                                },
                                {
                                    "InstructorFullName": "Moreland, Wayne"
                                },
                                {
                                    "InstructorFullName": "Moreno, Louis"
                                },
                                {
                                    "InstructorFullName": "Moreno, Michael"
                                },
                                {
                                    "InstructorFullName": "Moretti, Jesselisa"
                                },
                                {
                                    "InstructorFullName": "Morgenstern, Fay"
                                },
                                {
                                    "InstructorFullName": "Mossman, Michael"
                                },
                                {
                                    "InstructorFullName": "Moudrov, Alexandre"
                                },
                                {
                                    "InstructorFullName": "Mozeiko, Kristin"
                                },
                                {
                                    "InstructorFullName": "Muehlbauer, Esther"
                                },
                                {
                                    "InstructorFullName": "Mukherjee, Roopali"
                                },
                                {
                                    "InstructorFullName": "Mulford, Anne"
                                },
                                {
                                    "InstructorFullName": "Mulone, Jacqueline"
                                },
                                {
                                    "InstructorFullName": "Muraskin, William"
                                },
                                {
                                    "InstructorFullName": "Mustaque, Md Sharif"
                                },
                                {
                                    "InstructorFullName": "Musuraca, Michael"
                                },
                                {
                                    "InstructorFullName": "Myers, Elissa"
                                },
                                {
                                    "InstructorFullName": "Myers, Thomas"
                                },
                                {
                                    "InstructorFullName": "Myrthil, Raymond"
                                },
                                {
                                    "InstructorFullName": "Nagy, David"
                                },
                                {
                                    "InstructorFullName": "Nakayama, Akina"
                                },
                                {
                                    "InstructorFullName": "Namkoong, Younju"
                                },
                                {
                                    "InstructorFullName": "Nandin, Phillip"
                                },
                                {
                                    "InstructorFullName": "Nazerian, Arda"
                                },
                                {
                                    "InstructorFullName": "Nduka, Uchenna"
                                },
                                {
                                    "InstructorFullName": "Neidich, Charles"
                                },
                                {
                                    "InstructorFullName": "Nelson, Rebecca"
                                },
                                {
                                    "InstructorFullName": "Neufeld, Joshua"
                                },
                                {
                                    "InstructorFullName": "Neumann, Yael"
                                },
                                {
                                    "InstructorFullName": "Neuweiler, Robert"
                                },
                                {
                                    "InstructorFullName": "Newman, Kristena"
                                },
                                {
                                    "InstructorFullName": "Ni, Xiuyan"
                                },
                                {
                                    "InstructorFullName": "Nichols, Jeff"
                                },
                                {
                                    "InstructorFullName": "Nici, John"
                                },
                                {
                                    "InstructorFullName": "Nicolosi, Louis"
                                },
                                {
                                    "InstructorFullName": "Nitzberg, Roy"
                                },
                                {
                                    "InstructorFullName": "Nix, Joan"
                                },
                                {
                                    "InstructorFullName": "Nixon, Dorothy"
                                },
                                {
                                    "InstructorFullName": "Nolan, Sean"
                                },
                                {
                                    "InstructorFullName": "Nomura, Yoko"
                                },
                                {
                                    "InstructorFullName": "Nutter, Geoffrey"
                                },
                                {
                                    "InstructorFullName": "Obrenic, Bojana"
                                },
                                {
                                    "InstructorFullName": "Ocando, Joseph"
                                },
                                {
                                    "InstructorFullName": "O'Connor, Patricia"
                                },
                                {
                                    "InstructorFullName": "Okamoto, Daiki"
                                },
                                {
                                    "InstructorFullName": "O'Mullan, Gregory"
                                },
                                {
                                    "InstructorFullName": "O'Neil, Sheila"
                                },
                                {
                                    "InstructorFullName": "O'Neill, James"
                                },
                                {
                                    "InstructorFullName": "Orchard, William"
                                },
                                {
                                    "InstructorFullName": "Orenstein, Arbie"
                                },
                                {
                                    "InstructorFullName": "Ortiz, Beatriz"
                                },
                                {
                                    "InstructorFullName": "Osborne, Helene"
                                },
                                {
                                    "InstructorFullName": "Osborne-Christenson, Eric"
                                },
                                {
                                    "InstructorFullName": "Outes-Leon, Brais"
                                },
                                {
                                    "InstructorFullName": "Outlaw, Sidney"
                                },
                                {
                                    "InstructorFullName": "Overholt, Sherry"
                                },
                                {
                                    "InstructorFullName": "Paccadolmi, Alexandra"
                                },
                                {
                                    "InstructorFullName": "Paccione, Katherine"
                                },
                                {
                                    "InstructorFullName": "Pace, Claudia"
                                },
                                {
                                    "InstructorFullName": "Pacht, Nurit"
                                },
                                {
                                    "InstructorFullName": "Paciorek, Annette"
                                },
                                {
                                    "InstructorFullName": "Pagano, Anthony"
                                },
                                {
                                    "InstructorFullName": "Pagano, Concettina"
                                },
                                {
                                    "InstructorFullName": "Paizis, Andrew"
                                },
                                {
                                    "InstructorFullName": "Palmer, Matthew"
                                },
                                {
                                    "InstructorFullName": "Pandazis, Michael"
                                },
                                {
                                    "InstructorFullName": "Pascarella, Joseph"
                                },
                                {
                                    "InstructorFullName": "Pastore, Joseph"
                                },
                                {
                                    "InstructorFullName": "Patton, Jeb"
                                },
                                {
                                    "InstructorFullName": "Paulicelli, Eugenia"
                                },
                                {
                                    "InstructorFullName": "Pechenkina, Ekaterina"
                                },
                                {
                                    "InstructorFullName": "Pekar, Stephen"
                                },
                                {
                                    "InstructorFullName": "Pell, Nathan"
                                },
                                {
                                    "InstructorFullName": "Pellitteri, John"
                                },
                                {
                                    "InstructorFullName": "Pena, Beatriz Carolina"
                                },
                                {
                                    "InstructorFullName": "Penaranda Tomas, Francisco"
                                },
                                {
                                    "InstructorFullName": "Pensak, Sandra"
                                },
                                {
                                    "InstructorFullName": "Perdomo, Miguel"
                                },
                                {
                                    "InstructorFullName": "Pereira, Jennifer"
                                },
                                {
                                    "InstructorFullName": "Peress, Maurice"
                                },
                                {
                                    "InstructorFullName": "Perez, Vanessa"
                                },
                                {
                                    "InstructorFullName": "Permitina, Olga"
                                },
                                {
                                    "InstructorFullName": "Perrone, Michael"
                                },
                                {
                                    "InstructorFullName": "Petaludis, Nicholas"
                                },
                                {
                                    "InstructorFullName": "Philip, Mana"
                                },
                                {
                                    "InstructorFullName": "Phillips, Daniel"
                                },
                                {
                                    "InstructorFullName": "Phillips, Tsaiyun"
                                },
                                {
                                    "InstructorFullName": "Piccolo, Ellen"
                                },
                                {
                                    "InstructorFullName": "Pineiro Ramirez, Olivia"
                                },
                                {
                                    "InstructorFullName": "Ping, Laura"
                                },
                                {
                                    "InstructorFullName": "Piotrowski, Cody"
                                },
                                {
                                    "InstructorFullName": "Pirone, Donald"
                                },
                                {
                                    "InstructorFullName": "Pirovolikos, Fei-Wen"
                                },
                                {
                                    "InstructorFullName": "Plaxico, Lonnie"
                                },
                                {
                                    "InstructorFullName": "Plummer, Thomas"
                                },
                                {
                                    "InstructorFullName": "Pollard, Trebien"
                                },
                                {
                                    "InstructorFullName": "Porcari, Judith"
                                },
                                {
                                    "InstructorFullName": "Posten, Anne"
                                },
                                {
                                    "InstructorFullName": "Powers, Edward"
                                },
                                {
                                    "InstructorFullName": "Presby, Leonard"
                                },
                                {
                                    "InstructorFullName": "Prestamo, Joseph"
                                },
                                {
                                    "InstructorFullName": "Price, Ada"
                                },
                                {
                                    "InstructorFullName": "Priestly, Debra"
                                },
                                {
                                    "InstructorFullName": "Proctor, Sherrie"
                                },
                                {
                                    "InstructorFullName": "Profeta, Katherine"
                                },
                                {
                                    "InstructorFullName": "Proscia, Nicholas"
                                },
                                {
                                    "InstructorFullName": "Pugh, Timothy"
                                },
                                {
                                    "InstructorFullName": "Puglisi, Matthew"
                                },
                                {
                                    "InstructorFullName": "Pytte, Carolyn"
                                },
                                {
                                    "InstructorFullName": "Quiles Gonzalez, Norberto"
                                },
                                {
                                    "InstructorFullName": "Qureshi, Anique"
                                },
                                {
                                    "InstructorFullName": "Ralescu, Stefan"
                                },
                                {
                                    "InstructorFullName": "Ramadanis, Alex"
                                },
                                {
                                    "InstructorFullName": "Ramadhin, Christine"
                                },
                                {
                                    "InstructorFullName": "Ranaldi, Robert"
                                },
                                {
                                    "InstructorFullName": "Razza, Claire"
                                },
                                {
                                    "InstructorFullName": "Recinos Vasquez, Eduardo"
                                },
                                {
                                    "InstructorFullName": "Reganato, Lauren"
                                },
                                {
                                    "InstructorFullName": "Reich, Shoshana"
                                },
                                {
                                    "InstructorFullName": "Reichert, Juergen"
                                },
                                {
                                    "InstructorFullName": "Reichert, Roman"
                                },
                                {
                                    "InstructorFullName": "Reichl, Alexander"
                                },
                                {
                                    "InstructorFullName": "Repole, Charles"
                                },
                                {
                                    "InstructorFullName": "Reyes-Giordano, Kimberly"
                                },
                                {
                                    "InstructorFullName": "Rezvani, Farahmand"
                                },
                                {
                                    "InstructorFullName": "Rhindress, Mindy"
                                },
                                {
                                    "InstructorFullName": "Rho, Yisun"
                                },
                                {
                                    "InstructorFullName": "Rhodes, Carole"
                                },
                                {
                                    "InstructorFullName": "Richards, Andrew"
                                },
                                {
                                    "InstructorFullName": "Richardson, Kristina"
                                },
                                {
                                    "InstructorFullName": "Richie, James"
                                },
                                {
                                    "InstructorFullName": "Richter, David"
                                },
                                {
                                    "InstructorFullName": "Riina, Elizabeth"
                                },
                                {
                                    "InstructorFullName": "Ripley, Emily"
                                },
                                {
                                    "InstructorFullName": "Ritt, Morey"
                                },
                                {
                                    "InstructorFullName": "Rivenbark, Joshua"
                                },
                                {
                                    "InstructorFullName": "Rivera, David"
                                },
                                {
                                    "InstructorFullName": "Rivera, Lourdes"
                                },
                                {
                                    "InstructorFullName": "Rizel, Meir"
                                },
                                {
                                    "InstructorFullName": "Robila, Mihaela"
                                },
                                {
                                    "InstructorFullName": "Rodriguez Aponte, Juan"
                                },
                                {
                                    "InstructorFullName": "Roesch, Madelyn"
                                },
                                {
                                    "InstructorFullName": "Rogers, Holly"
                                },
                                {
                                    "InstructorFullName": "Rollins, Joe"
                                },
                                {
                                    "InstructorFullName": "Romero, Domenico"
                                },
                                {
                                    "InstructorFullName": "Rosa, Manuel"
                                },
                                {
                                    "InstructorFullName": "Rosales, Kristine"
                                },
                                {
                                    "InstructorFullName": "Rosen, Marcy"
                                },
                                {
                                    "InstructorFullName": "Rosen, Timothy"
                                },
                                {
                                    "InstructorFullName": "Rosenberg, Alan"
                                },
                                {
                                    "InstructorFullName": "Rosenbloom, Seth"
                                },
                                {
                                    "InstructorFullName": "Rosenzweig, Joel"
                                },
                                {
                                    "InstructorFullName": "Rothenberg, Ronald"
                                },
                                {
                                    "InstructorFullName": "Rotholz, Susan"
                                },
                                {
                                    "InstructorFullName": "Rothstein, William"
                                },
                                {
                                    "InstructorFullName": "Rowe, Stephen"
                                },
                                {
                                    "InstructorFullName": "Ruedeman, Timothy"
                                },
                                {
                                    "InstructorFullName": "Ruiz Lopez, Cecilia"
                                },
                                {
                                    "InstructorFullName": "Rushkoff, Douglas"
                                },
                                {
                                    "InstructorFullName": "Ruthizer, Scott"
                                },
                                {
                                    "InstructorFullName": "Ryba, Alexander"
                                },
                                {
                                    "InstructorFullName": "Rydzewski, Monika"
                                },
                                {
                                    "InstructorFullName": "Sabitova, Maria"
                                },
                                {
                                    "InstructorFullName": "Saffran, Wilma"
                                },
                                {
                                    "InstructorFullName": "Saint-Hilaire, Line"
                                },
                                {
                                    "InstructorFullName": "Sakai, Christian"
                                },
                                {
                                    "InstructorFullName": "Salam, Shemon"
                                },
                                {
                                    "InstructorFullName": "Salamatbad, Michael"
                                },
                                {
                                    "InstructorFullName": "Salcer, Alana"
                                },
                                {
                                    "InstructorFullName": "Sammons, Benjamin"
                                },
                                {
                                    "InstructorFullName": "Samuni, Uri"
                                },
                                {
                                    "InstructorFullName": "San Andres, Livia"
                                },
                                {
                                    "InstructorFullName": "San, Kaung Myat"
                                },
                                {
                                    "InstructorFullName": "Sanborn, James"
                                },
                                {
                                    "InstructorFullName": "Sanchez, Jose"
                                },
                                {
                                    "InstructorFullName": "Sand, Jason"
                                },
                                {
                                    "InstructorFullName": "Sanders, Sheila"
                                },
                                {
                                    "InstructorFullName": "Sang, Richard"
                                },
                                {
                                    "InstructorFullName": "Sangiorgi, Thomas"
                                },
                                {
                                    "InstructorFullName": "Santana, Anthony"
                                },
                                {
                                    "InstructorFullName": "Sargent, Michael"
                                },
                                {
                                    "InstructorFullName": "Saslow, James"
                                },
                                {
                                    "InstructorFullName": "Satenstein, Jeffrey"
                                },
                                {
                                    "InstructorFullName": "Savage, Dean"
                                },
                                {
                                    "InstructorFullName": "Savagedunn, Cathy"
                                },
                                {
                                    "InstructorFullName": "Sayles, Elizabeth"
                                },
                                {
                                    "InstructorFullName": "Saylor, Bruce"
                                },
                                {
                                    "InstructorFullName": "Schanoes, Veronica"
                                },
                                {
                                    "InstructorFullName": "Schiele, Chloe"
                                },
                                {
                                    "InstructorFullName": "Schmitt, Doreen"
                                },
                                {
                                    "InstructorFullName": "Schnur, Kate"
                                },
                                {
                                    "InstructorFullName": "Schober, David"
                                },
                                {
                                    "InstructorFullName": "Schotter, Richard"
                                },
                                {
                                    "InstructorFullName": "Schulman, Jamie"
                                },
                                {
                                    "InstructorFullName": "Schwab, Kevin"
                                },
                                {
                                    "InstructorFullName": "Schwalb, Helen"
                                },
                                {
                                    "InstructorFullName": "Schwarz, Steven"
                                },
                                {
                                    "InstructorFullName": "Scott, Alice"
                                },
                                {
                                    "InstructorFullName": "Sedarat, Roger"
                                },
                                {
                                    "InstructorFullName": "Segal, Nicole"
                                },
                                {
                                    "InstructorFullName": "Seidman, Seth"
                                },
                                {
                                    "InstructorFullName": "Seligson, Jomal"
                                },
                                {
                                    "InstructorFullName": "Sen, Satadru"
                                },
                                {
                                    "InstructorFullName": "Sepe, Susan"
                                },
                                {
                                    "InstructorFullName": "Seraphin, Gael"
                                },
                                {
                                    "InstructorFullName": "Seufert, Kelly"
                                },
                                {
                                    "InstructorFullName": "Seymore, Javier"
                                },
                                {
                                    "InstructorFullName": "Shady, Ashraf"
                                },
                                {
                                    "InstructorFullName": "Shamie, Gregory"
                                },
                                {
                                    "InstructorFullName": "Shanon, Milette"
                                },
                                {
                                    "InstructorFullName": "Sharma, Tej"
                                },
                                {
                                    "InstructorFullName": "Shaw, Susan"
                                },
                                {
                                    "InstructorFullName": "Sheikh, Ridda"
                                },
                                {
                                    "InstructorFullName": "Sheng, Shang-Yu"
                                },
                                {
                                    "InstructorFullName": "Sherman, Beth"
                                },
                                {
                                    "InstructorFullName": "Sherwin, Kathleen"
                                },
                                {
                                    "InstructorFullName": "Shibata, Chihiro"
                                },
                                {
                                    "InstructorFullName": "Shih, Wen-Shan"
                                },
                                {
                                    "InstructorFullName": "Shikowitz, Sara"
                                },
                                {
                                    "InstructorFullName": "Shin, Heesun"
                                },
                                {
                                    "InstructorFullName": "Shin, Sunghee"
                                },
                                {
                                    "InstructorFullName": "Shire, Seth"
                                },
                                {
                                    "InstructorFullName": "Shironishi, Ruka"
                                },
                                {
                                    "InstructorFullName": "Shkadron, Polina"
                                },
                                {
                                    "InstructorFullName": "Sholette, Gregory"
                                },
                                {
                                    "InstructorFullName": "Short, Timothy"
                                },
                                {
                                    "InstructorFullName": "Shur, Mitchell"
                                },
                                {
                                    "InstructorFullName": "Siegel, Lynn"
                                },
                                {
                                    "InstructorFullName": "Silatchom Foyou, Francois"
                                },
                                {
                                    "InstructorFullName": "Silverman, Arthur"
                                },
                                {
                                    "InstructorFullName": "Simon, Heather"
                                },
                                {
                                    "InstructorFullName": "Simon, Mark"
                                },
                                {
                                    "InstructorFullName": "Singh, Vijailakshmi"
                                },
                                {
                                    "InstructorFullName": "Sisser, Fern"
                                },
                                {
                                    "InstructorFullName": "Skafidas, Michael"
                                },
                                {
                                    "InstructorFullName": "Skondras, Mary"
                                },
                                {
                                    "InstructorFullName": "Skrabut, Raymond"
                                },
                                {
                                    "InstructorFullName": "Skwara, Gabriella"
                                },
                                {
                                    "InstructorFullName": "Smaldone, Edward"
                                },
                                {
                                    "InstructorFullName": "Smaldone, Karen"
                                },
                                {
                                    "InstructorFullName": "Smith, Janice Pearson"
                                },
                                {
                                    "InstructorFullName": "Smith, Jason"
                                },
                                {
                                    "InstructorFullName": "Smith, Ryan"
                                },
                                {
                                    "InstructorFullName": "Smith-Thompson, Anne"
                                },
                                {
                                    "InstructorFullName": "Sneed, Joel"
                                },
                                {
                                    "InstructorFullName": "Sneeringer, Julia"
                                },
                                {
                                    "InstructorFullName": "Soares, Scott"
                                },
                                {
                                    "InstructorFullName": "Solarsh, Eva"
                                },
                                {
                                    "InstructorFullName": "Soleimani, Kamal"
                                },
                                {
                                    "InstructorFullName": "Solieri, Steven"
                                },
                                {
                                    "InstructorFullName": "Song, Kiyoung"
                                },
                                {
                                    "InstructorFullName": "Song, Shige"
                                },
                                {
                                    "InstructorFullName": "Soni, Sonal"
                                },
                                {
                                    "InstructorFullName": "Soule, Dax"
                                },
                                {
                                    "InstructorFullName": "Spagna, Alfredo"
                                },
                                {
                                    "InstructorFullName": "Sperling, Jon"
                                },
                                {
                                    "InstructorFullName": "Sperry, Ryan"
                                },
                                {
                                    "InstructorFullName": "Spitz, Henya"
                                },
                                {
                                    "InstructorFullName": "Spivak, Lynn"
                                },
                                {
                                    "InstructorFullName": "Spreizer, Christine"
                                },
                                {
                                    "InstructorFullName": "Spring, Toni"
                                },
                                {
                                    "InstructorFullName": "Stalias, Maria"
                                },
                                {
                                    "InstructorFullName": "Stanton, Rebecca"
                                },
                                {
                                    "InstructorFullName": "Stein, Alan"
                                },
                                {
                                    "InstructorFullName": "Steiner, Robert"
                                },
                                {
                                    "InstructorFullName": "Stengel-Mohr, Jennifer"
                                },
                                {
                                    "InstructorFullName": "Steuerwalt, Karen"
                                },
                                {
                                    "InstructorFullName": "Stevens, Michael"
                                },
                                {
                                    "InstructorFullName": "Stewart, Jennifer"
                                },
                                {
                                    "InstructorFullName": "Storbeck, Justin"
                                },
                                {
                                    "InstructorFullName": "Strassler, Karen"
                                },
                                {
                                    "InstructorFullName": "Strauss, Benjamin"
                                },
                                {
                                    "InstructorFullName": "Strickland, Suzanne"
                                },
                                {
                                    "InstructorFullName": "Stumm, Carey"
                                },
                                {
                                    "InstructorFullName": "Sturmey, Peter"
                                },
                                {
                                    "InstructorFullName": "Subramaniam, Gopal"
                                },
                                {
                                    "InstructorFullName": "Sukhu, Gopal"
                                },
                                {
                                    "InstructorFullName": "Sullivan, Karen"
                                },
                                {
                                    "InstructorFullName": "Sultan, Alan"
                                },
                                {
                                    "InstructorFullName": "Sun, Fang"
                                },
                                {
                                    "InstructorFullName": "Sun, Yan"
                                },
                                {
                                    "InstructorFullName": "Sungolowsky, Joseph"
                                },
                                {
                                    "InstructorFullName": "Sureck, Suzy"
                                },
                                {
                                    "InstructorFullName": "Suri, Miranda"
                                },
                                {
                                    "InstructorFullName": "Svitak, Joseph"
                                },
                                {
                                    "InstructorFullName": "Swedell, Larissa"
                                },
                                {
                                    "InstructorFullName": "Swell, Lila"
                                },
                                {
                                    "InstructorFullName": "Sy, Bon"
                                },
                                {
                                    "InstructorFullName": "Tache, Karine"
                                },
                                {
                                    "InstructorFullName": "Taha, Wagdi"
                                },
                                {
                                    "InstructorFullName": "Tajes, Joy"
                                },
                                {
                                    "InstructorFullName": "Takeall, Alan"
                                },
                                {
                                    "InstructorFullName": "Takei, So"
                                },
                                {
                                    "InstructorFullName": "Taleghani, Rebecca"
                                },
                                {
                                    "InstructorFullName": "Tang, Joyce"
                                },
                                {
                                    "InstructorFullName": "Tang, Yi"
                                },
                                {
                                    "InstructorFullName": "Tatarian, Christine"
                                },
                                {
                                    "InstructorFullName": "Teegala, Sushma"
                                },
                                {
                                    "InstructorFullName": "Teikmanis, Nora"
                                },
                                {
                                    "InstructorFullName": "Tejada, Ramon"
                                },
                                {
                                    "InstructorFullName": "Tekverk, Laurette"
                                },
                                {
                                    "InstructorFullName": "Tenzer Santoro, Emily"
                                },
                                {
                                    "InstructorFullName": "Terilla, John"
                                },
                                {
                                    "InstructorFullName": "Thayer, Johnathan"
                                },
                                {
                                    "InstructorFullName": "Thiel, Christie"
                                },
                                {
                                    "InstructorFullName": "Thurber, Matthew"
                                },
                                {
                                    "InstructorFullName": "Tietje, Susan"
                                },
                                {
                                    "InstructorFullName": "Tilitz, Thomas"
                                },
                                {
                                    "InstructorFullName": "Toledo, David"
                                },
                                {
                                    "InstructorFullName": "Tomasulo, Victoria"
                                },
                                {
                                    "InstructorFullName": "Toner, Michael"
                                },
                                {
                                    "InstructorFullName": "Tougaw, Jason"
                                },
                                {
                                    "InstructorFullName": "Tousi-Hakimian, Afsaneh"
                                },
                                {
                                    "InstructorFullName": "Toy, Tanvir"
                                },
                                {
                                    "InstructorFullName": "Tracz, Elzbieta"
                                },
                                {
                                    "InstructorFullName": "Trappen, Sandra"
                                },
                                {
                                    "InstructorFullName": "Travis, Lydia"
                                },
                                {
                                    "InstructorFullName": "Tricarico, Justin"
                                },
                                {
                                    "InstructorFullName": "Tse, Chi"
                                },
                                {
                                    "InstructorFullName": "Tsika, Noah"
                                },
                                {
                                    "InstructorFullName": "Tsilas, Loucas"
                                },
                                {
                                    "InstructorFullName": "Turkel, Susan"
                                },
                                {
                                    "InstructorFullName": "Tytell, John"
                                },
                                {
                                    "InstructorFullName": "Ulubabova, Tatyana"
                                },
                                {
                                    "InstructorFullName": "Underwood, Keith"
                                },
                                {
                                    "InstructorFullName": "Upadhyay, Vivek"
                                },
                                {
                                    "InstructorFullName": "Vacca, James"
                                },
                                {
                                    "InstructorFullName": "Vancelette, Reid"
                                },
                                {
                                    "InstructorFullName": "Vanegas, Roy"
                                },
                                {
                                    "InstructorFullName": "Vellon, Peter"
                                },
                                {
                                    "InstructorFullName": "Ventura, Gabriela"
                                },
                                {
                                    "InstructorFullName": "Verastegui, Edgar"
                                },
                                {
                                    "InstructorFullName": "Vesanen, Mika"
                                },
                                {
                                    "InstructorFullName": "Vidal, Ana"
                                },
                                {
                                    "InstructorFullName": "Vila Castelar, Clara"
                                },
                                {
                                    "InstructorFullName": "Viladrich, Anahi"
                                },
                                {
                                    "InstructorFullName": "Villa, Laura"
                                },
                                {
                                    "InstructorFullName": "Vitaglione, Sylvie"
                                },
                                {
                                    "InstructorFullName": "Voldman, Benjamin"
                                },
                                {
                                    "InstructorFullName": "Vuong, Luat"
                                },
                                {
                                    "InstructorFullName": "Wade, Charenee"
                                },
                                {
                                    "InstructorFullName": "Wagner, Christopher"
                                },
                                {
                                    "InstructorFullName": "Waite, Genevieve"
                                },
                                {
                                    "InstructorFullName": "Wakefield, Stephanie"
                                },
                                {
                                    "InstructorFullName": "Waldman, John"
                                },
                                {
                                    "InstructorFullName": "Walker, Leila"
                                },
                                {
                                    "InstructorFullName": "Walters-Doehrman, Barbara"
                                },
                                {
                                    "InstructorFullName": "Wamba, Nathalis"
                                },
                                {
                                    "InstructorFullName": "Wang, Adam"
                                },
                                {
                                    "InstructorFullName": "Wang, Cuiyuan"
                                },
                                {
                                    "InstructorFullName": "Wang, John"
                                },
                                {
                                    "InstructorFullName": "Wang, Ting"
                                },
                                {
                                    "InstructorFullName": "Ward, Matthew"
                                },
                                {
                                    "InstructorFullName": "Warren, Joyce"
                                },
                                {
                                    "InstructorFullName": "Waters, Catherine"
                                },
                                {
                                    "InstructorFullName": "Waxman, Jerry"
                                },
                                {
                                    "InstructorFullName": "Wayman, Sheldon"
                                },
                                {
                                    "InstructorFullName": "Wdowiak, Eryk"
                                },
                                {
                                    "InstructorFullName": "Webb, Carolyn"
                                },
                                {
                                    "InstructorFullName": "Weeks, Edisa"
                                },
                                {
                                    "InstructorFullName": "Weiner, Diane"
                                },
                                {
                                    "InstructorFullName": "Weinman, Alan"
                                },
                                {
                                    "InstructorFullName": "Weinstein, Daniel"
                                },
                                {
                                    "InstructorFullName": "Weinstein, Kathryn"
                                },
                                {
                                    "InstructorFullName": "Weir, John"
                                },
                                {
                                    "InstructorFullName": "Weisberg, Holly"
                                },
                                {
                                    "InstructorFullName": "Weiss, Renee"
                                },
                                {
                                    "InstructorFullName": "Weiss, Robert"
                                },
                                {
                                    "InstructorFullName": "Wen, Cheng-Cheng"
                                },
                                {
                                    "InstructorFullName": "Weng, Shih Jen"
                                },
                                {
                                    "InstructorFullName": "Wershba Gershon, Pamela"
                                },
                                {
                                    "InstructorFullName": "Westfal, Sandi"
                                },
                                {
                                    "InstructorFullName": "Whitaker, Chastity"
                                },
                                {
                                    "InstructorFullName": "Whitcraft, David"
                                },
                                {
                                    "InstructorFullName": "Whitehead, Jennifer"
                                },
                                {
                                    "InstructorFullName": "Wiener, David"
                                },
                                {
                                    "InstructorFullName": "Wilbourne, Emily"
                                },
                                {
                                    "InstructorFullName": "Williams, Gregory"
                                },
                                {
                                    "InstructorFullName": "Williams, Karen"
                                },
                                {
                                    "InstructorFullName": "Williams, Nicholas"
                                },
                                {
                                    "InstructorFullName": "Wilson, Ryan"
                                },
                                {
                                    "InstructorFullName": "Wilson, Scott"
                                },
                                {
                                    "InstructorFullName": "Winarick, Daniel"
                                },
                                {
                                    "InstructorFullName": "Winks, Christopher"
                                },
                                {
                                    "InstructorFullName": "Wintermute, Bobby"
                                },
                                {
                                    "InstructorFullName": "Withanachchi, Vishni"
                                },
                                {
                                    "InstructorFullName": "Witty, Allison"
                                },
                                {
                                    "InstructorFullName": "Wolf-Sonkin, Valerie"
                                },
                                {
                                    "InstructorFullName": "Woll, Heidi"
                                },
                                {
                                    "InstructorFullName": "Won, Annie"
                                },
                                {
                                    "InstructorFullName": "Wong, David"
                                },
                                {
                                    "InstructorFullName": "Woo, Danne"
                                },
                                {
                                    "InstructorFullName": "Wood, Mitchell"
                                },
                                {
                                    "InstructorFullName": "Woodfin, Warren"
                                },
                                {
                                    "InstructorFullName": "Wozniak, Sandra"
                                },
                                {
                                    "InstructorFullName": "Wu Lohez, Dening"
                                },
                                {
                                    "InstructorFullName": "Wu, Rong"
                                },
                                {
                                    "InstructorFullName": "Wu, Shuheng"
                                },
                                {
                                    "InstructorFullName": "Wu, Yi-Chun"
                                },
                                {
                                    "InstructorFullName": "Wuebker, Erin"
                                },
                                {
                                    "InstructorFullName": "Xiang, Zhigang"
                                },
                                {
                                    "InstructorFullName": "Xiao, Jian"
                                },
                                {
                                    "InstructorFullName": "Yang, Kangmei"
                                },
                                {
                                    "InstructorFullName": "Yeh, Jackson"
                                },
                                {
                                    "InstructorFullName": "Yelnykov, Oleksandr"
                                },
                                {
                                    "InstructorFullName": "Yi, Chuixiang"
                                },
                                {
                                    "InstructorFullName": "Yildirim, Gozde"
                                },
                                {
                                    "InstructorFullName": "Yim, Se Jung"
                                },
                                {
                                    "InstructorFullName": "Yong, Namseok"
                                },
                                {
                                    "InstructorFullName": "Yoo, Sori"
                                },
                                {
                                    "InstructorFullName": "Young, Jessica"
                                },
                                {
                                    "InstructorFullName": "Young, Serinity"
                                },
                                {
                                    "InstructorFullName": "Yuan, Changhe"
                                },
                                {
                                    "InstructorFullName": "Yukawa, Keitaro"
                                },
                                {
                                    "InstructorFullName": "Yun, Joong Min"
                                },
                                {
                                    "InstructorFullName": "Zakeri, Saeed"
                                },
                                {
                                    "InstructorFullName": "Zakeri, Zahra"
                                },
                                {
                                    "InstructorFullName": "Zamorska, Krystyna"
                                },
                                {
                                    "InstructorFullName": "Zapf, Michael"
                                },
                                {
                                    "InstructorFullName": "Zarnowski, Myra"
                                },
                                {
                                    "InstructorFullName": "Zender, Daniel"
                                },
                                {
                                    "InstructorFullName": "Zevin, Iris"
                                },
                                {
                                    "InstructorFullName": "Zhang, Jia Xuan"
                                },
                                {
                                    "InstructorFullName": "Zhao, Ying"
                                },
                                {
                                    "InstructorFullName": "Zimroth, Evan"
                                },
                                {
                                    "InstructorFullName": "Zwilling, Amanda"
                                }
                            ]
                        },
                        "text/html": [
                            "<table>",
                            "<tr><th>InstructorFullName</th></tr>",
                            "<tr><td>Abd-Elhafez, Alaa</td></tr>",
                            "<tr><td>Abeyweera, Thushara</td></tr>",
                            "<tr><td>Abrams, Brian</td></tr>",
                            "<tr><td>Abrams, Catherine</td></tr>",
                            "<tr><td>Abrego Jr., Raul</td></tr>",
                            "<tr><td>Abrell, Elan</td></tr>",
                            "<tr><td>Abreu, Andy</td></tr>",
                            "<tr><td>Abreu, Dorian</td></tr>",
                            "<tr><td>Ackerman, Judith</td></tr>",
                            "<tr><td>Ackerman, Tsippa</td></tr>",
                            "<tr><td>Acosta Alamo, Marlen</td></tr>",
                            "<tr><td>Adams, Emily</td></tr>",
                            "<tr><td>Adler, David</td></tr>",
                            "<tr><td>Adrian, Moshe</td></tr>",
                            "<tr><td>Aftergood, Joshua</td></tr>",
                            "<tr><td>Agbeyegbe, Omayemi</td></tr>",
                            "<tr><td>Agnew, Charlene</td></tr>",
                            "<tr><td>Agostini, Emanuela</td></tr>",
                            "<tr><td>Aharonoff, Abraham</td></tr>",
                            "<tr><td>Ahn, Dongmyung</td></tr>",
                            "<tr><td>Alaimo, Christina</td></tr>",
                            "<tr><td>Alexiou, Nicholas</td></tr>",
                            "<tr><td>Ali, Ashna</td></tr>",
                            "<tr><td>Ali, Meimona</td></tr>",
                            "<tr><td>Alim, Jasmin</td></tr>",
                            "<tr><td>Alkins, Kimberley</td></tr>",
                            "<tr><td>Allen, Joel</td></tr>",
                            "<tr><td>Allen, Victoria</td></tr>",
                            "<tr><td>Alryyes, Ala</td></tr>",
                            "<tr><td>Alteras, Isaac</td></tr>",
                            "<tr><td>Altman, Alexander</td></tr>",
                            "<tr><td>Altman, Julie</td></tr>",
                            "<tr><td>Altman, Melinda</td></tr>",
                            "<tr><td>Alves, Jorge</td></tr>",
                            "<tr><td>Amatulli, Rosa</td></tr>",
                            "<tr><td>Ament, Jonathon</td></tr>",
                            "<tr><td>An, Guozhen</td></tr>",
                            "<tr><td>Anadon, Jose</td></tr>",
                            "<tr><td>Anderson, Lindsay</td></tr>",
                            "<tr><td>Anderson, William</td></tr>",
                            "<tr><td>Anson-Cartwright, Mark</td></tr>",
                            "<tr><td>Antonov, Sergei</td></tr>",
                            "<tr><td>Aomori, Yoshio</td></tr>",
                            "<tr><td>Aprile, Andrew</td></tr>",
                            "<tr><td>Argue, Darcy</td></tr>",
                            "<tr><td>Argyros, Maria</td></tr>",
                            "<tr><td>Armacost, Timothy</td></tr>",
                            "<tr><td>Artzt, Alice</td></tr>",
                            "<tr><td>Ashton, Hilarie</td></tr>",
                            "<tr><td>Atamer, Esra</td></tr>",
                            "<tr><td>Aufenanger, Mary</td></tr>",
                            "<tr><td>Avitsur, Haim</td></tr>",
                            "<tr><td>Azzollini, Ann</td></tr>",
                            "<tr><td>Bacchus, Nazreen</td></tr>",
                            "<tr><td>Baghban, Marcia</td></tr>",
                            "<tr><td>Bahri, Soubeika</td></tr>",
                            "<tr><td>Bailey, Lauren</td></tr>",
                            "<tr><td>Baker, Mitchell</td></tr>",
                            "<tr><td>Balkaran, Dianand</td></tr>",
                            "<tr><td>Ball, Karen</td></tr>",
                            "<tr><td>Balnova, Natalya</td></tr>",
                            "<tr><td>Balsam, Kevin</td></tr>",
                            "<tr><td>Barahmand, Usha</td></tr>",
                            "<tr><td>Baren, Alison</td></tr>",
                            "<tr><td>Barone, Ernest</td></tr>",
                            "<tr><td>Barone, Toni Ann</td></tr>",
                            "<tr><td>Barton, Scott</td></tr>",
                            "<tr><td>Bass, Chloe</td></tr>",
                            "<tr><td>Bauer, Sara</td></tr>",
                            "<tr><td>Baum, Joy</td></tr>",
                            "<tr><td>Bazant, Jan</td></tr>",
                            "<tr><td>Beeler, Jeff</td></tr>",
                            "<tr><td>Belfield, Clive</td></tr>",
                            "<tr><td>Bembenutty, Hefer</td></tr>",
                            "<tr><td>Bemporad, Elissa</td></tr>",
                            "<tr><td>Benchimol, Judith</td></tr>",
                            "<tr><td>Benjamin, Ranjitkumar</td></tr>",
                            "<tr><td>Benson, Rodney</td></tr>",
                            "<tr><td>Ben-Yakar, Taly</td></tr>",
                            "<tr><td>Berger, Kirsten</td></tr>",
                            "<tr><td>Bergey, Bradley</td></tr>",
                            "<tr><td>Berkman, David</td></tr>",
                            "<tr><td>Berman, Amy</td></tr>",
                            "<tr><td>Berman, Gary</td></tr>",
                            "<tr><td>Bernard, Lisa</td></tr>",
                            "<tr><td>Bernstein, Eve</td></tr>",
                            "<tr><td>Bernstein, Melvin</td></tr>",
                            "<tr><td>Bhagat, Renu</td></tr>",
                            "<tr><td>Bhairam-Raza, Gita</td></tr>",
                            "<tr><td>Bhattacharya, Alpana</td></tr>",
                            "<tr><td>Bian, Kaikai</td></tr>",
                            "<tr><td>Biber, Julia</td></tr>",
                            "<tr><td>Biddle, Brenda</td></tr>",
                            "<tr><td>Biegel, Jeffrey</td></tr>",
                            "<tr><td>Bilan, Jacqueline</td></tr>",
                            "<tr><td>Billado, Tracey</td></tr>",
                            "<tr><td>Binyaminov, Olga</td></tr>",
                            "<tr><td>Biondi, Maria</td></tr>",
                            "<tr><td>Bird, Jeffrey</td></tr>",
                            "<tr><td>Birth, Kevin</td></tr>",
                            "<tr><td>Black, Ryan</td></tr>",
                            "<tr><td>Bligh, Pamela</td></tr>",
                            "<tr><td>Bodenstein, Jan</td></tr>",
                            "<tr><td>Bodnar, Richard</td></tr>",
                            "<tr><td>Boehmcke, Suzanne</td></tr>",
                            "<tr><td>Boghosian, Stella</td></tr>",
                            "<tr><td>Boklan, Kent</td></tr>",
                            "<tr><td>Bollenback, Paul</td></tr>",
                            "<tr><td>Bonilla, Luis</td></tr>",
                            "<tr><td>Bonomo, Carl</td></tr>",
                            "<tr><td>Boodaghian, Arthur</td></tr>",
                            "<tr><td>Bourgoin, Michael</td></tr>",
                            "<tr><td>Boyd, Julie</td></tr>",
                            "<tr><td>Braude, Arie</td></tr>",
                            "<tr><td>Bregoli, Francesca</td></tr>",
                            "<tr><td>Bremner, Francesca</td></tr>",
                            "<tr><td>Brewer, Alexis</td></tr>",
                            "<tr><td>Brodsky, Julia</td></tr>",
                            "<tr><td>Brody, Roberta</td></tr>",
                            "<tr><td>Broges, Adele</td></tr>",
                            "<tr><td>Brown, Fredda</td></tr>",
                            "<tr><td>Brown, Jennifer</td></tr>",
                            "<tr><td>Brown, Royal</td></tr>",
                            "<tr><td>Brown, Theodore</td></tr>",
                            "<tr><td>Brown, Todd</td></tr>",
                            "<tr><td>Browne, Basil</td></tr>",
                            "<tr><td>Brumbaugh, Claudia</td></tr>",
                            "<tr><td>Brumberg, Joshua</td></tr>",
                            "<tr><td>Bruno, Gregory</td></tr>",
                            "<tr><td>Buccellato, Thomas</td></tr>",
                            "<tr><td>Burgstaller, Josef</td></tr>",
                            "<tr><td>Burrows, Lourdes</td></tr>",
                            "<tr><td>Burstein, Harvey</td></tr>",
                            "<tr><td>Caamano, Juan</td></tr>",
                            "<tr><td>Caccamo, Victoria</td></tr>",
                            "<tr><td>Caccavale, Teresa</td></tr>",
                            "<tr><td>Cadieu, Fred</td></tr>",
                            "<tr><td>Calandra, Peter</td></tr>",
                            "<tr><td>Callis, Cathy</td></tr>",
                            "<tr><td>Calvet, Dana</td></tr>",
                            "<tr><td>Candelo-Londono, Natalia</td></tr>",
                            "<tr><td>Capetanos, Anastasia</td></tr>",
                            "<tr><td>Cappello, Lawrence</td></tr>",
                            "<tr><td>Caraballo, Limarys</td></tr>",
                            "<tr><td>Carr, Nora</td></tr>",
                            "<tr><td>Carris, Patricia</td></tr>",
                            "<tr><td>Carroll, Clare</td></tr>",
                            "<tr><td>Carvalho Macedo, Isabela</td></tr>",
                            "<tr><td>Casco, Monica</td></tr>",
                            "<tr><td>Case, Dyanne</td></tr>",
                            "<tr><td>Cassano-Repole, Michelle</td></tr>",
                            "<tr><td>Cassvan, Jeffrey</td></tr>",
                            "<tr><td>Catalano, Linda</td></tr>",
                            "<tr><td>Catalano, Victoria</td></tr>",
                            "<tr><td>Catsambis, Sophia</td></tr>",
                            "<tr><td>Cedeira Serantes, Lucia</td></tr>",
                            "<tr><td>Celello, Kristin</td></tr>",
                            "<tr><td>Cermeli, Alana</td></tr>",
                            "<tr><td>Chan, Tsz</td></tr>",
                            "<tr><td>Charny, Allison</td></tr>",
                            "<tr><td>Chase, Nancy</td></tr>",
                            "<tr><td>Chauhan, Riddhi</td></tr>",
                            "<tr><td>Chaves, Carolina</td></tr>",
                            "<tr><td>Chavez, Monica</td></tr>",
                            "<tr><td>Checker, Melissa</td></tr>",
                            "<tr><td>Cheema, Saima</td></tr>",
                            "<tr><td>Chelliah, Birunda</td></tr>",
                            "<tr><td>Cheloukhina, Svetlana</td></tr>",
                            "<tr><td>Chen, Chao</td></tr>",
                            "<tr><td>Chen, Cong</td></tr>",
                            "<tr><td>Chen, Dianna</td></tr>",
                            "<tr><td>Chen, Tong</td></tr>",
                            "<tr><td>Chen, Yu</td></tr>",
                            "<tr><td>Chen, Yung-Chi</td></tr>",
                            "<tr><td>Cheng, Xiaojun</td></tr>",
                            "<tr><td>Cherico, Vincent</td></tr>",
                            "<tr><td>Chernov, Eric</td></tr>",
                            "<tr><td>Chernov, Konstantza</td></tr>",
                            "<tr><td>Cheshire, Scott</td></tr>",
                            "<tr><td>Chin Hong, Rose</td></tr>",
                            "<tr><td>Chinnan, Ashley</td></tr>",
                            "<tr><td>Cho, Chaeeoun</td></tr>",
                            "<tr><td>Cho, Dongho</td></tr>",
                            "<tr><td>Cho, Euna</td></tr>",
                            "<tr><td>Choi, Jimee</td></tr>",
                            "<tr><td>Choi, Jiyoung</td></tr>",
                            "<tr><td>Choi, Sung-Eun</td></tr>",
                            "<tr><td>Chouaib, Abderrahim</td></tr>",
                            "<tr><td>Chu, Seo-Young</td></tr>",
                            "<tr><td>Ciavarella, Peter</td></tr>",
                            "<tr><td>Ciccarelli, Emma</td></tr>",
                            "<tr><td>Ciolino Volano, Francesca</td></tr>",
                            "<tr><td>Clark, James</td></tr>",
                            "<tr><td>Clark, Kevin</td></tr>",
                            "<tr><td>Clark, William</td></tr>",
                            "<tr><td>Clarke, Anisha</td></tr>",
                            "<tr><td>Cloarec, Yves</td></tr>",
                            "<tr><td>Cohen, Joseph</td></tr>",
                            "<tr><td>Cohen, Nancy</td></tr>",
                            "<tr><td>Cohen, Paul</td></tr>",
                            "<tr><td>Cohen, Wayne</td></tr>",
                            "<tr><td>Colella, Cristianna</td></tr>",
                            "<tr><td>Colon, Paulina</td></tr>",
                            "<tr><td>Comfort, Gardiner</td></tr>",
                            "<tr><td>Consiglio, Clare</td></tr>",
                            "<tr><td>Cook, Lewis</td></tr>",
                            "<tr><td>Cooley, Nicole</td></tr>",
                            "<tr><td>Cooper Owens, Deirdre</td></tr>",
                            "<tr><td>Cooper Owens, Edward</td></tr>",
                            "<tr><td>Cordeiro, Catherine</td></tr>",
                            "<tr><td>Cornell, Julian</td></tr>",
                            "<tr><td>Cosby, Erika</td></tr>",
                            "<tr><td>Cossin, David</td></tr>",
                            "<tr><td>Costigan, Arthur</td></tr>",
                            "<tr><td>Courtadon, Georges</td></tr>",
                            "<tr><td>Covington, Sarah</td></tr>",
                            "<tr><td>Cowan, Elliot</td></tr>",
                            "<tr><td>Cox-Evans, Catherine</td></tr>",
                            "<tr><td>Crain, Matthew</td></tr>",
                            "<tr><td>Critchell, Yinmei</td></tr>",
                            "<tr><td>Crouse, Rose-Marie</td></tr>",
                            "<tr><td>Crowder, Michael</td></tr>",
                            "<tr><td>Crowe, Susan</td></tr>",
                            "<tr><td>Cuomo, Joseph</td></tr>",
                            "<tr><td>Curcio, Frances</td></tr>",
                            "<tr><td>D Costa, Celestina</td></tr>",
                            "<tr><td>Daniel, Evan</td></tr>",
                            "<tr><td>D&#39;Ateno, Patricia</td></tr>",
                            "<tr><td>Dauber, Nicky</td></tr>",
                            "<tr><td>David, Amy</td></tr>",
                            "<tr><td>Davidovits, Murray</td></tr>",
                            "<tr><td>Davie, Dorothy</td></tr>",
                            "<tr><td>Davis, Marshall</td></tr>",
                            "<tr><td>Davis, Susan</td></tr>",
                            "<tr><td>Davis-Kram, Harriet</td></tr>",
                            "<tr><td>Davison, Adam</td></tr>",
                            "<tr><td>Day, Matthew</td></tr>",
                            "<tr><td>De Cuba, Carlos</td></tr>",
                            "<tr><td>De Soyza, Tushini</td></tr>",
                            "<tr><td>Dealy, Michael</td></tr>",
                            "<tr><td>Deb, Basuli</td></tr>",
                            "<tr><td>Debora, David</td></tr>",
                            "<tr><td>Deckler, Meredith</td></tr>",
                            "<tr><td>Defelice, Andrea</td></tr>",
                            "<tr><td>Deleo, Joseph</td></tr>",
                            "<tr><td>Dennehy, John</td></tr>",
                            "<tr><td>Derosa, Andrew</td></tr>",
                            "<tr><td>Derosse, Pamela</td></tr>",
                            "<tr><td>Desai, Tarlika</td></tr>",
                            "<tr><td>Deych, Daniil</td></tr>",
                            "<tr><td>Deych, Lev</td></tr>",
                            "<tr><td>Diaz, Richard</td></tr>",
                            "<tr><td>Dignam, Arthur</td></tr>",
                            "<tr><td>Dilts, Anne</td></tr>",
                            "<tr><td>Dimitrakopoulos, Jim</td></tr>",
                            "<tr><td>Dionisio, Jabri</td></tr>",
                            "<tr><td>Dodson, Laura</td></tr>",
                            "<tr><td>Dolman, Christopher</td></tr>",
                            "<tr><td>Don, Eugene</td></tr>",
                            "<tr><td>Donato, Antonio</td></tr>",
                            "<tr><td>Dong, Xinlong</td></tr>",
                            "<tr><td>Dong, Yu</td></tr>",
                            "<tr><td>Donofrio, Pasquale</td></tr>",
                            "<tr><td>Doran, Erica</td></tr>",
                            "<tr><td>Doukhan, Abigail</td></tr>",
                            "<tr><td>Doyle, Donna</td></tr>",
                            "<tr><td>Dryer, Tracy</td></tr>",
                            "<tr><td>Dunn Davison, Megan</td></tr>",
                            "<tr><td>Dvora, Shira</td></tr>",
                            "<tr><td>Dyer, Glenn</td></tr>",
                            "<tr><td>Dytell, Robert</td></tr>",
                            "<tr><td>Eaton, Timothy</td></tr>",
                            "<tr><td>Ebner, Rosanne</td></tr>",
                            "<tr><td>Efstathiou, Constantine</td></tr>",
                            "<tr><td>Egan, Laura</td></tr>",
                            "<tr><td>Ehrlich, Yosefa</td></tr>",
                            "<tr><td>Einstein, Mara</td></tr>",
                            "<tr><td>Eisen, Carole</td></tr>",
                            "<tr><td>Eisman, Lawrence</td></tr>",
                            "<tr><td>Elan, Robert</td></tr>",
                            "<tr><td>Elisha, Omri</td></tr>",
                            "<tr><td>Ellis, John</td></tr>",
                            "<tr><td>Emerson, William</td></tr>",
                            "<tr><td>Emmett, Joseph</td></tr>",
                            "<tr><td>Engel, Robert</td></tr>",
                            "<tr><td>English, Hugh</td></tr>",
                            "<tr><td>Erlach, David</td></tr>",
                            "<tr><td>Erlbaum, Sharon</td></tr>",
                            "<tr><td>Esposito, Christopher</td></tr>",
                            "<tr><td>Esteban-Pretel, Julen</td></tr>",
                            "<tr><td>Ewing, Scott</td></tr>",
                            "<tr><td>Fadoul, Paul</td></tr>",
                            "<tr><td>Farber, Jeffrey</td></tr>",
                            "<tr><td>Farhood-Karasavva, Linda</td></tr>",
                            "<tr><td>Farrell, Elizabeth</td></tr>",
                            "<tr><td>Fasos, Sofia</td></tr>",
                            "<tr><td>Fath, Karl</td></tr>",
                            "<tr><td>Feder, Rhonda</td></tr>",
                            "<tr><td>Feeley, Francis</td></tr>",
                            "<tr><td>Feisullin, Anita</td></tr>",
                            "<tr><td>Feldman, Lawrence</td></tr>",
                            "<tr><td>Feldstein, Claudia</td></tr>",
                            "<tr><td>Feliciano, Zadia</td></tr>",
                            "<tr><td>Fenig, Beverly</td></tr>",
                            "<tr><td>Fernandez, Alvaro</td></tr>",
                            "<tr><td>Ferrara, Denise</td></tr>",
                            "<tr><td>Fiani, Theresa</td></tr>",
                            "<tr><td>Fienup, Daniel</td></tr>",
                            "<tr><td>Figelman, Robin</td></tr>",
                            "<tr><td>Finkelstein, Alan</td></tr>",
                            "<tr><td>Finkelstein, Elissa</td></tr>",
                            "<tr><td>Fiorile, Carol</td></tr>",
                            "<tr><td>Fischthal, Arnold</td></tr>",
                            "<tr><td>Fittante, Carlos</td></tr>",
                            "<tr><td>Fitzsimons, Sean</td></tr>",
                            "<tr><td>Flamhaft, Ziva</td></tr>",
                            "<tr><td>Flanagan, John</td></tr>",
                            "<tr><td>Fleetwood, Gordon</td></tr>",
                            "<tr><td>Fleming, Liselotte</td></tr>",
                            "<tr><td>Fluture, Simina</td></tr>",
                            "<tr><td>Forrest, Frances</td></tr>",
                            "<tr><td>Fouyer, Nathalie</td></tr>",
                            "<tr><td>Fraboni, Michelle</td></tr>",
                            "<tr><td>Frank, Barry</td></tr>",
                            "<tr><td>Frank, Morton</td></tr>",
                            "<tr><td>Franklin, Arnold</td></tr>",
                            "<tr><td>Franko, Layton</td></tr>",
                            "<tr><td>Frary, Barbara</td></tr>",
                            "<tr><td>Freundschuh, Aaron</td></tr>",
                            "<tr><td>Fried, Matthew</td></tr>",
                            "<tr><td>Fried, Michael</td></tr>",
                            "<tr><td>Froman, Ian</td></tr>",
                            "<tr><td>Fujimoto, Mari</td></tr>",
                            "<tr><td>Fuqua, Joy</td></tr>",
                            "<tr><td>Furnari, John</td></tr>",
                            "<tr><td>Gabel, David</td></tr>",
                            "<tr><td>Gafney, Harry</td></tr>",
                            "<tr><td>Gallucci, Maryann</td></tr>",
                            "<tr><td>Gandjian, Babak</td></tr>",
                            "<tr><td>Gangaram, Elliot</td></tr>",
                            "<tr><td>Gangji, Al-Karim</td></tr>",
                            "<tr><td>Garces, Daniel</td></tr>",
                            "<tr><td>Garcia, Kimberley</td></tr>",
                            "<tr><td>Garofalo, Salvatore</td></tr>",
                            "<tr><td>Gaska, Jonathan</td></tr>",
                            "<tr><td>Geizhals, Sara</td></tr>",
                            "<tr><td>Gelfand, Stanley</td></tr>",
                            "<tr><td>Geller, Frances</td></tr>",
                            "<tr><td>Genack, Azriel</td></tr>",
                            "<tr><td>Genao, Soribel</td></tr>",
                            "<tr><td>George, Julie</td></tr>",
                            "<tr><td>Gerwin, David</td></tr>",
                            "<tr><td>Ghatak, Ronita</td></tr>",
                            "<tr><td>Gherghi, Lucian</td></tr>",
                            "<tr><td>Ghosh Roy, Sounak</td></tr>",
                            "<tr><td>Giardina, Carol</td></tr>",
                            "<tr><td>Giberti, George</td></tr>",
                            "<tr><td>Gibson, Lenwood</td></tr>",
                            "<tr><td>Gigante, Monica</td></tr>",
                            "<tr><td>Gill, Harsangeet</td></tr>",
                            "<tr><td>Gillman, Paula</td></tr>",
                            "<tr><td>Gimbel, Betty</td></tr>",
                            "<tr><td>Girod, Francesca</td></tr>",
                            "<tr><td>Gjicali, Kalina</td></tr>",
                            "<tr><td>Glass, Peter</td></tr>",
                            "<tr><td>Gloster, Daniel</td></tr>",
                            "<tr><td>Goldberg, Barry</td></tr>",
                            "<tr><td>Goldberg, David</td></tr>",
                            "<tr><td>Goldberg, Glenn</td></tr>",
                            "<tr><td>Goldberg, Robert</td></tr>",
                            "<tr><td>Goldberg, Teresia</td></tr>",
                            "<tr><td>Goldhaber, Sue</td></tr>",
                            "<tr><td>Goldman, Steven</td></tr>",
                            "<tr><td>Gomez, Ingrid</td></tr>",
                            "<tr><td>Gonzalez, Alan</td></tr>",
                            "<tr><td>Gonzalez, Mabel</td></tr>",
                            "<tr><td>Gonzalez, Teresa</td></tr>",
                            "<tr><td>Gorelick, Michael</td></tr>",
                            "<tr><td>Goswami, Mayank</td></tr>",
                            "<tr><td>Gouede, Karen</td></tr>",
                            "<tr><td>Granieri, Krista</td></tr>",
                            "<tr><td>Greco, Matthew</td></tr>",
                            "<tr><td>Greenberg, Aryeh</td></tr>",
                            "<tr><td>Greenberg, Ross</td></tr>",
                            "<tr><td>Greene, Vilma</td></tr>",
                            "<tr><td>Greenman, Jennifer</td></tr>",
                            "<tr><td>Greiner, Mary</td></tr>",
                            "<tr><td>Grella, Dustin</td></tr>",
                            "<tr><td>Grey, Leslee</td></tr>",
                            "<tr><td>Grier, Miles</td></tr>",
                            "<tr><td>Grover, Stephen</td></tr>",
                            "<tr><td>Gruber, Deborah</td></tr>",
                            "<tr><td>Gruber, Debra</td></tr>",
                            "<tr><td>Gruza, Marvin</td></tr>",
                            "<tr><td>Guadalupe, Julieanne</td></tr>",
                            "<tr><td>Guendoo, Leon</td></tr>",
                            "<tr><td>Gulley, Hillary</td></tr>",
                            "<tr><td>Gurl, Theresa</td></tr>",
                            "<tr><td>Hackett, Kristen</td></tr>",
                            "<tr><td>Haddican, William</td></tr>",
                            "<tr><td>Hadi, Syeda</td></tr>",
                            "<tr><td>Hanlon, Martin</td></tr>",
                            "<tr><td>Hanson, Derek</td></tr>",
                            "<tr><td>Hantzandreou, Katerina</td></tr>",
                            "<tr><td>Harmey, Sinead</td></tr>",
                            "<tr><td>Harris, Jessica</td></tr>",
                            "<tr><td>Harris, Steven</td></tr>",
                            "<tr><td>Hart, Antonio</td></tr>",
                            "<tr><td>Hart, William</td></tr>",
                            "<tr><td>Hastings, Elizabeth</td></tr>",
                            "<tr><td>Hauptman, Ira</td></tr>",
                            "<tr><td>Hayley, Jared</td></tr>",
                            "<tr><td>Healey, Meghan</td></tr>",
                            "<tr><td>Heffernan, Lauren</td></tr>",
                            "<tr><td>Heller, Peter</td></tr>",
                            "<tr><td>Hendrey, George</td></tr>",
                            "<tr><td>Herman, Ariela</td></tr>",
                            "<tr><td>Hersh, William</td></tr>",
                            "<tr><td>Herzog, Amy</td></tr>",
                            "<tr><td>Hickey, Andrew</td></tr>",
                            "<tr><td>Hickok, John</td></tr>",
                            "<tr><td>Hitzig, Neal</td></tr>",
                            "<tr><td>Ho, Jay</td></tr>",
                            "<tr><td>Ho, Sin-Ying</td></tr>",
                            "<tr><td>Hoehn, Harry</td></tr>",
                            "<tr><td>Holtzman, Nathalia</td></tr>",
                            "<tr><td>Hong, Caroline</td></tr>",
                            "<tr><td>Hoover, Robert</td></tr>",
                            "<tr><td>Hornung, David</td></tr>",
                            "<tr><td>Hosseini, Pariskeh</td></tr>",
                            "<tr><td>Huang, Qianyun (Ivy)</td></tr>",
                            "<tr><td>Huang, Xiu</td></tr>",
                            "<tr><td>Huber, Frank</td></tr>",
                            "<tr><td>Hughes, Mamori</td></tr>",
                            "<tr><td>Hull, Geordan</td></tr>",
                            "<tr><td>Humera, Fathima</td></tr>",
                            "<tr><td>Hung, Yaching</td></tr>",
                            "<tr><td>Husain, Abbas</td></tr>",
                            "<tr><td>Hussain, Sabrina</td></tr>",
                            "<tr><td>Hwang, Dae-Yeop</td></tr>",
                            "<tr><td>Ijalba, Elizabeth</td></tr>",
                            "<tr><td>Ilyayev, Reuven</td></tr>",
                            "<tr><td>Indergaard, Fumiko</td></tr>",
                            "<tr><td>Izquierdo, Sally</td></tr>",
                            "<tr><td>Jackman, George</td></tr>",
                            "<tr><td>Jacobs, Ruth</td></tr>",
                            "<tr><td>Jaffe, Violetta</td></tr>",
                            "<tr><td>Janash, Daniel</td></tr>",
                            "<tr><td>Jang, Seogjoo</td></tr>",
                            "<tr><td>Jasti, Sunitha</td></tr>",
                            "<tr><td>Jiang, Yunping</td></tr>",
                            "<tr><td>Jin, Ye</td></tr>",
                            "<tr><td>Jofat, David</td></tr>",
                            "<tr><td>John, Emily</td></tr>",
                            "<tr><td>John, James</td></tr>",
                            "<tr><td>Johnson, Aubrey</td></tr>",
                            "<tr><td>Johnson, Paulette</td></tr>",
                            "<tr><td>Johnson, Timothy</td></tr>",
                            "<tr><td>Jolley, David</td></tr>",
                            "<tr><td>Jones, Emily</td></tr>",
                            "<tr><td>Jordan, Jake</td></tr>",
                            "<tr><td>Jordan, James</td></tr>",
                            "<tr><td>Joseph, Michael</td></tr>",
                            "<tr><td>Julmisse, Evelyn</td></tr>",
                            "<tr><td>Juva, John</td></tr>",
                            "<tr><td>Kabir, Humayun</td></tr>",
                            "<tr><td>Kabir, Muhammad</td></tr>",
                            "<tr><td>Kabuto, Bobbie</td></tr>",
                            "<tr><td>Kahan, Harry</td></tr>",
                            "<tr><td>Kahan, Steven</td></tr>",
                            "<tr><td>Kalamaras, Jimmy</td></tr>",
                            "<tr><td>Kalra, Priya</td></tr>",
                            "<tr><td>Kang, Jung Min</td></tr>",
                            "<tr><td>Kang, Yuhao</td></tr>",
                            "<tr><td>Kanze, Bruce</td></tr>",
                            "<tr><td>Kapelner, Adam</td></tr>",
                            "<tr><td>Kaplan, Burton</td></tr>",
                            "<tr><td>Kapsis, Robert</td></tr>",
                            "<tr><td>Kapuscinski, Scott</td></tr>",
                            "<tr><td>Karol, Diane</td></tr>",
                            "<tr><td>Katsan, Gerasimus</td></tr>",
                            "<tr><td>Katz, Heather</td></tr>",
                            "<tr><td>Kauper, Kurt</td></tr>",
                            "<tr><td>Keane, Alice</td></tr>",
                            "<tr><td>Keem, Marie</td></tr>",
                            "<tr><td>Keen, Danielle</td></tr>",
                            "<tr><td>Kerson, Marleen</td></tr>",
                            "<tr><td>Kesler, Theodore</td></tr>",
                            "<tr><td>Kessar, Nathaniel</td></tr>",
                            "<tr><td>Khalil, Andrea</td></tr>",
                            "<tr><td>Khan, Akhtar</td></tr>",
                            "<tr><td>Khan, Areej</td></tr>",
                            "<tr><td>Kibirige, Harry</td></tr>",
                            "<tr><td>Killeaney, Richard</td></tr>",
                            "<tr><td>Kim, Albert</td></tr>",
                            "<tr><td>Kim, Chin</td></tr>",
                            "<tr><td>Kim, Ji Young</td></tr>",
                            "<tr><td>Kim, Jinyo</td></tr>",
                            "<tr><td>Kim, Sun</td></tr>",
                            "<tr><td>Kimatov, Mikhail</td></tr>",
                            "<tr><td>Kimerling, Judith</td></tr>",
                            "<tr><td>Kirschner, David</td></tr>",
                            "<tr><td>Kisilevsky, Sari</td></tr>",
                            "<tr><td>Klein, Coby</td></tr>",
                            "<tr><td>Klorman, Edward</td></tr>",
                            "<tr><td>Klosin, Krzysztof</td></tr>",
                            "<tr><td>Knable, Sunny</td></tr>",
                            "<tr><td>Ko, Seong Yeon</td></tr>",
                            "<tr><td>Kong, Tatyung</td></tr>",
                            "<tr><td>Korobkin, Dmitriy</td></tr>",
                            "<tr><td>Koroveshi, Blendi</td></tr>",
                            "<tr><td>Kostel, Andrew</td></tr>",
                            "<tr><td>Kostopoulos, Ioannis</td></tr>",
                            "<tr><td>Kourassanis-Velasquez, Jennifer</td></tr>",
                            "<tr><td>Kouris, James</td></tr>",
                            "<tr><td>Kowalczyk, Marta</td></tr>",
                            "<tr><td>Kramer, Kenneth</td></tr>",
                            "<tr><td>Krasner, Michael</td></tr>",
                            "<tr><td>Krause, William</td></tr>",
                            "<tr><td>Krekeler, Daniel</td></tr>",
                            "<tr><td>Kuhn, Susan</td></tr>",
                            "<tr><td>Kumar, Sanjai</td></tr>",
                            "<tr><td>Kumar, Vijay</td></tr>",
                            "<tr><td>Kupersmid, Debora</td></tr>",
                            "<tr><td>Kwon, Alice</td></tr>",
                            "<tr><td>Kyle, Jennifer</td></tr>",
                            "<tr><td>Lacy, Michael</td></tr>",
                            "<tr><td>Lahijani, Richard</td></tr>",
                            "<tr><td>Lahti, David</td></tr>",
                            "<tr><td>Lamela Lopez, Raquel</td></tr>",
                            "<tr><td>Land, Marianne</td></tr>",
                            "<tr><td>Landau, Gerald</td></tr>",
                            "<tr><td>Lane, Barbara</td></tr>",
                            "<tr><td>Larian, Laurin</td></tr>",
                            "<tr><td>Larson, Scott</td></tr>",
                            "<tr><td>Larsson, Anna</td></tr>",
                            "<tr><td>Laurenson, David</td></tr>",
                            "<tr><td>Lawley, Elizabeth</td></tr>",
                            "<tr><td>Le, Tony</td></tr>",
                            "<tr><td>Lee, Christopher</td></tr>",
                            "<tr><td>Lee, Dan</td></tr>",
                            "<tr><td>Lee, David</td></tr>",
                            "<tr><td>Lee, Do</td></tr>",
                            "<tr><td>Lee, Hye Su</td></tr>",
                            "<tr><td>Lee, Keum Sook</td></tr>",
                            "<tr><td>Lee, Kok Teng</td></tr>",
                            "<tr><td>Lee, Michelle I-Hui</td></tr>",
                            "<tr><td>Lehman, Eric</td></tr>",
                            "<tr><td>Leibowicz, Barry</td></tr>",
                            "<tr><td>Leites, Edmund</td></tr>",
                            "<tr><td>Lelchuk, Nina</td></tr>",
                            "<tr><td>Lemonda, Thomas</td></tr>",
                            "<tr><td>Lennon, Patricia</td></tr>",
                            "<tr><td>Lenzer, Janice</td></tr>",
                            "<tr><td>Lev, Lara</td></tr>",
                            "<tr><td>Leventhal, David</td></tr>",
                            "<tr><td>Leventhal, Julie Clarissa</td></tr>",
                            "<tr><td>Leventhal, Steven</td></tr>",
                            "<tr><td>Levin, Irina</td></tr>",
                            "<tr><td>Levine, Marc</td></tr>",
                            "<tr><td>Lewis, Norman</td></tr>",
                            "<tr><td>Lewis, Philip</td></tr>",
                            "<tr><td>Li, Andrea</td></tr>",
                            "<tr><td>Li, Changlin</td></tr>",
                            "<tr><td>Li, Nan</td></tr>",
                            "<tr><td>Li, Ping</td></tr>",
                            "<tr><td>Li, Xiao</td></tr>",
                            "<tr><td>Li, Xuemeng</td></tr>",
                            "<tr><td>Liberman, Peter</td></tr>",
                            "<tr><td>Lieb, Nathaniel</td></tr>",
                            "<tr><td>Liebovitch, Larry</td></tr>",
                            "<tr><td>Lin, Chiao-Han</td></tr>",
                            "<tr><td>Lin, Esther</td></tr>",
                            "<tr><td>Lin, Xiaoting</td></tr>",
                            "<tr><td>Link-Harrington, Agnes</td></tr>",
                            "<tr><td>Linn, David</td></tr>",
                            "<tr><td>Lipsey, Michael</td></tr>",
                            "<tr><td>Lipsitz, Keena</td></tr>",
                            "<tr><td>Lipyanskiy, Mikhail</td></tr>",
                            "<tr><td>Liu, Gaoquan</td></tr>",
                            "<tr><td>Liu, Jianbo</td></tr>",
                            "<tr><td>Liu, John Chun Yah</td></tr>",
                            "<tr><td>Liu, Zong Wang</td></tr>",
                            "<tr><td>Llorens, Irma</td></tr>",
                            "<tr><td>Loftus, Grace</td></tr>",
                            "<tr><td>Loizos, Maria</td></tr>",
                            "<tr><td>London, Michael</td></tr>",
                            "<tr><td>Longpre, Marc-Antoine</td></tr>",
                            "<tr><td>Look, Edward</td></tr>",
                            "<tr><td>Lord, Kenneth</td></tr>",
                            "<tr><td>Love, Lori</td></tr>",
                            "<tr><td>Lozada, Joseph</td></tr>",
                            "<tr><td>Luckett, Moya</td></tr>",
                            "<tr><td>Ludman, Allan</td></tr>",
                            "<tr><td>Luo, Fang</td></tr>",
                            "<tr><td>Lupia, Luann</td></tr>",
                            "<tr><td>Ma, Li</td></tr>",
                            "<tr><td>Ma, Pokay</td></tr>",
                            "<tr><td>Ma, Shaoying</td></tr>",
                            "<tr><td>Ma, Xujun</td></tr>",
                            "<tr><td>Ma, Zhen</td></tr>",
                            "<tr><td>Macdonald, Weldon</td></tr>",
                            "<tr><td>Macdougall Iii, Malcolm</td></tr>",
                            "<tr><td>Mackey, Jacob</td></tr>",
                            "<tr><td>Mackie, Lisa</td></tr>",
                            "<tr><td>Mackrel, Dennis</td></tr>",
                            "<tr><td>Madeira, Mary Anne</td></tr>",
                            "<tr><td>Madimenos, Felicia</td></tr>",
                            "<tr><td>Maerhofer, John</td></tr>",
                            "<tr><td>Mahavadi, Krishna</td></tr>",
                            "<tr><td>Mahendran, Thiruvarangan</td></tr>",
                            "<tr><td>Maki, Masayuki</td></tr>",
                            "<tr><td>Malagon, Anthony</td></tr>",
                            "<tr><td>Maller, Michael</td></tr>",
                            "<tr><td>Mancini, Elena</td></tr>",
                            "<tr><td>Mancusi, Marianne</td></tr>",
                            "<tr><td>Mandelkorn, Steven</td></tr>",
                            "<tr><td>Manfredo, Roberta</td></tr>",
                            "<tr><td>Mangiapanello, Kathleen</td></tr>",
                            "<tr><td>Manheim, Gale</td></tr>",
                            "<tr><td>Manson, Douglas</td></tr>",
                            "<tr><td>Marest, Luc</td></tr>",
                            "<tr><td>Markowitz, Elena</td></tr>",
                            "<tr><td>Maroko, Richard</td></tr>",
                            "<tr><td>Marsh, Jeffrey</td></tr>",
                            "<tr><td>Marshall, Cara</td></tr>",
                            "<tr><td>Martin, Charles</td></tr>",
                            "<tr><td>Martin, Joseph</td></tr>",
                            "<tr><td>Martinez, Magen</td></tr>",
                            "<tr><td>Martineztorrejon, Jose</td></tr>",
                            "<tr><td>Marzec, Amelia</td></tr>",
                            "<tr><td>Maskovsky, Jeff</td></tr>",
                            "<tr><td>Mason, Zachary</td></tr>",
                            "<tr><td>Mauceri, Nina</td></tr>",
                            "<tr><td>Maurer, Eli</td></tr>",
                            "<tr><td>Maxwell, Richard</td></tr>",
                            "<tr><td>Mazzo, Mark</td></tr>",
                            "<tr><td>Mccarthy, Sheryl</td></tr>",
                            "<tr><td>Mcclean, Kelly</td></tr>",
                            "<tr><td>Mccormick, Gavin</td></tr>",
                            "<tr><td>Mcdonnell, Myles</td></tr>",
                            "<tr><td>Mcelwaine, James</td></tr>",
                            "<tr><td>Mcgonnell, Carol</td></tr>",
                            "<tr><td>Melendez, Alicia</td></tr>",
                            "<tr><td>Mendenhall, Judith</td></tr>",
                            "<tr><td>Mengiste, Maaza</td></tr>",
                            "<tr><td>Menken, Kate</td></tr>",
                            "<tr><td>Mentzer, Amanda</td></tr>",
                            "<tr><td>Meric, Alexandra</td></tr>",
                            "<tr><td>Mesa-Pelly, Deborah</td></tr>",
                            "<tr><td>Metas, Nick</td></tr>",
                            "<tr><td>Metton, Bertrand</td></tr>",
                            "<tr><td>Miceli, Salvatore</td></tr>",
                            "<tr><td>Michael-Luna, Sara</td></tr>",
                            "<tr><td>Micic, Dragana</td></tr>",
                            "<tr><td>Milchman, Alan</td></tr>",
                            "<tr><td>Milich, Marvin</td></tr>",
                            "<tr><td>Milks, Megan</td></tr>",
                            "<tr><td>Miller, David</td></tr>",
                            "<tr><td>Miller, Denise</td></tr>",
                            "<tr><td>Miller, Joanne</td></tr>",
                            "<tr><td>Miller, Russell</td></tr>",
                            "<tr><td>Milo, Michael</td></tr>",
                            "<tr><td>Miner, Patricia</td></tr>",
                            "<tr><td>Minielli, Gina</td></tr>",
                            "<tr><td>Mintz, Seymour</td></tr>",
                            "<tr><td>Mirkin, Michael</td></tr>",
                            "<tr><td>Mitchell, Karl</td></tr>",
                            "<tr><td>Mitchell, Tyrone</td></tr>",
                            "<tr><td>Mitra, Sudeb</td></tr>",
                            "<tr><td>Mitsel, Rita</td></tr>",
                            "<tr><td>Moe, May Myat</td></tr>",
                            "<tr><td>Mohamed, Abeer</td></tr>",
                            "<tr><td>Moncada-Davidson, Lillian</td></tr>",
                            "<tr><td>Mondal, Dhiman</td></tr>",
                            "<tr><td>Monroy, Juan</td></tr>",
                            "<tr><td>Montana, Monica</td></tr>",
                            "<tr><td>Montana, Omar</td></tr>",
                            "<tr><td>Montero Mercedes, Angel</td></tr>",
                            "<tr><td>Moore, Barbara</td></tr>",
                            "<tr><td>Moreland, Wayne</td></tr>",
                            "<tr><td>Moreno, Louis</td></tr>",
                            "<tr><td>Moreno, Michael</td></tr>",
                            "<tr><td>Moretti, Jesselisa</td></tr>",
                            "<tr><td>Morgenstern, Fay</td></tr>",
                            "<tr><td>Mossman, Michael</td></tr>",
                            "<tr><td>Moudrov, Alexandre</td></tr>",
                            "<tr><td>Mozeiko, Kristin</td></tr>",
                            "<tr><td>Muehlbauer, Esther</td></tr>",
                            "<tr><td>Mukherjee, Roopali</td></tr>",
                            "<tr><td>Mulford, Anne</td></tr>",
                            "<tr><td>Mulone, Jacqueline</td></tr>",
                            "<tr><td>Muraskin, William</td></tr>",
                            "<tr><td>Mustaque, Md Sharif</td></tr>",
                            "<tr><td>Musuraca, Michael</td></tr>",
                            "<tr><td>Myers, Elissa</td></tr>",
                            "<tr><td>Myers, Thomas</td></tr>",
                            "<tr><td>Myrthil, Raymond</td></tr>",
                            "<tr><td>Nagy, David</td></tr>",
                            "<tr><td>Nakayama, Akina</td></tr>",
                            "<tr><td>Namkoong, Younju</td></tr>",
                            "<tr><td>Nandin, Phillip</td></tr>",
                            "<tr><td>Nazerian, Arda</td></tr>",
                            "<tr><td>Nduka, Uchenna</td></tr>",
                            "<tr><td>Neidich, Charles</td></tr>",
                            "<tr><td>Nelson, Rebecca</td></tr>",
                            "<tr><td>Neufeld, Joshua</td></tr>",
                            "<tr><td>Neumann, Yael</td></tr>",
                            "<tr><td>Neuweiler, Robert</td></tr>",
                            "<tr><td>Newman, Kristena</td></tr>",
                            "<tr><td>Ni, Xiuyan</td></tr>",
                            "<tr><td>Nichols, Jeff</td></tr>",
                            "<tr><td>Nici, John</td></tr>",
                            "<tr><td>Nicolosi, Louis</td></tr>",
                            "<tr><td>Nitzberg, Roy</td></tr>",
                            "<tr><td>Nix, Joan</td></tr>",
                            "<tr><td>Nixon, Dorothy</td></tr>",
                            "<tr><td>Nolan, Sean</td></tr>",
                            "<tr><td>Nomura, Yoko</td></tr>",
                            "<tr><td>Nutter, Geoffrey</td></tr>",
                            "<tr><td>Obrenic, Bojana</td></tr>",
                            "<tr><td>Ocando, Joseph</td></tr>",
                            "<tr><td>O&#39;Connor, Patricia</td></tr>",
                            "<tr><td>Okamoto, Daiki</td></tr>",
                            "<tr><td>O&#39;Mullan, Gregory</td></tr>",
                            "<tr><td>O&#39;Neil, Sheila</td></tr>",
                            "<tr><td>O&#39;Neill, James</td></tr>",
                            "<tr><td>Orchard, William</td></tr>",
                            "<tr><td>Orenstein, Arbie</td></tr>",
                            "<tr><td>Ortiz, Beatriz</td></tr>",
                            "<tr><td>Osborne, Helene</td></tr>",
                            "<tr><td>Osborne-Christenson, Eric</td></tr>",
                            "<tr><td>Outes-Leon, Brais</td></tr>",
                            "<tr><td>Outlaw, Sidney</td></tr>",
                            "<tr><td>Overholt, Sherry</td></tr>",
                            "<tr><td>Paccadolmi, Alexandra</td></tr>",
                            "<tr><td>Paccione, Katherine</td></tr>",
                            "<tr><td>Pace, Claudia</td></tr>",
                            "<tr><td>Pacht, Nurit</td></tr>",
                            "<tr><td>Paciorek, Annette</td></tr>",
                            "<tr><td>Pagano, Anthony</td></tr>",
                            "<tr><td>Pagano, Concettina</td></tr>",
                            "<tr><td>Paizis, Andrew</td></tr>",
                            "<tr><td>Palmer, Matthew</td></tr>",
                            "<tr><td>Pandazis, Michael</td></tr>",
                            "<tr><td>Pascarella, Joseph</td></tr>",
                            "<tr><td>Pastore, Joseph</td></tr>",
                            "<tr><td>Patton, Jeb</td></tr>",
                            "<tr><td>Paulicelli, Eugenia</td></tr>",
                            "<tr><td>Pechenkina, Ekaterina</td></tr>",
                            "<tr><td>Pekar, Stephen</td></tr>",
                            "<tr><td>Pell, Nathan</td></tr>",
                            "<tr><td>Pellitteri, John</td></tr>",
                            "<tr><td>Pena, Beatriz Carolina</td></tr>",
                            "<tr><td>Penaranda Tomas, Francisco</td></tr>",
                            "<tr><td>Pensak, Sandra</td></tr>",
                            "<tr><td>Perdomo, Miguel</td></tr>",
                            "<tr><td>Pereira, Jennifer</td></tr>",
                            "<tr><td>Peress, Maurice</td></tr>",
                            "<tr><td>Perez, Vanessa</td></tr>",
                            "<tr><td>Permitina, Olga</td></tr>",
                            "<tr><td>Perrone, Michael</td></tr>",
                            "<tr><td>Petaludis, Nicholas</td></tr>",
                            "<tr><td>Philip, Mana</td></tr>",
                            "<tr><td>Phillips, Daniel</td></tr>",
                            "<tr><td>Phillips, Tsaiyun</td></tr>",
                            "<tr><td>Piccolo, Ellen</td></tr>",
                            "<tr><td>Pineiro Ramirez, Olivia</td></tr>",
                            "<tr><td>Ping, Laura</td></tr>",
                            "<tr><td>Piotrowski, Cody</td></tr>",
                            "<tr><td>Pirone, Donald</td></tr>",
                            "<tr><td>Pirovolikos, Fei-Wen</td></tr>",
                            "<tr><td>Plaxico, Lonnie</td></tr>",
                            "<tr><td>Plummer, Thomas</td></tr>",
                            "<tr><td>Pollard, Trebien</td></tr>",
                            "<tr><td>Porcari, Judith</td></tr>",
                            "<tr><td>Posten, Anne</td></tr>",
                            "<tr><td>Powers, Edward</td></tr>",
                            "<tr><td>Presby, Leonard</td></tr>",
                            "<tr><td>Prestamo, Joseph</td></tr>",
                            "<tr><td>Price, Ada</td></tr>",
                            "<tr><td>Priestly, Debra</td></tr>",
                            "<tr><td>Proctor, Sherrie</td></tr>",
                            "<tr><td>Profeta, Katherine</td></tr>",
                            "<tr><td>Proscia, Nicholas</td></tr>",
                            "<tr><td>Pugh, Timothy</td></tr>",
                            "<tr><td>Puglisi, Matthew</td></tr>",
                            "<tr><td>Pytte, Carolyn</td></tr>",
                            "<tr><td>Quiles Gonzalez, Norberto</td></tr>",
                            "<tr><td>Qureshi, Anique</td></tr>",
                            "<tr><td>Ralescu, Stefan</td></tr>",
                            "<tr><td>Ramadanis, Alex</td></tr>",
                            "<tr><td>Ramadhin, Christine</td></tr>",
                            "<tr><td>Ranaldi, Robert</td></tr>",
                            "<tr><td>Razza, Claire</td></tr>",
                            "<tr><td>Recinos Vasquez, Eduardo</td></tr>",
                            "<tr><td>Reganato, Lauren</td></tr>",
                            "<tr><td>Reich, Shoshana</td></tr>",
                            "<tr><td>Reichert, Juergen</td></tr>",
                            "<tr><td>Reichert, Roman</td></tr>",
                            "<tr><td>Reichl, Alexander</td></tr>",
                            "<tr><td>Repole, Charles</td></tr>",
                            "<tr><td>Reyes-Giordano, Kimberly</td></tr>",
                            "<tr><td>Rezvani, Farahmand</td></tr>",
                            "<tr><td>Rhindress, Mindy</td></tr>",
                            "<tr><td>Rho, Yisun</td></tr>",
                            "<tr><td>Rhodes, Carole</td></tr>",
                            "<tr><td>Richards, Andrew</td></tr>",
                            "<tr><td>Richardson, Kristina</td></tr>",
                            "<tr><td>Richie, James</td></tr>",
                            "<tr><td>Richter, David</td></tr>",
                            "<tr><td>Riina, Elizabeth</td></tr>",
                            "<tr><td>Ripley, Emily</td></tr>",
                            "<tr><td>Ritt, Morey</td></tr>",
                            "<tr><td>Rivenbark, Joshua</td></tr>",
                            "<tr><td>Rivera, David</td></tr>",
                            "<tr><td>Rivera, Lourdes</td></tr>",
                            "<tr><td>Rizel, Meir</td></tr>",
                            "<tr><td>Robila, Mihaela</td></tr>",
                            "<tr><td>Rodriguez Aponte, Juan</td></tr>",
                            "<tr><td>Roesch, Madelyn</td></tr>",
                            "<tr><td>Rogers, Holly</td></tr>",
                            "<tr><td>Rollins, Joe</td></tr>",
                            "<tr><td>Romero, Domenico</td></tr>",
                            "<tr><td>Rosa, Manuel</td></tr>",
                            "<tr><td>Rosales, Kristine</td></tr>",
                            "<tr><td>Rosen, Marcy</td></tr>",
                            "<tr><td>Rosen, Timothy</td></tr>",
                            "<tr><td>Rosenberg, Alan</td></tr>",
                            "<tr><td>Rosenbloom, Seth</td></tr>",
                            "<tr><td>Rosenzweig, Joel</td></tr>",
                            "<tr><td>Rothenberg, Ronald</td></tr>",
                            "<tr><td>Rotholz, Susan</td></tr>",
                            "<tr><td>Rothstein, William</td></tr>",
                            "<tr><td>Rowe, Stephen</td></tr>",
                            "<tr><td>Ruedeman, Timothy</td></tr>",
                            "<tr><td>Ruiz Lopez, Cecilia</td></tr>",
                            "<tr><td>Rushkoff, Douglas</td></tr>",
                            "<tr><td>Ruthizer, Scott</td></tr>",
                            "<tr><td>Ryba, Alexander</td></tr>",
                            "<tr><td>Rydzewski, Monika</td></tr>",
                            "<tr><td>Sabitova, Maria</td></tr>",
                            "<tr><td>Saffran, Wilma</td></tr>",
                            "<tr><td>Saint-Hilaire, Line</td></tr>",
                            "<tr><td>Sakai, Christian</td></tr>",
                            "<tr><td>Salam, Shemon</td></tr>",
                            "<tr><td>Salamatbad, Michael</td></tr>",
                            "<tr><td>Salcer, Alana</td></tr>",
                            "<tr><td>Sammons, Benjamin</td></tr>",
                            "<tr><td>Samuni, Uri</td></tr>",
                            "<tr><td>San Andres, Livia</td></tr>",
                            "<tr><td>San, Kaung Myat</td></tr>",
                            "<tr><td>Sanborn, James</td></tr>",
                            "<tr><td>Sanchez, Jose</td></tr>",
                            "<tr><td>Sand, Jason</td></tr>",
                            "<tr><td>Sanders, Sheila</td></tr>",
                            "<tr><td>Sang, Richard</td></tr>",
                            "<tr><td>Sangiorgi, Thomas</td></tr>",
                            "<tr><td>Santana, Anthony</td></tr>",
                            "<tr><td>Sargent, Michael</td></tr>",
                            "<tr><td>Saslow, James</td></tr>",
                            "<tr><td>Satenstein, Jeffrey</td></tr>",
                            "<tr><td>Savage, Dean</td></tr>",
                            "<tr><td>Savagedunn, Cathy</td></tr>",
                            "<tr><td>Sayles, Elizabeth</td></tr>",
                            "<tr><td>Saylor, Bruce</td></tr>",
                            "<tr><td>Schanoes, Veronica</td></tr>",
                            "<tr><td>Schiele, Chloe</td></tr>",
                            "<tr><td>Schmitt, Doreen</td></tr>",
                            "<tr><td>Schnur, Kate</td></tr>",
                            "<tr><td>Schober, David</td></tr>",
                            "<tr><td>Schotter, Richard</td></tr>",
                            "<tr><td>Schulman, Jamie</td></tr>",
                            "<tr><td>Schwab, Kevin</td></tr>",
                            "<tr><td>Schwalb, Helen</td></tr>",
                            "<tr><td>Schwarz, Steven</td></tr>",
                            "<tr><td>Scott, Alice</td></tr>",
                            "<tr><td>Sedarat, Roger</td></tr>",
                            "<tr><td>Segal, Nicole</td></tr>",
                            "<tr><td>Seidman, Seth</td></tr>",
                            "<tr><td>Seligson, Jomal</td></tr>",
                            "<tr><td>Sen, Satadru</td></tr>",
                            "<tr><td>Sepe, Susan</td></tr>",
                            "<tr><td>Seraphin, Gael</td></tr>",
                            "<tr><td>Seufert, Kelly</td></tr>",
                            "<tr><td>Seymore, Javier</td></tr>",
                            "<tr><td>Shady, Ashraf</td></tr>",
                            "<tr><td>Shamie, Gregory</td></tr>",
                            "<tr><td>Shanon, Milette</td></tr>",
                            "<tr><td>Sharma, Tej</td></tr>",
                            "<tr><td>Shaw, Susan</td></tr>",
                            "<tr><td>Sheikh, Ridda</td></tr>",
                            "<tr><td>Sheng, Shang-Yu</td></tr>",
                            "<tr><td>Sherman, Beth</td></tr>",
                            "<tr><td>Sherwin, Kathleen</td></tr>",
                            "<tr><td>Shibata, Chihiro</td></tr>",
                            "<tr><td>Shih, Wen-Shan</td></tr>",
                            "<tr><td>Shikowitz, Sara</td></tr>",
                            "<tr><td>Shin, Heesun</td></tr>",
                            "<tr><td>Shin, Sunghee</td></tr>",
                            "<tr><td>Shire, Seth</td></tr>",
                            "<tr><td>Shironishi, Ruka</td></tr>",
                            "<tr><td>Shkadron, Polina</td></tr>",
                            "<tr><td>Sholette, Gregory</td></tr>",
                            "<tr><td>Short, Timothy</td></tr>",
                            "<tr><td>Shur, Mitchell</td></tr>",
                            "<tr><td>Siegel, Lynn</td></tr>",
                            "<tr><td>Silatchom Foyou, Francois</td></tr>",
                            "<tr><td>Silverman, Arthur</td></tr>",
                            "<tr><td>Simon, Heather</td></tr>",
                            "<tr><td>Simon, Mark</td></tr>",
                            "<tr><td>Singh, Vijailakshmi</td></tr>",
                            "<tr><td>Sisser, Fern</td></tr>",
                            "<tr><td>Skafidas, Michael</td></tr>",
                            "<tr><td>Skondras, Mary</td></tr>",
                            "<tr><td>Skrabut, Raymond</td></tr>",
                            "<tr><td>Skwara, Gabriella</td></tr>",
                            "<tr><td>Smaldone, Edward</td></tr>",
                            "<tr><td>Smaldone, Karen</td></tr>",
                            "<tr><td>Smith, Janice Pearson</td></tr>",
                            "<tr><td>Smith, Jason</td></tr>",
                            "<tr><td>Smith, Ryan</td></tr>",
                            "<tr><td>Smith-Thompson, Anne</td></tr>",
                            "<tr><td>Sneed, Joel</td></tr>",
                            "<tr><td>Sneeringer, Julia</td></tr>",
                            "<tr><td>Soares, Scott</td></tr>",
                            "<tr><td>Solarsh, Eva</td></tr>",
                            "<tr><td>Soleimani, Kamal</td></tr>",
                            "<tr><td>Solieri, Steven</td></tr>",
                            "<tr><td>Song, Kiyoung</td></tr>",
                            "<tr><td>Song, Shige</td></tr>",
                            "<tr><td>Soni, Sonal</td></tr>",
                            "<tr><td>Soule, Dax</td></tr>",
                            "<tr><td>Spagna, Alfredo</td></tr>",
                            "<tr><td>Sperling, Jon</td></tr>",
                            "<tr><td>Sperry, Ryan</td></tr>",
                            "<tr><td>Spitz, Henya</td></tr>",
                            "<tr><td>Spivak, Lynn</td></tr>",
                            "<tr><td>Spreizer, Christine</td></tr>",
                            "<tr><td>Spring, Toni</td></tr>",
                            "<tr><td>Stalias, Maria</td></tr>",
                            "<tr><td>Stanton, Rebecca</td></tr>",
                            "<tr><td>Stein, Alan</td></tr>",
                            "<tr><td>Steiner, Robert</td></tr>",
                            "<tr><td>Stengel-Mohr, Jennifer</td></tr>",
                            "<tr><td>Steuerwalt, Karen</td></tr>",
                            "<tr><td>Stevens, Michael</td></tr>",
                            "<tr><td>Stewart, Jennifer</td></tr>",
                            "<tr><td>Storbeck, Justin</td></tr>",
                            "<tr><td>Strassler, Karen</td></tr>",
                            "<tr><td>Strauss, Benjamin</td></tr>",
                            "<tr><td>Strickland, Suzanne</td></tr>",
                            "<tr><td>Stumm, Carey</td></tr>",
                            "<tr><td>Sturmey, Peter</td></tr>",
                            "<tr><td>Subramaniam, Gopal</td></tr>",
                            "<tr><td>Sukhu, Gopal</td></tr>",
                            "<tr><td>Sullivan, Karen</td></tr>",
                            "<tr><td>Sultan, Alan</td></tr>",
                            "<tr><td>Sun, Fang</td></tr>",
                            "<tr><td>Sun, Yan</td></tr>",
                            "<tr><td>Sungolowsky, Joseph</td></tr>",
                            "<tr><td>Sureck, Suzy</td></tr>",
                            "<tr><td>Suri, Miranda</td></tr>",
                            "<tr><td>Svitak, Joseph</td></tr>",
                            "<tr><td>Swedell, Larissa</td></tr>",
                            "<tr><td>Swell, Lila</td></tr>",
                            "<tr><td>Sy, Bon</td></tr>",
                            "<tr><td>Tache, Karine</td></tr>",
                            "<tr><td>Taha, Wagdi</td></tr>",
                            "<tr><td>Tajes, Joy</td></tr>",
                            "<tr><td>Takeall, Alan</td></tr>",
                            "<tr><td>Takei, So</td></tr>",
                            "<tr><td>Taleghani, Rebecca</td></tr>",
                            "<tr><td>Tang, Joyce</td></tr>",
                            "<tr><td>Tang, Yi</td></tr>",
                            "<tr><td>Tatarian, Christine</td></tr>",
                            "<tr><td>Teegala, Sushma</td></tr>",
                            "<tr><td>Teikmanis, Nora</td></tr>",
                            "<tr><td>Tejada, Ramon</td></tr>",
                            "<tr><td>Tekverk, Laurette</td></tr>",
                            "<tr><td>Tenzer Santoro, Emily</td></tr>",
                            "<tr><td>Terilla, John</td></tr>",
                            "<tr><td>Thayer, Johnathan</td></tr>",
                            "<tr><td>Thiel, Christie</td></tr>",
                            "<tr><td>Thurber, Matthew</td></tr>",
                            "<tr><td>Tietje, Susan</td></tr>",
                            "<tr><td>Tilitz, Thomas</td></tr>",
                            "<tr><td>Toledo, David</td></tr>",
                            "<tr><td>Tomasulo, Victoria</td></tr>",
                            "<tr><td>Toner, Michael</td></tr>",
                            "<tr><td>Tougaw, Jason</td></tr>",
                            "<tr><td>Tousi-Hakimian, Afsaneh</td></tr>",
                            "<tr><td>Toy, Tanvir</td></tr>",
                            "<tr><td>Tracz, Elzbieta</td></tr>",
                            "<tr><td>Trappen, Sandra</td></tr>",
                            "<tr><td>Travis, Lydia</td></tr>",
                            "<tr><td>Tricarico, Justin</td></tr>",
                            "<tr><td>Tse, Chi</td></tr>",
                            "<tr><td>Tsika, Noah</td></tr>",
                            "<tr><td>Tsilas, Loucas</td></tr>",
                            "<tr><td>Turkel, Susan</td></tr>",
                            "<tr><td>Tytell, John</td></tr>",
                            "<tr><td>Ulubabova, Tatyana</td></tr>",
                            "<tr><td>Underwood, Keith</td></tr>",
                            "<tr><td>Upadhyay, Vivek</td></tr>",
                            "<tr><td>Vacca, James</td></tr>",
                            "<tr><td>Vancelette, Reid</td></tr>",
                            "<tr><td>Vanegas, Roy</td></tr>",
                            "<tr><td>Vellon, Peter</td></tr>",
                            "<tr><td>Ventura, Gabriela</td></tr>",
                            "<tr><td>Verastegui, Edgar</td></tr>",
                            "<tr><td>Vesanen, Mika</td></tr>",
                            "<tr><td>Vidal, Ana</td></tr>",
                            "<tr><td>Vila Castelar, Clara</td></tr>",
                            "<tr><td>Viladrich, Anahi</td></tr>",
                            "<tr><td>Villa, Laura</td></tr>",
                            "<tr><td>Vitaglione, Sylvie</td></tr>",
                            "<tr><td>Voldman, Benjamin</td></tr>",
                            "<tr><td>Vuong, Luat</td></tr>",
                            "<tr><td>Wade, Charenee</td></tr>",
                            "<tr><td>Wagner, Christopher</td></tr>",
                            "<tr><td>Waite, Genevieve</td></tr>",
                            "<tr><td>Wakefield, Stephanie</td></tr>",
                            "<tr><td>Waldman, John</td></tr>",
                            "<tr><td>Walker, Leila</td></tr>",
                            "<tr><td>Walters-Doehrman, Barbara</td></tr>",
                            "<tr><td>Wamba, Nathalis</td></tr>",
                            "<tr><td>Wang, Adam</td></tr>",
                            "<tr><td>Wang, Cuiyuan</td></tr>",
                            "<tr><td>Wang, John</td></tr>",
                            "<tr><td>Wang, Ting</td></tr>",
                            "<tr><td>Ward, Matthew</td></tr>",
                            "<tr><td>Warren, Joyce</td></tr>",
                            "<tr><td>Waters, Catherine</td></tr>",
                            "<tr><td>Waxman, Jerry</td></tr>",
                            "<tr><td>Wayman, Sheldon</td></tr>",
                            "<tr><td>Wdowiak, Eryk</td></tr>",
                            "<tr><td>Webb, Carolyn</td></tr>",
                            "<tr><td>Weeks, Edisa</td></tr>",
                            "<tr><td>Weiner, Diane</td></tr>",
                            "<tr><td>Weinman, Alan</td></tr>",
                            "<tr><td>Weinstein, Daniel</td></tr>",
                            "<tr><td>Weinstein, Kathryn</td></tr>",
                            "<tr><td>Weir, John</td></tr>",
                            "<tr><td>Weisberg, Holly</td></tr>",
                            "<tr><td>Weiss, Renee</td></tr>",
                            "<tr><td>Weiss, Robert</td></tr>",
                            "<tr><td>Wen, Cheng-Cheng</td></tr>",
                            "<tr><td>Weng, Shih Jen</td></tr>",
                            "<tr><td>Wershba Gershon, Pamela</td></tr>",
                            "<tr><td>Westfal, Sandi</td></tr>",
                            "<tr><td>Whitaker, Chastity</td></tr>",
                            "<tr><td>Whitcraft, David</td></tr>",
                            "<tr><td>Whitehead, Jennifer</td></tr>",
                            "<tr><td>Wiener, David</td></tr>",
                            "<tr><td>Wilbourne, Emily</td></tr>",
                            "<tr><td>Williams, Gregory</td></tr>",
                            "<tr><td>Williams, Karen</td></tr>",
                            "<tr><td>Williams, Nicholas</td></tr>",
                            "<tr><td>Wilson, Ryan</td></tr>",
                            "<tr><td>Wilson, Scott</td></tr>",
                            "<tr><td>Winarick, Daniel</td></tr>",
                            "<tr><td>Winks, Christopher</td></tr>",
                            "<tr><td>Wintermute, Bobby</td></tr>",
                            "<tr><td>Withanachchi, Vishni</td></tr>",
                            "<tr><td>Witty, Allison</td></tr>",
                            "<tr><td>Wolf-Sonkin, Valerie</td></tr>",
                            "<tr><td>Woll, Heidi</td></tr>",
                            "<tr><td>Won, Annie</td></tr>",
                            "<tr><td>Wong, David</td></tr>",
                            "<tr><td>Woo, Danne</td></tr>",
                            "<tr><td>Wood, Mitchell</td></tr>",
                            "<tr><td>Woodfin, Warren</td></tr>",
                            "<tr><td>Wozniak, Sandra</td></tr>",
                            "<tr><td>Wu Lohez, Dening</td></tr>",
                            "<tr><td>Wu, Rong</td></tr>",
                            "<tr><td>Wu, Shuheng</td></tr>",
                            "<tr><td>Wu, Yi-Chun</td></tr>",
                            "<tr><td>Wuebker, Erin</td></tr>",
                            "<tr><td>Xiang, Zhigang</td></tr>",
                            "<tr><td>Xiao, Jian</td></tr>",
                            "<tr><td>Yang, Kangmei</td></tr>",
                            "<tr><td>Yeh, Jackson</td></tr>",
                            "<tr><td>Yelnykov, Oleksandr</td></tr>",
                            "<tr><td>Yi, Chuixiang</td></tr>",
                            "<tr><td>Yildirim, Gozde</td></tr>",
                            "<tr><td>Yim, Se Jung</td></tr>",
                            "<tr><td>Yong, Namseok</td></tr>",
                            "<tr><td>Yoo, Sori</td></tr>",
                            "<tr><td>Young, Jessica</td></tr>",
                            "<tr><td>Young, Serinity</td></tr>",
                            "<tr><td>Yuan, Changhe</td></tr>",
                            "<tr><td>Yukawa, Keitaro</td></tr>",
                            "<tr><td>Yun, Joong Min</td></tr>",
                            "<tr><td>Zakeri, Saeed</td></tr>",
                            "<tr><td>Zakeri, Zahra</td></tr>",
                            "<tr><td>Zamorska, Krystyna</td></tr>",
                            "<tr><td>Zapf, Michael</td></tr>",
                            "<tr><td>Zarnowski, Myra</td></tr>",
                            "<tr><td>Zender, Daniel</td></tr>",
                            "<tr><td>Zevin, Iris</td></tr>",
                            "<tr><td>Zhang, Jia Xuan</td></tr>",
                            "<tr><td>Zhao, Ying</td></tr>",
                            "<tr><td>Zimroth, Evan</td></tr>",
                            "<tr><td>Zwilling, Amanda</td></tr>",
                            "</table>"
                        ]
                    }
                }
            ],
            "execution_count": 1
        },
        {
            "cell_type": "markdown",
            "source": [
                "<h1 style = \"color:#0D0630\">Query 2</h1>\n",
                "\n",
                "<div style=\"border:2px solid #C57B57; padding: 7px; background-color:#FEFAEC\">\n",
                "<h2 style=\"color:#3A435E\"><b>Proposition Statement:</h2>\n",
                "<h3><b>Count the number of instructors in each department.</b></h3>\n",
                "<p><i>(Completed by Osvaldo Talavera)</i></p>\n",
                "</div>"
            ],
            "metadata": {
                "azdata_cell_guid": "09108c28-5782-4651-a0c8-3972ebe9ea16"
            },
            "attachments": {}
        },
        {
            "cell_type": "code",
            "source": [
                "USE QueensClassSchedule;\n",
                "\n",
                "SELECT D.DepartmentName, COUNT(DISTINCT I.InstructorKey) AS NumberOfInstructors\n",
                "FROM Department.Department AS D\n",
                "    INNER JOIN dbo.Department_Instructor AS DI \n",
                "    ON D.DepartmentKey = DI.DepartmentKey\n",
                "    INNER JOIN Department.Instructor AS I \n",
                "    ON DI.InstructorKey = I.InstructorKey\n",
                "GROUP BY D.DepartmentName\n",
                "ORDER BY NumberOfInstructors DESC;"
            ],
            "metadata": {
                "azdata_cell_guid": "e4c7b00c-ffc8-4279-b014-3ed63e8f17c0",
                "language": "sql"
            },
            "outputs": [
                {
                    "output_type": "display_data",
                    "data": {
                        "text/html": "(79 rows affected)"
                    },
                    "metadata": {}
                },
                {
                    "output_type": "display_data",
                    "data": {
                        "text/html": "Total execution time: 00:00:00.032"
                    },
                    "metadata": {}
                },
                {
                    "output_type": "execute_result",
                    "metadata": {},
                    "execution_count": 2,
                    "data": {
                        "application/vnd.dataresource+json": {
                            "schema": {
                                "fields": [
                                    {
                                        "name": "DepartmentName"
                                    },
                                    {
                                        "name": "NumberOfInstructors"
                                    }
                                ]
                            },
                            "data": [
                                {
                                    "DepartmentName": "ENGL",
                                    "NumberOfInstructors": "112"
                                },
                                {
                                    "DepartmentName": "PSYCH",
                                    "NumberOfInstructors": "108"
                                },
                                {
                                    "DepartmentName": "MUSIC",
                                    "NumberOfInstructors": "100"
                                },
                                {
                                    "DepartmentName": "MATH",
                                    "NumberOfInstructors": "94"
                                },
                                {
                                    "DepartmentName": "ARTS",
                                    "NumberOfInstructors": "64"
                                },
                                {
                                    "DepartmentName": "EECE",
                                    "NumberOfInstructors": "63"
                                },
                                {
                                    "DepartmentName": "SOC",
                                    "NumberOfInstructors": "63"
                                },
                                {
                                    "DepartmentName": "BIOL",
                                    "NumberOfInstructors": "62"
                                },
                                {
                                    "DepartmentName": "FNES",
                                    "NumberOfInstructors": "62"
                                },
                                {
                                    "DepartmentName": "ACCT",
                                    "NumberOfInstructors": "58"
                                },
                                {
                                    "DepartmentName": "SEYS",
                                    "NumberOfInstructors": "54"
                                },
                                {
                                    "DepartmentName": "CSCI",
                                    "NumberOfInstructors": "53"
                                },
                                {
                                    "DepartmentName": "CHEM",
                                    "NumberOfInstructors": "50"
                                },
                                {
                                    "DepartmentName": "HIST",
                                    "NumberOfInstructors": "50"
                                },
                                {
                                    "DepartmentName": "ECON",
                                    "NumberOfInstructors": "48"
                                },
                                {
                                    "DepartmentName": "URBST",
                                    "NumberOfInstructors": "41"
                                },
                                {
                                    "DepartmentName": "LCD",
                                    "NumberOfInstructors": "38"
                                },
                                {
                                    "DepartmentName": "PSCI",
                                    "NumberOfInstructors": "32"
                                },
                                {
                                    "DepartmentName": "ECPSE",
                                    "NumberOfInstructors": "32"
                                },
                                {
                                    "DepartmentName": "ANTH",
                                    "NumberOfInstructors": "32"
                                },
                                {
                                    "DepartmentName": "SPAN",
                                    "NumberOfInstructors": "28"
                                },
                                {
                                    "DepartmentName": "PHYS",
                                    "NumberOfInstructors": "26"
                                },
                                {
                                    "DepartmentName": "JAZZ",
                                    "NumberOfInstructors": "25"
                                },
                                {
                                    "DepartmentName": "LBSCI",
                                    "NumberOfInstructors": "24"
                                },
                                {
                                    "DepartmentName": "HMNS",
                                    "NumberOfInstructors": "23"
                                },
                                {
                                    "DepartmentName": "ECPCE",
                                    "NumberOfInstructors": "23"
                                },
                                {
                                    "DepartmentName": "CMLIT",
                                    "NumberOfInstructors": "23"
                                },
                                {
                                    "DepartmentName": "DRAM",
                                    "NumberOfInstructors": "22"
                                },
                                {
                                    "DepartmentName": "MEDST",
                                    "NumberOfInstructors": "21"
                                },
                                {
                                    "DepartmentName": "ENSCI",
                                    "NumberOfInstructors": "19"
                                },
                                {
                                    "DepartmentName": "BUS",
                                    "NumberOfInstructors": "19"
                                },
                                {
                                    "DepartmentName": "PHIL",
                                    "NumberOfInstructors": "18"
                                },
                                {
                                    "DepartmentName": "GEOL",
                                    "NumberOfInstructors": "18"
                                },
                                {
                                    "DepartmentName": "ECPSP",
                                    "NumberOfInstructors": "17"
                                },
                                {
                                    "DepartmentName": "SPST",
                                    "NumberOfInstructors": "17"
                                },
                                {
                                    "DepartmentName": "ARTH",
                                    "NumberOfInstructors": "12"
                                },
                                {
                                    "DepartmentName": "DANCE",
                                    "NumberOfInstructors": "11"
                                },
                                {
                                    "DepartmentName": "BALA",
                                    "NumberOfInstructors": "10"
                                },
                                {
                                    "DepartmentName": "ITAL",
                                    "NumberOfInstructors": "10"
                                },
                                {
                                    "DepartmentName": "RM",
                                    "NumberOfInstructors": "9"
                                },
                                {
                                    "DepartmentName": "HTH",
                                    "NumberOfInstructors": "8"
                                },
                                {
                                    "DepartmentName": "KOR",
                                    "NumberOfInstructors": "8"
                                },
                                {
                                    "DepartmentName": "EAST",
                                    "NumberOfInstructors": "8"
                                },
                                {
                                    "DepartmentName": "ECPEL",
                                    "NumberOfInstructors": "8"
                                },
                                {
                                    "DepartmentName": "FREN",
                                    "NumberOfInstructors": "7"
                                },
                                {
                                    "DepartmentName": "CHIN",
                                    "NumberOfInstructors": "6"
                                },
                                {
                                    "DepartmentName": "CLAS",
                                    "NumberOfInstructors": "6"
                                },
                                {
                                    "DepartmentName": "HNRS",
                                    "NumberOfInstructors": "6"
                                },
                                {
                                    "DepartmentName": "GERM",
                                    "NumberOfInstructors": "5"
                                },
                                {
                                    "DepartmentName": "JOURN",
                                    "NumberOfInstructors": "5"
                                },
                                {
                                    "DepartmentName": "LIBR",
                                    "NumberOfInstructors": "5"
                                },
                                {
                                    "DepartmentName": "SEYSL",
                                    "NumberOfInstructors": "5"
                                },
                                {
                                    "DepartmentName": "RUSS",
                                    "NumberOfInstructors": "4"
                                },
                                {
                                    "DepartmentName": "WGS",
                                    "NumberOfInstructors": "4"
                                },
                                {
                                    "DepartmentName": "LABST",
                                    "NumberOfInstructors": "4"
                                },
                                {
                                    "DepartmentName": "LATIN",
                                    "NumberOfInstructors": "3"
                                },
                                {
                                    "DepartmentName": "LBLST",
                                    "NumberOfInstructors": "3"
                                },
                                {
                                    "DepartmentName": "PORT",
                                    "NumberOfInstructors": "3"
                                },
                                {
                                    "DepartmentName": "JPNS",
                                    "NumberOfInstructors": "3"
                                },
                                {
                                    "DepartmentName": "GRKMD",
                                    "NumberOfInstructors": "3"
                                },
                                {
                                    "DepartmentName": "HEBRW",
                                    "NumberOfInstructors": "3"
                                },
                                {
                                    "DepartmentName": "CESL",
                                    "NumberOfInstructors": "3"
                                },
                                {
                                    "DepartmentName": "ASTR",
                                    "NumberOfInstructors": "3"
                                },
                                {
                                    "DepartmentName": "EURO",
                                    "NumberOfInstructors": "3"
                                },
                                {
                                    "DepartmentName": "STPER",
                                    "NumberOfInstructors": "3"
                                },
                                {
                                    "DepartmentName": "AMST",
                                    "NumberOfInstructors": "2"
                                },
                                {
                                    "DepartmentName": "ARAB",
                                    "NumberOfInstructors": "2"
                                },
                                {
                                    "DepartmentName": "BIOCH",
                                    "NumberOfInstructors": "2"
                                },
                                {
                                    "DepartmentName": "HSS",
                                    "NumberOfInstructors": "2"
                                },
                                {
                                    "DepartmentName": "RLGST",
                                    "NumberOfInstructors": "2"
                                },
                                {
                                    "DepartmentName": "MES",
                                    "NumberOfInstructors": "2"
                                },
                                {
                                    "DepartmentName": "GREEK",
                                    "NumberOfInstructors": "1"
                                },
                                {
                                    "DepartmentName": "JEWST",
                                    "NumberOfInstructors": "1"
                                },
                                {
                                    "DepartmentName": "IRST",
                                    "NumberOfInstructors": "1"
                                },
                                {
                                    "DepartmentName": "CMAL",
                                    "NumberOfInstructors": "1"
                                },
                                {
                                    "DepartmentName": "AFST",
                                    "NumberOfInstructors": "1"
                                },
                                {
                                    "DepartmentName": "ECP",
                                    "NumberOfInstructors": "1"
                                },
                                {
                                    "DepartmentName": "CO-OP",
                                    "NumberOfInstructors": "1"
                                },
                                {
                                    "DepartmentName": "SEEK",
                                    "NumberOfInstructors": "1"
                                }
                            ]
                        },
                        "text/html": [
                            "<table>",
                            "<tr><th>DepartmentName</th><th>NumberOfInstructors</th></tr>",
                            "<tr><td>ENGL</td><td>112</td></tr>",
                            "<tr><td>PSYCH</td><td>108</td></tr>",
                            "<tr><td>MUSIC</td><td>100</td></tr>",
                            "<tr><td>MATH</td><td>94</td></tr>",
                            "<tr><td>ARTS</td><td>64</td></tr>",
                            "<tr><td>EECE</td><td>63</td></tr>",
                            "<tr><td>SOC</td><td>63</td></tr>",
                            "<tr><td>BIOL</td><td>62</td></tr>",
                            "<tr><td>FNES</td><td>62</td></tr>",
                            "<tr><td>ACCT</td><td>58</td></tr>",
                            "<tr><td>SEYS</td><td>54</td></tr>",
                            "<tr><td>CSCI</td><td>53</td></tr>",
                            "<tr><td>CHEM</td><td>50</td></tr>",
                            "<tr><td>HIST</td><td>50</td></tr>",
                            "<tr><td>ECON</td><td>48</td></tr>",
                            "<tr><td>URBST</td><td>41</td></tr>",
                            "<tr><td>LCD</td><td>38</td></tr>",
                            "<tr><td>PSCI</td><td>32</td></tr>",
                            "<tr><td>ECPSE</td><td>32</td></tr>",
                            "<tr><td>ANTH</td><td>32</td></tr>",
                            "<tr><td>SPAN</td><td>28</td></tr>",
                            "<tr><td>PHYS</td><td>26</td></tr>",
                            "<tr><td>JAZZ</td><td>25</td></tr>",
                            "<tr><td>LBSCI</td><td>24</td></tr>",
                            "<tr><td>HMNS</td><td>23</td></tr>",
                            "<tr><td>ECPCE</td><td>23</td></tr>",
                            "<tr><td>CMLIT</td><td>23</td></tr>",
                            "<tr><td>DRAM</td><td>22</td></tr>",
                            "<tr><td>MEDST</td><td>21</td></tr>",
                            "<tr><td>ENSCI</td><td>19</td></tr>",
                            "<tr><td>BUS</td><td>19</td></tr>",
                            "<tr><td>PHIL</td><td>18</td></tr>",
                            "<tr><td>GEOL</td><td>18</td></tr>",
                            "<tr><td>ECPSP</td><td>17</td></tr>",
                            "<tr><td>SPST</td><td>17</td></tr>",
                            "<tr><td>ARTH</td><td>12</td></tr>",
                            "<tr><td>DANCE</td><td>11</td></tr>",
                            "<tr><td>BALA</td><td>10</td></tr>",
                            "<tr><td>ITAL</td><td>10</td></tr>",
                            "<tr><td>RM</td><td>9</td></tr>",
                            "<tr><td>HTH</td><td>8</td></tr>",
                            "<tr><td>KOR</td><td>8</td></tr>",
                            "<tr><td>EAST</td><td>8</td></tr>",
                            "<tr><td>ECPEL</td><td>8</td></tr>",
                            "<tr><td>FREN</td><td>7</td></tr>",
                            "<tr><td>CHIN</td><td>6</td></tr>",
                            "<tr><td>CLAS</td><td>6</td></tr>",
                            "<tr><td>HNRS</td><td>6</td></tr>",
                            "<tr><td>GERM</td><td>5</td></tr>",
                            "<tr><td>JOURN</td><td>5</td></tr>",
                            "<tr><td>LIBR</td><td>5</td></tr>",
                            "<tr><td>SEYSL</td><td>5</td></tr>",
                            "<tr><td>RUSS</td><td>4</td></tr>",
                            "<tr><td>WGS</td><td>4</td></tr>",
                            "<tr><td>LABST</td><td>4</td></tr>",
                            "<tr><td>LATIN</td><td>3</td></tr>",
                            "<tr><td>LBLST</td><td>3</td></tr>",
                            "<tr><td>PORT</td><td>3</td></tr>",
                            "<tr><td>JPNS</td><td>3</td></tr>",
                            "<tr><td>GRKMD</td><td>3</td></tr>",
                            "<tr><td>HEBRW</td><td>3</td></tr>",
                            "<tr><td>CESL</td><td>3</td></tr>",
                            "<tr><td>ASTR</td><td>3</td></tr>",
                            "<tr><td>EURO</td><td>3</td></tr>",
                            "<tr><td>STPER</td><td>3</td></tr>",
                            "<tr><td>AMST</td><td>2</td></tr>",
                            "<tr><td>ARAB</td><td>2</td></tr>",
                            "<tr><td>BIOCH</td><td>2</td></tr>",
                            "<tr><td>HSS</td><td>2</td></tr>",
                            "<tr><td>RLGST</td><td>2</td></tr>",
                            "<tr><td>MES</td><td>2</td></tr>",
                            "<tr><td>GREEK</td><td>1</td></tr>",
                            "<tr><td>JEWST</td><td>1</td></tr>",
                            "<tr><td>IRST</td><td>1</td></tr>",
                            "<tr><td>CMAL</td><td>1</td></tr>",
                            "<tr><td>AFST</td><td>1</td></tr>",
                            "<tr><td>ECP</td><td>1</td></tr>",
                            "<tr><td>CO-OP</td><td>1</td></tr>",
                            "<tr><td>SEEK</td><td>1</td></tr>",
                            "</table>"
                        ]
                    }
                }
            ],
            "execution_count": 2
        },
        {
            "cell_type": "markdown",
            "source": [
                "<h1 style = \"color:#0D0630\">Query 3</h1>\n",
                "\n",
                "<div style=\"border:2px solid #C57B57; padding: 7px; background-color:#FEFAEC\">\n",
                "<h2 style=\"color:#3A435E\"><b>Proposition Statement:</h2>\n",
                "<h3><b>Show how many classes are being taught that semester, grouped by course, aggregating the total enrollment, total class limit, and percentage enrolled.</b></h3>\n",
                "<p><i>(Completed by Kathy He)</i></p>\n",
                "</div>"
            ],
            "metadata": {
                "language": "sql",
                "azdata_cell_guid": "497ff20b-c97b-4c0b-a55e-86e8effbb5ed"
            },
            "attachments": {}
        },
        {
            "cell_type": "code",
            "source": [
                "USE QueensClassSchedule;\n",
                "\n",
                "DECLARE @GrandTotalEnrolled INT;\n",
                "SET @GrandTotalEnrolled = (SELECT SUM(NumberEnrolled) FROM [Course].[Class]);\n",
                "\n",
                "SELECT CourseName,\n",
                "       COUNT(ClassKey) AS NumberOfClasses,\n",
                "       SUM(NumberEnrolled) AS TotalNumberEnrolled,\n",
                "       SUM(Limit) AS TotalLimit,\n",
                "       PercentageClassFilled = CAST((((SUM(NumberEnrolled)+0.0)/SUM(Limit))*100)AS decimal(5,2)),\n",
                "       PercentageEnrolled = CAST((((SUM(NumberEnrolled)+0.0)/@GrandTotalEnrolled)*100)AS decimal(5,2))\n",
                "FROM [Course].[Class]\n",
                "GROUP BY CourseName;"
            ],
            "metadata": {
                "language": "sql",
                "azdata_cell_guid": "afa2f531-6904-4a20-a36f-c8554eb187f2"
            },
            "outputs": [
                {
                    "output_type": "display_data",
                    "data": {
                        "text/html": "Total execution time: 00:00:00.042"
                    },
                    "metadata": {}
                },
                {
                    "output_type": "execute_result",
                    "metadata": {},
                    "execution_count": 3,
                    "data": {
                        "application/vnd.dataresource+json": {
                            "schema": {
                                "fields": [
                                    {
                                        "name": "CourseName"
                                    },
                                    {
                                        "name": "NumberOfClasses"
                                    },
                                    {
                                        "name": "TotalNumberEnrolled"
                                    },
                                    {
                                        "name": "TotalLimit"
                                    },
                                    {
                                        "name": "PercentageClassFilled"
                                    },
                                    {
                                        "name": "PercentageEnrolled"
                                    }
                                ]
                            },
                            "data": [
                                {
                                    "CourseName": "ACCT 100 (3, 3)",
                                    "NumberOfClasses": "3",
                                    "TotalNumberEnrolled": "63",
                                    "TotalLimit": "66",
                                    "PercentageClassFilled": "95.45",
                                    "PercentageEnrolled": "0.08"
                                },
                                {
                                    "CourseName": "ACCT 101 (4, 3)",
                                    "NumberOfClasses": "12",
                                    "TotalNumberEnrolled": "500",
                                    "TotalLimit": "575",
                                    "PercentageClassFilled": "86.96",
                                    "PercentageEnrolled": "0.61"
                                },
                                {
                                    "CourseName": "ACCT 102 (4, 3)",
                                    "NumberOfClasses": "9",
                                    "TotalNumberEnrolled": "342",
                                    "TotalLimit": "470",
                                    "PercentageClassFilled": "72.77",
                                    "PercentageEnrolled": "0.42"
                                },
                                {
                                    "CourseName": "ACCT 201 (4, 4)",
                                    "NumberOfClasses": "8",
                                    "TotalNumberEnrolled": "311",
                                    "TotalLimit": "325",
                                    "PercentageClassFilled": "95.69",
                                    "PercentageEnrolled": "0.38"
                                },
                                {
                                    "CourseName": "ACCT 202 (3, 2)",
                                    "NumberOfClasses": "7",
                                    "TotalNumberEnrolled": "289",
                                    "TotalLimit": "348",
                                    "PercentageClassFilled": "83.05",
                                    "PercentageEnrolled": "0.35"
                                },
                                {
                                    "CourseName": "ACCT 261 (3, 3)",
                                    "NumberOfClasses": "9",
                                    "TotalNumberEnrolled": "352",
                                    "TotalLimit": "396",
                                    "PercentageClassFilled": "88.89",
                                    "PercentageEnrolled": "0.43"
                                },
                                {
                                    "CourseName": "ACCT 305 (3, 2)",
                                    "NumberOfClasses": "8",
                                    "TotalNumberEnrolled": "296",
                                    "TotalLimit": "374",
                                    "PercentageClassFilled": "79.14",
                                    "PercentageEnrolled": "0.36"
                                },
                                {
                                    "CourseName": "ACCT 306 (4, 3)",
                                    "NumberOfClasses": "6",
                                    "TotalNumberEnrolled": "267",
                                    "TotalLimit": "309",
                                    "PercentageClassFilled": "86.41",
                                    "PercentageEnrolled": "0.33"
                                },
                                {
                                    "CourseName": "ACCT 311 (4, 3)",
                                    "NumberOfClasses": "7",
                                    "TotalNumberEnrolled": "263",
                                    "TotalLimit": "343",
                                    "PercentageClassFilled": "76.68",
                                    "PercentageEnrolled": "0.32"
                                },
                                {
                                    "CourseName": "ACCT 321 (4, 3)",
                                    "NumberOfClasses": "5",
                                    "TotalNumberEnrolled": "193",
                                    "TotalLimit": "233",
                                    "PercentageClassFilled": "82.83",
                                    "PercentageEnrolled": "0.24"
                                },
                                {
                                    "CourseName": "ACCT 322 (3, 3)",
                                    "NumberOfClasses": "6",
                                    "TotalNumberEnrolled": "227",
                                    "TotalLimit": "260",
                                    "PercentageClassFilled": "87.31",
                                    "PercentageEnrolled": "0.28"
                                },
                                {
                                    "CourseName": "ACCT 341 (3, 3)",
                                    "NumberOfClasses": "1",
                                    "TotalNumberEnrolled": "67",
                                    "TotalLimit": "67",
                                    "PercentageClassFilled": "100.00",
                                    "PercentageEnrolled": "0.08"
                                },
                                {
                                    "CourseName": "ACCT 343 (3, 3)",
                                    "NumberOfClasses": "1",
                                    "TotalNumberEnrolled": "30",
                                    "TotalLimit": "30",
                                    "PercentageClassFilled": "100.00",
                                    "PercentageEnrolled": "0.04"
                                },
                                {
                                    "CourseName": "ACCT 350 (3, 3)",
                                    "NumberOfClasses": "2",
                                    "TotalNumberEnrolled": "60",
                                    "TotalLimit": "92",
                                    "PercentageClassFilled": "65.22",
                                    "PercentageEnrolled": "0.07"
                                },
                                {
                                    "CourseName": "ACCT 362 (3, 3)",
                                    "NumberOfClasses": "2",
                                    "TotalNumberEnrolled": "120",
                                    "TotalLimit": "125",
                                    "PercentageClassFilled": "96.00",
                                    "PercentageEnrolled": "0.15"
                                },
                                {
                                    "CourseName": "ACCT 362W (3, 3)",
                                    "NumberOfClasses": "10",
                                    "TotalNumberEnrolled": "180",
                                    "TotalLimit": "207",
                                    "PercentageClassFilled": "86.96",
                                    "PercentageEnrolled": "0.22"
                                },
                                {
                                    "CourseName": "ACCT 363 (3, 3)",
                                    "NumberOfClasses": "3",
                                    "TotalNumberEnrolled": "54",
                                    "TotalLimit": "90",
                                    "PercentageClassFilled": "60.00",
                                    "PercentageEnrolled": "0.07"
                                },
                                {
                                    "CourseName": "ACCT 367 (4, 4)",
                                    "NumberOfClasses": "7",
                                    "TotalNumberEnrolled": "317",
                                    "TotalLimit": "372",
                                    "PercentageClassFilled": "85.22",
                                    "PercentageEnrolled": "0.39"
                                },
                                {
                                    "CourseName": "ACCT 372 (3, 3)",
                                    "NumberOfClasses": "7",
                                    "TotalNumberEnrolled": "255",
                                    "TotalLimit": "340",
                                    "PercentageClassFilled": "75.00",
                                    "PercentageEnrolled": "0.31"
                                },
                                {
                                    "CourseName": "ACCT 393W (3, 3)",
                                    "NumberOfClasses": "2",
                                    "TotalNumberEnrolled": "22",
                                    "TotalLimit": "70",
                                    "PercentageClassFilled": "31.43",
                                    "PercentageEnrolled": "0.03"
                                },
                                {
                                    "CourseName": "ACCT 398 (3, 3)",
                                    "NumberOfClasses": "1",
                                    "TotalNumberEnrolled": "4",
                                    "TotalLimit": "35",
                                    "PercentageClassFilled": "11.43",
                                    "PercentageEnrolled": "0.00"
                                },
                                {
                                    "CourseName": "ACCT 707 (3, 3)",
                                    "NumberOfClasses": "1",
                                    "TotalNumberEnrolled": "28",
                                    "TotalLimit": "25",
                                    "PercentageClassFilled": "112.00",
                                    "PercentageEnrolled": "0.03"
                                },
                                {
                                    "CourseName": "ACCT 712 (3, 3)",
                                    "NumberOfClasses": "2",
                                    "TotalNumberEnrolled": "43",
                                    "TotalLimit": "40",
                                    "PercentageClassFilled": "107.50",
                                    "PercentageEnrolled": "0.05"
                                },
                                {
                                    "CourseName": "ACCT 723 (3, 3)",
                                    "NumberOfClasses": "2",
                                    "TotalNumberEnrolled": "56",
                                    "TotalLimit": "50",
                                    "PercentageClassFilled": "112.00",
                                    "PercentageEnrolled": "0.07"
                                },
                                {
                                    "CourseName": "ACCT 747 (3, 3)",
                                    "NumberOfClasses": "1",
                                    "TotalNumberEnrolled": "51",
                                    "TotalLimit": "60",
                                    "PercentageClassFilled": "85.00",
                                    "PercentageEnrolled": "0.06"
                                },
                                {
                                    "CourseName": "ACCT 748 (3, 3)",
                                    "NumberOfClasses": "1",
                                    "TotalNumberEnrolled": "28",
                                    "TotalLimit": "25",
                                    "PercentageClassFilled": "112.00",
                                    "PercentageEnrolled": "0.03"
                                },
                                {
                                    "CourseName": "ACCT 752 (3, 3)",
                                    "NumberOfClasses": "3",
                                    "TotalNumberEnrolled": "32",
                                    "TotalLimit": "60",
                                    "PercentageClassFilled": "53.33",
                                    "PercentageEnrolled": "0.04"
                                },
                                {
                                    "CourseName": "ACCT 757 (3, 3)",
                                    "NumberOfClasses": "2",
                                    "TotalNumberEnrolled": "43",
                                    "TotalLimit": "50",
                                    "PercentageClassFilled": "86.00",
                                    "PercentageEnrolled": "0.05"
                                },
                                {
                                    "CourseName": "ACCT 758 (3, 3)",
                                    "NumberOfClasses": "1",
                                    "TotalNumberEnrolled": "18",
                                    "TotalLimit": "20",
                                    "PercentageClassFilled": "90.00",
                                    "PercentageEnrolled": "0.02"
                                },
                                {
                                    "CourseName": "ACCT 773 (3, 3)",
                                    "NumberOfClasses": "1",
                                    "TotalNumberEnrolled": "17",
                                    "TotalLimit": "20",
                                    "PercentageClassFilled": "85.00",
                                    "PercentageEnrolled": "0.02"
                                },
                                {
                                    "CourseName": "AFST 102 (3, 3)",
                                    "NumberOfClasses": "1",
                                    "TotalNumberEnrolled": "35",
                                    "TotalLimit": "35",
                                    "PercentageClassFilled": "100.00",
                                    "PercentageEnrolled": "0.04"
                                },
                                {
                                    "CourseName": "AFST 201W (3, 3)",
                                    "NumberOfClasses": "1",
                                    "TotalNumberEnrolled": "26",
                                    "TotalLimit": "25",
                                    "PercentageClassFilled": "104.00",
                                    "PercentageEnrolled": "0.03"
                                },
                                {
                                    "CourseName": "AFST 300W (3, 3)",
                                    "NumberOfClasses": "1",
                                    "TotalNumberEnrolled": "15",
                                    "TotalLimit": "25",
                                    "PercentageClassFilled": "60.00",
                                    "PercentageEnrolled": "0.02"
                                },
                                {
                                    "CourseName": "AMST 110W (3, 3)",
                                    "NumberOfClasses": "3",
                                    "TotalNumberEnrolled": "73",
                                    "TotalLimit": "75",
                                    "PercentageClassFilled": "97.33",
                                    "PercentageEnrolled": "0.09"
                                },
                                {
                                    "CourseName": "ANTH 101 (3, 3)",
                                    "NumberOfClasses": "9",
                                    "TotalNumberEnrolled": "620",
                                    "TotalLimit": "617",
                                    "PercentageClassFilled": "100.49",
                                    "PercentageEnrolled": "0.76"
                                },
                                {
                                    "CourseName": "ANTH 102 (3, 3)",
                                    "NumberOfClasses": "11",
                                    "TotalNumberEnrolled": "731",
                                    "TotalLimit": "735",
                                    "PercentageClassFilled": "99.46",
                                    "PercentageEnrolled": "0.89"
                                },
                                {
                                    "CourseName": "ANTH 103 (3, 3)",
                                    "NumberOfClasses": "9",
                                    "TotalNumberEnrolled": "514",
                                    "TotalLimit": "544",
                                    "PercentageClassFilled": "94.49",
                                    "PercentageEnrolled": "0.63"
                                },
                                {
                                    "CourseName": "ANTH 104 (3, 3)",
                                    "NumberOfClasses": "4",
                                    "TotalNumberEnrolled": "264",
                                    "TotalLimit": "255",
                                    "PercentageClassFilled": "103.53",
                                    "PercentageEnrolled": "0.32"
                                },
                                {
                                    "CourseName": "ANTH 200 (3, 3)",
                                    "NumberOfClasses": "2",
                                    "TotalNumberEnrolled": "32",
                                    "TotalLimit": "30",
                                    "PercentageClassFilled": "106.67",
                                    "PercentageEnrolled": "0.04"
                                },
                                {
                                    "CourseName": "ANTH 201 (3, 3)",
                                    "NumberOfClasses": "1",
                                    "TotalNumberEnrolled": "10",
                                    "TotalLimit": "12",
                                    "PercentageClassFilled": "83.33",
                                    "PercentageEnrolled": "0.01"
                                },
                                {
                                    "CourseName": "ANTH 210 (3, 3)",
                                    "NumberOfClasses": "1",
                                    "TotalNumberEnrolled": "11",
                                    "TotalLimit": "11",
                                    "PercentageClassFilled": "100.00",
                                    "PercentageEnrolled": "0.01"
                                },
                                {
                                    "CourseName": "ANTH 220 (3, 3)",
                                    "NumberOfClasses": "1",
                                    "TotalNumberEnrolled": "11",
                                    "TotalLimit": "12",
                                    "PercentageClassFilled": "91.67",
                                    "PercentageEnrolled": "0.01"
                                },
                                {
                                    "CourseName": "ANTH 225 (3, 3)",
                                    "NumberOfClasses": "1",
                                    "TotalNumberEnrolled": "20",
                                    "TotalLimit": "20",
                                    "PercentageClassFilled": "100.00",
                                    "PercentageEnrolled": "0.02"
                                },
                                {
                                    "CourseName": "ANTH 239 (3, 3)",
                                    "NumberOfClasses": "1",
                                    "TotalNumberEnrolled": "19",
                                    "TotalLimit": "20",
                                    "PercentageClassFilled": "95.00",
                                    "PercentageEnrolled": "0.02"
                                },
                                {
                                    "CourseName": "ANTH 240 (3, 3)",
                                    "NumberOfClasses": "1",
                                    "TotalNumberEnrolled": "20",
                                    "TotalLimit": "20",
                                    "PercentageClassFilled": "100.00",
                                    "PercentageEnrolled": "0.02"
                                },
                                {
                                    "CourseName": "ANTH 241 (3, 3)",
                                    "NumberOfClasses": "1",
                                    "TotalNumberEnrolled": "36",
                                    "TotalLimit": "37",
                                    "PercentageClassFilled": "97.30",
                                    "PercentageEnrolled": "0.04"
                                },
                                {
                                    "CourseName": "ANTH 243 (3, 3)",
                                    "NumberOfClasses": "1",
                                    "TotalNumberEnrolled": "12",
                                    "TotalLimit": "20",
                                    "PercentageClassFilled": "60.00",
                                    "PercentageEnrolled": "0.01"
                                },
                                {
                                    "CourseName": "ANTH 260 (3, 3)",
                                    "NumberOfClasses": "1",
                                    "TotalNumberEnrolled": "14",
                                    "TotalLimit": "14",
                                    "PercentageClassFilled": "100.00",
                                    "PercentageEnrolled": "0.02"
                                },
                                {
                                    "CourseName": "ANTH 279 (3, 3)",
                                    "NumberOfClasses": "1",
                                    "TotalNumberEnrolled": "17",
                                    "TotalLimit": "17",
                                    "PercentageClassFilled": "100.00",
                                    "PercentageEnrolled": "0.02"
                                },
                                {
                                    "CourseName": "ANTH 280 (3, 3)",
                                    "NumberOfClasses": "1",
                                    "TotalNumberEnrolled": "34",
                                    "TotalLimit": "33",
                                    "PercentageClassFilled": "103.03",
                                    "PercentageEnrolled": "0.04"
                                },
                                {
                                    "CourseName": "ANTH 2953 (3, 3)",
                                    "NumberOfClasses": "2",
                                    "TotalNumberEnrolled": "2",
                                    "TotalLimit": "2",
                                    "PercentageClassFilled": "100.00",
                                    "PercentageEnrolled": "0.00"
                                },
                                {
                                    "CourseName": "ANTH 302 (3, 3)",
                                    "NumberOfClasses": "1",
                                    "TotalNumberEnrolled": "20",
                                    "TotalLimit": "18",
                                    "PercentageClassFilled": "111.11",
                                    "PercentageEnrolled": "0.02"
                                },
                                {
                                    "CourseName": "ANTH 354 (3, 3)",
                                    "NumberOfClasses": "1",
                                    "TotalNumberEnrolled": "15",
                                    "TotalLimit": "15",
                                    "PercentageClassFilled": "100.00",
                                    "PercentageEnrolled": "0.02"
                                },
                                {
                                    "CourseName": "ANTH 361 (3, 3)",
                                    "NumberOfClasses": "1",
                                    "TotalNumberEnrolled": "18",
                                    "TotalLimit": "17",
                                    "PercentageClassFilled": "105.88",
                                    "PercentageEnrolled": "0.02"
                                },
                                {
                                    "CourseName": "ANTH 390 (3, 3)",
                                    "NumberOfClasses": "3",
                                    "TotalNumberEnrolled": "3",
                                    "TotalLimit": "3",
                                    "PercentageClassFilled": "100.00",
                                    "PercentageEnrolled": "0.00"
                                },
                                {
                                    "CourseName": "ANTH 3953 (3, 3)",
                                    "NumberOfClasses": "1",
                                    "TotalNumberEnrolled": "1",
                                    "TotalLimit": "1",
                                    "PercentageClassFilled": "100.00",
                                    "PercentageEnrolled": "0.00"
                                },
                                {
                                    "CourseName": "ARAB 101 (4, 4)",
                                    "NumberOfClasses": "1",
                                    "TotalNumberEnrolled": "25",
                                    "TotalLimit": "25",
                                    "PercentageClassFilled": "100.00",
                                    "PercentageEnrolled": "0.03"
                                },
                                {
                                    "CourseName": "ARAB 102 (4, 4)",
                                    "NumberOfClasses": "1",
                                    "TotalNumberEnrolled": "28",
                                    "TotalLimit": "25",
                                    "PercentageClassFilled": "112.00",
                                    "PercentageEnrolled": "0.03"
                                },
                                {
                                    "CourseName": "ARAB 306 (3, 3)",
                                    "NumberOfClasses": "1",
                                    "TotalNumberEnrolled": "7",
                                    "TotalLimit": "25",
                                    "PercentageClassFilled": "28.00",
                                    "PercentageEnrolled": "0.01"
                                },
                                {
                                    "CourseName": "ARTH 001 (3, 3)",
                                    "NumberOfClasses": "3",
                                    "TotalNumberEnrolled": "142",
                                    "TotalLimit": "140",
                                    "PercentageClassFilled": "101.43",
                                    "PercentageEnrolled": "0.17"
                                },
                                {
                                    "CourseName": "ARTH 101 (3, 3)",
                                    "NumberOfClasses": "1",
                                    "TotalNumberEnrolled": "50",
                                    "TotalLimit": "50",
                                    "PercentageClassFilled": "100.00",
                                    "PercentageEnrolled": "0.06"
                                },
                                {
                                    "CourseName": "ARTH 102 (3, 3)",
                                    "NumberOfClasses": "3",
                                    "TotalNumberEnrolled": "136",
                                    "TotalLimit": "140",
                                    "PercentageClassFilled": "97.14",
                                    "PercentageEnrolled": "0.17"
                                },
                                {
                                    "CourseName": "ARTH 113 (3, 3)",
                                    "NumberOfClasses": "1",
                                    "TotalNumberEnrolled": "48",
                                    "TotalLimit": "50",
                                    "PercentageClassFilled": "96.00",
                                    "PercentageEnrolled": "0.06"
                                },
                                {
                                    "CourseName": "ARTH 215 (3, 3)",
                                    "NumberOfClasses": "1",
                                    "TotalNumberEnrolled": "40",
                                    "TotalLimit": "50",
                                    "PercentageClassFilled": "80.00",
                                    "PercentageEnrolled": "0.05"
                                },
                                {
                                    "CourseName": "ARTH 234 (3, 3)",
                                    "NumberOfClasses": "1",
                                    "TotalNumberEnrolled": "36",
                                    "TotalLimit": "50",
                                    "PercentageClassFilled": "72.00",
                                    "PercentageEnrolled": "0.04"
                                },
                                {
                                    "CourseName": "ARTH 256 (3, 3)",
                                    "NumberOfClasses": "1",
                                    "TotalNumberEnrolled": "38",
                                    "TotalLimit": "40",
                                    "PercentageClassFilled": "95.00",
                                    "PercentageEnrolled": "0.05"
                                },
                                {
                                    "CourseName": "ARTH 258 (3, 3)",
                                    "NumberOfClasses": "1",
                                    "TotalNumberEnrolled": "51",
                                    "TotalLimit": "50",
                                    "PercentageClassFilled": "102.00",
                                    "PercentageEnrolled": "0.06"
                                },
                                {
                                    "CourseName": "ARTH 286 (3, 3)",
                                    "NumberOfClasses": "1",
                                    "TotalNumberEnrolled": "23",
                                    "TotalLimit": "35",
                                    "PercentageClassFilled": "65.71",
                                    "PercentageEnrolled": "0.03"
                                },
                                {
                                    "CourseName": "ARTH 300 (3, 3)",
                                    "NumberOfClasses": "1",
                                    "TotalNumberEnrolled": "4",
                                    "TotalLimit": "10",
                                    "PercentageClassFilled": "40.00",
                                    "PercentageEnrolled": "0.00"
                                },
                                {
                                    "CourseName": "ARTH 503 (3, 3)",
                                    "NumberOfClasses": "1",
                                    "TotalNumberEnrolled": "3",
                                    "TotalLimit": "10",
                                    "PercentageClassFilled": "30.00",
                                    "PercentageEnrolled": "0.00"
                                },
                                {
                                    "CourseName": "ARTH 504 (3, 3)",
                                    "NumberOfClasses": "2",
                                    "TotalNumberEnrolled": "10",
                                    "TotalLimit": "19",
                                    "PercentageClassFilled": "52.63",
                                    "PercentageEnrolled": "0.01"
                                },
                                {
                                    "CourseName": "ARTH 740 (2, 3)",
                                    "NumberOfClasses": "1",
                                    "TotalNumberEnrolled": "10",
                                    "TotalLimit": "10",
                                    "PercentageClassFilled": "100.00",
                                    "PercentageEnrolled": "0.01"
                                },
                                {
                                    "CourseName": "ARTH 7423 (2, 3)",
                                    "NumberOfClasses": "1",
                                    "TotalNumberEnrolled": "6",
                                    "TotalLimit": "10",
                                    "PercentageClassFilled": "60.00",
                                    "PercentageEnrolled": "0.01"
                                },
                                {
                                    "CourseName": "ARTH 7435 (2, 3)",
                                    "NumberOfClasses": "1",
                                    "TotalNumberEnrolled": "4",
                                    "TotalLimit": "10",
                                    "PercentageClassFilled": "40.00",
                                    "PercentageEnrolled": "0.00"
                                },
                                {
                                    "CourseName": "ARTH 7541 (2, 3)",
                                    "NumberOfClasses": "1",
                                    "TotalNumberEnrolled": "9",
                                    "TotalLimit": "6",
                                    "PercentageClassFilled": "150.00",
                                    "PercentageEnrolled": "0.01"
                                },
                                {
                                    "CourseName": "ARTS 150 (4, 3)",
                                    "NumberOfClasses": "2",
                                    "TotalNumberEnrolled": "37",
                                    "TotalLimit": "36",
                                    "PercentageClassFilled": "102.78",
                                    "PercentageEnrolled": "0.05"
                                },
                                {
                                    "CourseName": "ARTS 151 (4, 3)",
                                    "NumberOfClasses": "6",
                                    "TotalNumberEnrolled": "96",
                                    "TotalLimit": "85",
                                    "PercentageClassFilled": "112.94",
                                    "PercentageEnrolled": "0.12"
                                },
                                {
                                    "CourseName": "ARTS 161 (4, 3)",
                                    "NumberOfClasses": "4",
                                    "TotalNumberEnrolled": "70",
                                    "TotalLimit": "68",
                                    "PercentageClassFilled": "102.94",
                                    "PercentageEnrolled": "0.09"
                                },
                                {
                                    "CourseName": "ARTS 165 (4, 3)",
                                    "NumberOfClasses": "3",
                                    "TotalNumberEnrolled": "54",
                                    "TotalLimit": "51",
                                    "PercentageClassFilled": "105.88",
                                    "PercentageEnrolled": "0.07"
                                },
                                {
                                    "CourseName": "ARTS 171 (4, 3)",
                                    "NumberOfClasses": "2",
                                    "TotalNumberEnrolled": "35",
                                    "TotalLimit": "36",
                                    "PercentageClassFilled": "97.22",
                                    "PercentageEnrolled": "0.04"
                                },
                                {
                                    "CourseName": "ARTS 172 (4, 3)",
                                    "NumberOfClasses": "1",
                                    "TotalNumberEnrolled": "17",
                                    "TotalLimit": "17",
                                    "PercentageClassFilled": "100.00",
                                    "PercentageEnrolled": "0.02"
                                },
                                {
                                    "CourseName": "ARTS 176 (4, 3)",
                                    "NumberOfClasses": "2",
                                    "TotalNumberEnrolled": "32",
                                    "TotalLimit": "34",
                                    "PercentageClassFilled": "94.12",
                                    "PercentageEnrolled": "0.04"
                                },
                                {
                                    "CourseName": "ARTS 182 (4, 3)",
                                    "NumberOfClasses": "4",
                                    "TotalNumberEnrolled": "68",
                                    "TotalLimit": "68",
                                    "PercentageClassFilled": "100.00",
                                    "PercentageEnrolled": "0.08"
                                },
                                {
                                    "CourseName": "ARTS 186 (4, 3)",
                                    "NumberOfClasses": "4",
                                    "TotalNumberEnrolled": "72",
                                    "TotalLimit": "68",
                                    "PercentageClassFilled": "105.88",
                                    "PercentageEnrolled": "0.09"
                                },
                                {
                                    "CourseName": "ARTS 187 (4, 3)",
                                    "NumberOfClasses": "2",
                                    "TotalNumberEnrolled": "23",
                                    "TotalLimit": "24",
                                    "PercentageClassFilled": "95.83",
                                    "PercentageEnrolled": "0.03"
                                },
                                {
                                    "CourseName": "ARTS 188 (4, 3)",
                                    "NumberOfClasses": "3",
                                    "TotalNumberEnrolled": "53",
                                    "TotalLimit": "51",
                                    "PercentageClassFilled": "103.92",
                                    "PercentageEnrolled": "0.06"
                                },
                                {
                                    "CourseName": "ARTS 190 (4, 3)",
                                    "NumberOfClasses": "4",
                                    "TotalNumberEnrolled": "70",
                                    "TotalLimit": "68",
                                    "PercentageClassFilled": "102.94",
                                    "PercentageEnrolled": "0.09"
                                },
                                {
                                    "CourseName": "ARTS 191 (4, 3)",
                                    "NumberOfClasses": "5",
                                    "TotalNumberEnrolled": "86",
                                    "TotalLimit": "84",
                                    "PercentageClassFilled": "102.38",
                                    "PercentageEnrolled": "0.11"
                                },
                                {
                                    "CourseName": "ARTS 192 (4, 3)",
                                    "NumberOfClasses": "1",
                                    "TotalNumberEnrolled": "16",
                                    "TotalLimit": "17",
                                    "PercentageClassFilled": "94.12",
                                    "PercentageEnrolled": "0.02"
                                },
                                {
                                    "CourseName": "ARTS 193 (4, 3)",
                                    "NumberOfClasses": "4",
                                    "TotalNumberEnrolled": "71",
                                    "TotalLimit": "68",
                                    "PercentageClassFilled": "104.41",
                                    "PercentageEnrolled": "0.09"
                                },
                                {
                                    "CourseName": "ARTS 195 (4, 3)",
                                    "NumberOfClasses": "3",
                                    "TotalNumberEnrolled": "51",
                                    "TotalLimit": "50",
                                    "PercentageClassFilled": "102.00",
                                    "PercentageEnrolled": "0.06"
                                },
                                {
                                    "CourseName": "ARTS 211 (4, 3)",
                                    "NumberOfClasses": "2",
                                    "TotalNumberEnrolled": "36",
                                    "TotalLimit": "36",
                                    "PercentageClassFilled": "100.00",
                                    "PercentageEnrolled": "0.04"
                                },
                                {
                                    "CourseName": "ARTS 213 (4, 3)",
                                    "NumberOfClasses": "1",
                                    "TotalNumberEnrolled": "17",
                                    "TotalLimit": "17",
                                    "PercentageClassFilled": "100.00",
                                    "PercentageEnrolled": "0.02"
                                },
                                {
                                    "CourseName": "ARTS 214 (4, 3)",
                                    "NumberOfClasses": "4",
                                    "TotalNumberEnrolled": "74",
                                    "TotalLimit": "67",
                                    "PercentageClassFilled": "110.45",
                                    "PercentageEnrolled": "0.09"
                                },
                                {
                                    "CourseName": "ARTS 215 (4, 3)",
                                    "NumberOfClasses": "1",
                                    "TotalNumberEnrolled": "16",
                                    "TotalLimit": "16",
                                    "PercentageClassFilled": "100.00",
                                    "PercentageEnrolled": "0.02"
                                },
                                {
                                    "CourseName": "ARTS 225 (4, 3)",
                                    "NumberOfClasses": "1",
                                    "TotalNumberEnrolled": "12",
                                    "TotalLimit": "14",
                                    "PercentageClassFilled": "85.71",
                                    "PercentageEnrolled": "0.01"
                                },
                                {
                                    "CourseName": "ARTS 235 (4, 3)",
                                    "NumberOfClasses": "1",
                                    "TotalNumberEnrolled": "4",
                                    "TotalLimit": "4",
                                    "PercentageClassFilled": "100.00",
                                    "PercentageEnrolled": "0.00"
                                },
                                {
                                    "CourseName": "ARTS 240 (4, 3)",
                                    "NumberOfClasses": "3",
                                    "TotalNumberEnrolled": "42",
                                    "TotalLimit": "54",
                                    "PercentageClassFilled": "77.78",
                                    "PercentageEnrolled": "0.05"
                                },
                                {
                                    "CourseName": "ARTS 241 (4, 3)",
                                    "NumberOfClasses": "4",
                                    "TotalNumberEnrolled": "70",
                                    "TotalLimit": "68",
                                    "PercentageClassFilled": "102.94",
                                    "PercentageEnrolled": "0.09"
                                },
                                {
                                    "CourseName": "ARTS 242 (4, 3)",
                                    "NumberOfClasses": "4",
                                    "TotalNumberEnrolled": "72",
                                    "TotalLimit": "68",
                                    "PercentageClassFilled": "105.88",
                                    "PercentageEnrolled": "0.09"
                                },
                                {
                                    "CourseName": "ARTS 245 (4, 3)",
                                    "NumberOfClasses": "3",
                                    "TotalNumberEnrolled": "60",
                                    "TotalLimit": "51",
                                    "PercentageClassFilled": "117.65",
                                    "PercentageEnrolled": "0.07"
                                },
                                {
                                    "CourseName": "ARTS 246 (4, 3)",
                                    "NumberOfClasses": "3",
                                    "TotalNumberEnrolled": "60",
                                    "TotalLimit": "51",
                                    "PercentageClassFilled": "117.65",
                                    "PercentageEnrolled": "0.07"
                                },
                                {
                                    "CourseName": "ARTS 247 (4, 3)",
                                    "NumberOfClasses": "1",
                                    "TotalNumberEnrolled": "8",
                                    "TotalLimit": "8",
                                    "PercentageClassFilled": "100.00",
                                    "PercentageEnrolled": "0.01"
                                },
                                {
                                    "CourseName": "ARTS 249 (4, 3)",
                                    "NumberOfClasses": "1",
                                    "TotalNumberEnrolled": "17",
                                    "TotalLimit": "17",
                                    "PercentageClassFilled": "100.00",
                                    "PercentageEnrolled": "0.02"
                                },
                                {
                                    "CourseName": "ARTS 250 (4, 3)",
                                    "NumberOfClasses": "1",
                                    "TotalNumberEnrolled": "12",
                                    "TotalLimit": "17",
                                    "PercentageClassFilled": "70.59",
                                    "PercentageEnrolled": "0.01"
                                },
                                {
                                    "CourseName": "ARTS 253 (4, 3)",
                                    "NumberOfClasses": "1",
                                    "TotalNumberEnrolled": "15",
                                    "TotalLimit": "18",
                                    "PercentageClassFilled": "83.33",
                                    "PercentageEnrolled": "0.02"
                                },
                                {
                                    "CourseName": "ARTS 254 (4, 3)",
                                    "NumberOfClasses": "4",
                                    "TotalNumberEnrolled": "11",
                                    "TotalLimit": "4",
                                    "PercentageClassFilled": "275.00",
                                    "PercentageEnrolled": "0.01"
                                },
                                {
                                    "CourseName": "ARTS 256 (4, 3)",
                                    "NumberOfClasses": "5",
                                    "TotalNumberEnrolled": "11",
                                    "TotalLimit": "5",
                                    "PercentageClassFilled": "220.00",
                                    "PercentageEnrolled": "0.01"
                                },
                                {
                                    "CourseName": "ARTS 259 (4, 3)",
                                    "NumberOfClasses": "1",
                                    "TotalNumberEnrolled": "12",
                                    "TotalLimit": "10",
                                    "PercentageClassFilled": "120.00",
                                    "PercentageEnrolled": "0.01"
                                },
                                {
                                    "CourseName": "ARTS 260 (4, 3)",
                                    "NumberOfClasses": "2",
                                    "TotalNumberEnrolled": "28",
                                    "TotalLimit": "31",
                                    "PercentageClassFilled": "90.32",
                                    "PercentageEnrolled": "0.03"
                                },
                                {
                                    "CourseName": "ARTS 264 (4, 3)",
                                    "NumberOfClasses": "2",
                                    "TotalNumberEnrolled": "17",
                                    "TotalLimit": "36",
                                    "PercentageClassFilled": "47.22",
                                    "PercentageEnrolled": "0.02"
                                },
                                {
                                    "CourseName": "ARTS 266 (4, 3)",
                                    "NumberOfClasses": "1",
                                    "TotalNumberEnrolled": "19",
                                    "TotalLimit": "17",
                                    "PercentageClassFilled": "111.76",
                                    "PercentageEnrolled": "0.02"
                                },
                                {
                                    "CourseName": "ARTS 273 (4, 3)",
                                    "NumberOfClasses": "1",
                                    "TotalNumberEnrolled": "11",
                                    "TotalLimit": "12",
                                    "PercentageClassFilled": "91.67",
                                    "PercentageEnrolled": "0.01"
                                },
                                {
                                    "CourseName": "ARTS 276 (4, 3)",
                                    "NumberOfClasses": "1",
                                    "TotalNumberEnrolled": "13",
                                    "TotalLimit": "14",
                                    "PercentageClassFilled": "92.86",
                                    "PercentageEnrolled": "0.02"
                                },
                                {
                                    "CourseName": "ARTS 279 (4, 3)",
                                    "NumberOfClasses": "1",
                                    "TotalNumberEnrolled": "18",
                                    "TotalLimit": "18",
                                    "PercentageClassFilled": "100.00",
                                    "PercentageEnrolled": "0.02"
                                },
                                {
                                    "CourseName": "ARTS 282 (4, 3)",
                                    "NumberOfClasses": "1",
                                    "TotalNumberEnrolled": "16",
                                    "TotalLimit": "14",
                                    "PercentageClassFilled": "114.29",
                                    "PercentageEnrolled": "0.02"
                                },
                                {
                                    "CourseName": "ARTS 283 (4, 3)",
                                    "NumberOfClasses": "2",
                                    "TotalNumberEnrolled": "22",
                                    "TotalLimit": "28",
                                    "PercentageClassFilled": "78.57",
                                    "PercentageEnrolled": "0.03"
                                },
                                {
                                    "CourseName": "ARTS 284 (4, 3)",
                                    "NumberOfClasses": "2",
                                    "TotalNumberEnrolled": "7",
                                    "TotalLimit": "8",
                                    "PercentageClassFilled": "87.50",
                                    "PercentageEnrolled": "0.01"
                                },
                                {
                                    "CourseName": "ARTS 288 (4, 3)",
                                    "NumberOfClasses": "3",
                                    "TotalNumberEnrolled": "3",
                                    "TotalLimit": "3",
                                    "PercentageClassFilled": "100.00",
                                    "PercentageEnrolled": "0.00"
                                },
                                {
                                    "CourseName": "ARTS 289 (4, 3)",
                                    "NumberOfClasses": "1",
                                    "TotalNumberEnrolled": "16",
                                    "TotalLimit": "17",
                                    "PercentageClassFilled": "94.12",
                                    "PercentageEnrolled": "0.02"
                                },
                                {
                                    "CourseName": "ARTS 290 (4, 3)",
                                    "NumberOfClasses": "1",
                                    "TotalNumberEnrolled": "18",
                                    "TotalLimit": "17",
                                    "PercentageClassFilled": "105.88",
                                    "PercentageEnrolled": "0.02"
                                },
                                {
                                    "CourseName": "ARTS 314 (4, 3)",
                                    "NumberOfClasses": "1",
                                    "TotalNumberEnrolled": "14",
                                    "TotalLimit": "17",
                                    "PercentageClassFilled": "82.35",
                                    "PercentageEnrolled": "0.02"
                                },
                                {
                                    "CourseName": "ARTS 333 (3, 3)",
                                    "NumberOfClasses": "1",
                                    "TotalNumberEnrolled": "15",
                                    "TotalLimit": "18",
                                    "PercentageClassFilled": "83.33",
                                    "PercentageEnrolled": "0.02"
                                },
                                {
                                    "CourseName": "ARTS 345 (4, 3)",
                                    "NumberOfClasses": "2",
                                    "TotalNumberEnrolled": "39",
                                    "TotalLimit": "34",
                                    "PercentageClassFilled": "114.71",
                                    "PercentageEnrolled": "0.05"
                                },
                                {
                                    "CourseName": "ARTS 347 (4, 3)",
                                    "NumberOfClasses": "1",
                                    "TotalNumberEnrolled": "3",
                                    "TotalLimit": "4",
                                    "PercentageClassFilled": "75.00",
                                    "PercentageEnrolled": "0.00"
                                },
                                {
                                    "CourseName": "ARTS 350 (4, 3)",
                                    "NumberOfClasses": "1",
                                    "TotalNumberEnrolled": "19",
                                    "TotalLimit": "18",
                                    "PercentageClassFilled": "105.56",
                                    "PercentageEnrolled": "0.02"
                                },
                                {
                                    "CourseName": "ARTS 355 (4, 3)",
                                    "NumberOfClasses": "1",
                                    "TotalNumberEnrolled": "6",
                                    "TotalLimit": "4",
                                    "PercentageClassFilled": "150.00",
                                    "PercentageEnrolled": "0.01"
                                },
                                {
                                    "CourseName": "ARTS 359 (4, 3)",
                                    "NumberOfClasses": "1",
                                    "TotalNumberEnrolled": "7",
                                    "TotalLimit": "6",
                                    "PercentageClassFilled": "116.67",
                                    "PercentageEnrolled": "0.01"
                                },
                                {
                                    "CourseName": "ARTS 369 (4, 3)",
                                    "NumberOfClasses": "1",
                                    "TotalNumberEnrolled": "4",
                                    "TotalLimit": "4",
                                    "PercentageClassFilled": "100.00",
                                    "PercentageEnrolled": "0.00"
                                },
                                {
                                    "CourseName": "ARTS 370 (4, 3)",
                                    "NumberOfClasses": "4",
                                    "TotalNumberEnrolled": "68",
                                    "TotalLimit": "68",
                                    "PercentageClassFilled": "100.00",
                                    "PercentageEnrolled": "0.08"
                                },
                                {
                                    "CourseName": "ARTS 375 (4, 3)",
                                    "NumberOfClasses": "2",
                                    "TotalNumberEnrolled": "4",
                                    "TotalLimit": "2",
                                    "PercentageClassFilled": "200.00",
                                    "PercentageEnrolled": "0.00"
                                },
                                {
                                    "CourseName": "ARTS 379 (4, 3)",
                                    "NumberOfClasses": "4",
                                    "TotalNumberEnrolled": "6",
                                    "TotalLimit": "4",
                                    "PercentageClassFilled": "150.00",
                                    "PercentageEnrolled": "0.01"
                                },
                                {
                                    "CourseName": "ARTS 390 (4, 3)",
                                    "NumberOfClasses": "2",
                                    "TotalNumberEnrolled": "13",
                                    "TotalLimit": "14",
                                    "PercentageClassFilled": "92.86",
                                    "PercentageEnrolled": "0.02"
                                },
                                {
                                    "CourseName": "ARTS 391 (4, 3)",
                                    "NumberOfClasses": "1",
                                    "TotalNumberEnrolled": "20",
                                    "TotalLimit": "18",
                                    "PercentageClassFilled": "111.11",
                                    "PercentageEnrolled": "0.02"
                                },
                                {
                                    "CourseName": "ARTS 392 (4, 3)",
                                    "NumberOfClasses": "1",
                                    "TotalNumberEnrolled": "14",
                                    "TotalLimit": "7",
                                    "PercentageClassFilled": "200.00",
                                    "PercentageEnrolled": "0.02"
                                }
                            ]
                        },
                        "text/html": [
                            "<table>",
                            "<tr><th>CourseName</th><th>NumberOfClasses</th><th>TotalNumberEnrolled</th><th>TotalLimit</th><th>PercentageClassFilled</th><th>PercentageEnrolled</th></tr>",
                            "<tr><td>ACCT 100 (3, 3)</td><td>3</td><td>63</td><td>66</td><td>95.45</td><td>0.08</td></tr>",
                            "<tr><td>ACCT 101 (4, 3)</td><td>12</td><td>500</td><td>575</td><td>86.96</td><td>0.61</td></tr>",
                            "<tr><td>ACCT 102 (4, 3)</td><td>9</td><td>342</td><td>470</td><td>72.77</td><td>0.42</td></tr>",
                            "<tr><td>ACCT 201 (4, 4)</td><td>8</td><td>311</td><td>325</td><td>95.69</td><td>0.38</td></tr>",
                            "<tr><td>ACCT 202 (3, 2)</td><td>7</td><td>289</td><td>348</td><td>83.05</td><td>0.35</td></tr>",
                            "<tr><td>ACCT 261 (3, 3)</td><td>9</td><td>352</td><td>396</td><td>88.89</td><td>0.43</td></tr>",
                            "<tr><td>ACCT 305 (3, 2)</td><td>8</td><td>296</td><td>374</td><td>79.14</td><td>0.36</td></tr>",
                            "<tr><td>ACCT 306 (4, 3)</td><td>6</td><td>267</td><td>309</td><td>86.41</td><td>0.33</td></tr>",
                            "<tr><td>ACCT 311 (4, 3)</td><td>7</td><td>263</td><td>343</td><td>76.68</td><td>0.32</td></tr>",
                            "<tr><td>ACCT 321 (4, 3)</td><td>5</td><td>193</td><td>233</td><td>82.83</td><td>0.24</td></tr>",
                            "<tr><td>ACCT 322 (3, 3)</td><td>6</td><td>227</td><td>260</td><td>87.31</td><td>0.28</td></tr>",
                            "<tr><td>ACCT 341 (3, 3)</td><td>1</td><td>67</td><td>67</td><td>100.00</td><td>0.08</td></tr>",
                            "<tr><td>ACCT 343 (3, 3)</td><td>1</td><td>30</td><td>30</td><td>100.00</td><td>0.04</td></tr>",
                            "<tr><td>ACCT 350 (3, 3)</td><td>2</td><td>60</td><td>92</td><td>65.22</td><td>0.07</td></tr>",
                            "<tr><td>ACCT 362 (3, 3)</td><td>2</td><td>120</td><td>125</td><td>96.00</td><td>0.15</td></tr>",
                            "<tr><td>ACCT 362W (3, 3)</td><td>10</td><td>180</td><td>207</td><td>86.96</td><td>0.22</td></tr>",
                            "<tr><td>ACCT 363 (3, 3)</td><td>3</td><td>54</td><td>90</td><td>60.00</td><td>0.07</td></tr>",
                            "<tr><td>ACCT 367 (4, 4)</td><td>7</td><td>317</td><td>372</td><td>85.22</td><td>0.39</td></tr>",
                            "<tr><td>ACCT 372 (3, 3)</td><td>7</td><td>255</td><td>340</td><td>75.00</td><td>0.31</td></tr>",
                            "<tr><td>ACCT 393W (3, 3)</td><td>2</td><td>22</td><td>70</td><td>31.43</td><td>0.03</td></tr>",
                            "<tr><td>ACCT 398 (3, 3)</td><td>1</td><td>4</td><td>35</td><td>11.43</td><td>0.00</td></tr>",
                            "<tr><td>ACCT 707 (3, 3)</td><td>1</td><td>28</td><td>25</td><td>112.00</td><td>0.03</td></tr>",
                            "<tr><td>ACCT 712 (3, 3)</td><td>2</td><td>43</td><td>40</td><td>107.50</td><td>0.05</td></tr>",
                            "<tr><td>ACCT 723 (3, 3)</td><td>2</td><td>56</td><td>50</td><td>112.00</td><td>0.07</td></tr>",
                            "<tr><td>ACCT 747 (3, 3)</td><td>1</td><td>51</td><td>60</td><td>85.00</td><td>0.06</td></tr>",
                            "<tr><td>ACCT 748 (3, 3)</td><td>1</td><td>28</td><td>25</td><td>112.00</td><td>0.03</td></tr>",
                            "<tr><td>ACCT 752 (3, 3)</td><td>3</td><td>32</td><td>60</td><td>53.33</td><td>0.04</td></tr>",
                            "<tr><td>ACCT 757 (3, 3)</td><td>2</td><td>43</td><td>50</td><td>86.00</td><td>0.05</td></tr>",
                            "<tr><td>ACCT 758 (3, 3)</td><td>1</td><td>18</td><td>20</td><td>90.00</td><td>0.02</td></tr>",
                            "<tr><td>ACCT 773 (3, 3)</td><td>1</td><td>17</td><td>20</td><td>85.00</td><td>0.02</td></tr>",
                            "<tr><td>AFST 102 (3, 3)</td><td>1</td><td>35</td><td>35</td><td>100.00</td><td>0.04</td></tr>",
                            "<tr><td>AFST 201W (3, 3)</td><td>1</td><td>26</td><td>25</td><td>104.00</td><td>0.03</td></tr>",
                            "<tr><td>AFST 300W (3, 3)</td><td>1</td><td>15</td><td>25</td><td>60.00</td><td>0.02</td></tr>",
                            "<tr><td>AMST 110W (3, 3)</td><td>3</td><td>73</td><td>75</td><td>97.33</td><td>0.09</td></tr>",
                            "<tr><td>ANTH 101 (3, 3)</td><td>9</td><td>620</td><td>617</td><td>100.49</td><td>0.76</td></tr>",
                            "<tr><td>ANTH 102 (3, 3)</td><td>11</td><td>731</td><td>735</td><td>99.46</td><td>0.89</td></tr>",
                            "<tr><td>ANTH 103 (3, 3)</td><td>9</td><td>514</td><td>544</td><td>94.49</td><td>0.63</td></tr>",
                            "<tr><td>ANTH 104 (3, 3)</td><td>4</td><td>264</td><td>255</td><td>103.53</td><td>0.32</td></tr>",
                            "<tr><td>ANTH 200 (3, 3)</td><td>2</td><td>32</td><td>30</td><td>106.67</td><td>0.04</td></tr>",
                            "<tr><td>ANTH 201 (3, 3)</td><td>1</td><td>10</td><td>12</td><td>83.33</td><td>0.01</td></tr>",
                            "<tr><td>ANTH 210 (3, 3)</td><td>1</td><td>11</td><td>11</td><td>100.00</td><td>0.01</td></tr>",
                            "<tr><td>ANTH 220 (3, 3)</td><td>1</td><td>11</td><td>12</td><td>91.67</td><td>0.01</td></tr>",
                            "<tr><td>ANTH 225 (3, 3)</td><td>1</td><td>20</td><td>20</td><td>100.00</td><td>0.02</td></tr>",
                            "<tr><td>ANTH 239 (3, 3)</td><td>1</td><td>19</td><td>20</td><td>95.00</td><td>0.02</td></tr>",
                            "<tr><td>ANTH 240 (3, 3)</td><td>1</td><td>20</td><td>20</td><td>100.00</td><td>0.02</td></tr>",
                            "<tr><td>ANTH 241 (3, 3)</td><td>1</td><td>36</td><td>37</td><td>97.30</td><td>0.04</td></tr>",
                            "<tr><td>ANTH 243 (3, 3)</td><td>1</td><td>12</td><td>20</td><td>60.00</td><td>0.01</td></tr>",
                            "<tr><td>ANTH 260 (3, 3)</td><td>1</td><td>14</td><td>14</td><td>100.00</td><td>0.02</td></tr>",
                            "<tr><td>ANTH 279 (3, 3)</td><td>1</td><td>17</td><td>17</td><td>100.00</td><td>0.02</td></tr>",
                            "<tr><td>ANTH 280 (3, 3)</td><td>1</td><td>34</td><td>33</td><td>103.03</td><td>0.04</td></tr>",
                            "<tr><td>ANTH 2953 (3, 3)</td><td>2</td><td>2</td><td>2</td><td>100.00</td><td>0.00</td></tr>",
                            "<tr><td>ANTH 302 (3, 3)</td><td>1</td><td>20</td><td>18</td><td>111.11</td><td>0.02</td></tr>",
                            "<tr><td>ANTH 354 (3, 3)</td><td>1</td><td>15</td><td>15</td><td>100.00</td><td>0.02</td></tr>",
                            "<tr><td>ANTH 361 (3, 3)</td><td>1</td><td>18</td><td>17</td><td>105.88</td><td>0.02</td></tr>",
                            "<tr><td>ANTH 390 (3, 3)</td><td>3</td><td>3</td><td>3</td><td>100.00</td><td>0.00</td></tr>",
                            "<tr><td>ANTH 3953 (3, 3)</td><td>1</td><td>1</td><td>1</td><td>100.00</td><td>0.00</td></tr>",
                            "<tr><td>ARAB 101 (4, 4)</td><td>1</td><td>25</td><td>25</td><td>100.00</td><td>0.03</td></tr>",
                            "<tr><td>ARAB 102 (4, 4)</td><td>1</td><td>28</td><td>25</td><td>112.00</td><td>0.03</td></tr>",
                            "<tr><td>ARAB 306 (3, 3)</td><td>1</td><td>7</td><td>25</td><td>28.00</td><td>0.01</td></tr>",
                            "<tr><td>ARTH 001 (3, 3)</td><td>3</td><td>142</td><td>140</td><td>101.43</td><td>0.17</td></tr>",
                            "<tr><td>ARTH 101 (3, 3)</td><td>1</td><td>50</td><td>50</td><td>100.00</td><td>0.06</td></tr>",
                            "<tr><td>ARTH 102 (3, 3)</td><td>3</td><td>136</td><td>140</td><td>97.14</td><td>0.17</td></tr>",
                            "<tr><td>ARTH 113 (3, 3)</td><td>1</td><td>48</td><td>50</td><td>96.00</td><td>0.06</td></tr>",
                            "<tr><td>ARTH 215 (3, 3)</td><td>1</td><td>40</td><td>50</td><td>80.00</td><td>0.05</td></tr>",
                            "<tr><td>ARTH 234 (3, 3)</td><td>1</td><td>36</td><td>50</td><td>72.00</td><td>0.04</td></tr>",
                            "<tr><td>ARTH 256 (3, 3)</td><td>1</td><td>38</td><td>40</td><td>95.00</td><td>0.05</td></tr>",
                            "<tr><td>ARTH 258 (3, 3)</td><td>1</td><td>51</td><td>50</td><td>102.00</td><td>0.06</td></tr>",
                            "<tr><td>ARTH 286 (3, 3)</td><td>1</td><td>23</td><td>35</td><td>65.71</td><td>0.03</td></tr>",
                            "<tr><td>ARTH 300 (3, 3)</td><td>1</td><td>4</td><td>10</td><td>40.00</td><td>0.00</td></tr>",
                            "<tr><td>ARTH 503 (3, 3)</td><td>1</td><td>3</td><td>10</td><td>30.00</td><td>0.00</td></tr>",
                            "<tr><td>ARTH 504 (3, 3)</td><td>2</td><td>10</td><td>19</td><td>52.63</td><td>0.01</td></tr>",
                            "<tr><td>ARTH 740 (2, 3)</td><td>1</td><td>10</td><td>10</td><td>100.00</td><td>0.01</td></tr>",
                            "<tr><td>ARTH 7423 (2, 3)</td><td>1</td><td>6</td><td>10</td><td>60.00</td><td>0.01</td></tr>",
                            "<tr><td>ARTH 7435 (2, 3)</td><td>1</td><td>4</td><td>10</td><td>40.00</td><td>0.00</td></tr>",
                            "<tr><td>ARTH 7541 (2, 3)</td><td>1</td><td>9</td><td>6</td><td>150.00</td><td>0.01</td></tr>",
                            "<tr><td>ARTS 150 (4, 3)</td><td>2</td><td>37</td><td>36</td><td>102.78</td><td>0.05</td></tr>",
                            "<tr><td>ARTS 151 (4, 3)</td><td>6</td><td>96</td><td>85</td><td>112.94</td><td>0.12</td></tr>",
                            "<tr><td>ARTS 161 (4, 3)</td><td>4</td><td>70</td><td>68</td><td>102.94</td><td>0.09</td></tr>",
                            "<tr><td>ARTS 165 (4, 3)</td><td>3</td><td>54</td><td>51</td><td>105.88</td><td>0.07</td></tr>",
                            "<tr><td>ARTS 171 (4, 3)</td><td>2</td><td>35</td><td>36</td><td>97.22</td><td>0.04</td></tr>",
                            "<tr><td>ARTS 172 (4, 3)</td><td>1</td><td>17</td><td>17</td><td>100.00</td><td>0.02</td></tr>",
                            "<tr><td>ARTS 176 (4, 3)</td><td>2</td><td>32</td><td>34</td><td>94.12</td><td>0.04</td></tr>",
                            "<tr><td>ARTS 182 (4, 3)</td><td>4</td><td>68</td><td>68</td><td>100.00</td><td>0.08</td></tr>",
                            "<tr><td>ARTS 186 (4, 3)</td><td>4</td><td>72</td><td>68</td><td>105.88</td><td>0.09</td></tr>",
                            "<tr><td>ARTS 187 (4, 3)</td><td>2</td><td>23</td><td>24</td><td>95.83</td><td>0.03</td></tr>",
                            "<tr><td>ARTS 188 (4, 3)</td><td>3</td><td>53</td><td>51</td><td>103.92</td><td>0.06</td></tr>",
                            "<tr><td>ARTS 190 (4, 3)</td><td>4</td><td>70</td><td>68</td><td>102.94</td><td>0.09</td></tr>",
                            "<tr><td>ARTS 191 (4, 3)</td><td>5</td><td>86</td><td>84</td><td>102.38</td><td>0.11</td></tr>",
                            "<tr><td>ARTS 192 (4, 3)</td><td>1</td><td>16</td><td>17</td><td>94.12</td><td>0.02</td></tr>",
                            "<tr><td>ARTS 193 (4, 3)</td><td>4</td><td>71</td><td>68</td><td>104.41</td><td>0.09</td></tr>",
                            "<tr><td>ARTS 195 (4, 3)</td><td>3</td><td>51</td><td>50</td><td>102.00</td><td>0.06</td></tr>",
                            "<tr><td>ARTS 211 (4, 3)</td><td>2</td><td>36</td><td>36</td><td>100.00</td><td>0.04</td></tr>",
                            "<tr><td>ARTS 213 (4, 3)</td><td>1</td><td>17</td><td>17</td><td>100.00</td><td>0.02</td></tr>",
                            "<tr><td>ARTS 214 (4, 3)</td><td>4</td><td>74</td><td>67</td><td>110.45</td><td>0.09</td></tr>",
                            "<tr><td>ARTS 215 (4, 3)</td><td>1</td><td>16</td><td>16</td><td>100.00</td><td>0.02</td></tr>",
                            "<tr><td>ARTS 225 (4, 3)</td><td>1</td><td>12</td><td>14</td><td>85.71</td><td>0.01</td></tr>",
                            "<tr><td>ARTS 235 (4, 3)</td><td>1</td><td>4</td><td>4</td><td>100.00</td><td>0.00</td></tr>",
                            "<tr><td>ARTS 240 (4, 3)</td><td>3</td><td>42</td><td>54</td><td>77.78</td><td>0.05</td></tr>",
                            "<tr><td>ARTS 241 (4, 3)</td><td>4</td><td>70</td><td>68</td><td>102.94</td><td>0.09</td></tr>",
                            "<tr><td>ARTS 242 (4, 3)</td><td>4</td><td>72</td><td>68</td><td>105.88</td><td>0.09</td></tr>",
                            "<tr><td>ARTS 245 (4, 3)</td><td>3</td><td>60</td><td>51</td><td>117.65</td><td>0.07</td></tr>",
                            "<tr><td>ARTS 246 (4, 3)</td><td>3</td><td>60</td><td>51</td><td>117.65</td><td>0.07</td></tr>",
                            "<tr><td>ARTS 247 (4, 3)</td><td>1</td><td>8</td><td>8</td><td>100.00</td><td>0.01</td></tr>",
                            "<tr><td>ARTS 249 (4, 3)</td><td>1</td><td>17</td><td>17</td><td>100.00</td><td>0.02</td></tr>",
                            "<tr><td>ARTS 250 (4, 3)</td><td>1</td><td>12</td><td>17</td><td>70.59</td><td>0.01</td></tr>",
                            "<tr><td>ARTS 253 (4, 3)</td><td>1</td><td>15</td><td>18</td><td>83.33</td><td>0.02</td></tr>",
                            "<tr><td>ARTS 254 (4, 3)</td><td>4</td><td>11</td><td>4</td><td>275.00</td><td>0.01</td></tr>",
                            "<tr><td>ARTS 256 (4, 3)</td><td>5</td><td>11</td><td>5</td><td>220.00</td><td>0.01</td></tr>",
                            "<tr><td>ARTS 259 (4, 3)</td><td>1</td><td>12</td><td>10</td><td>120.00</td><td>0.01</td></tr>",
                            "<tr><td>ARTS 260 (4, 3)</td><td>2</td><td>28</td><td>31</td><td>90.32</td><td>0.03</td></tr>",
                            "<tr><td>ARTS 264 (4, 3)</td><td>2</td><td>17</td><td>36</td><td>47.22</td><td>0.02</td></tr>",
                            "<tr><td>ARTS 266 (4, 3)</td><td>1</td><td>19</td><td>17</td><td>111.76</td><td>0.02</td></tr>",
                            "<tr><td>ARTS 273 (4, 3)</td><td>1</td><td>11</td><td>12</td><td>91.67</td><td>0.01</td></tr>",
                            "<tr><td>ARTS 276 (4, 3)</td><td>1</td><td>13</td><td>14</td><td>92.86</td><td>0.02</td></tr>",
                            "<tr><td>ARTS 279 (4, 3)</td><td>1</td><td>18</td><td>18</td><td>100.00</td><td>0.02</td></tr>",
                            "<tr><td>ARTS 282 (4, 3)</td><td>1</td><td>16</td><td>14</td><td>114.29</td><td>0.02</td></tr>",
                            "<tr><td>ARTS 283 (4, 3)</td><td>2</td><td>22</td><td>28</td><td>78.57</td><td>0.03</td></tr>",
                            "<tr><td>ARTS 284 (4, 3)</td><td>2</td><td>7</td><td>8</td><td>87.50</td><td>0.01</td></tr>",
                            "<tr><td>ARTS 288 (4, 3)</td><td>3</td><td>3</td><td>3</td><td>100.00</td><td>0.00</td></tr>",
                            "<tr><td>ARTS 289 (4, 3)</td><td>1</td><td>16</td><td>17</td><td>94.12</td><td>0.02</td></tr>",
                            "<tr><td>ARTS 290 (4, 3)</td><td>1</td><td>18</td><td>17</td><td>105.88</td><td>0.02</td></tr>",
                            "<tr><td>ARTS 314 (4, 3)</td><td>1</td><td>14</td><td>17</td><td>82.35</td><td>0.02</td></tr>",
                            "<tr><td>ARTS 333 (3, 3)</td><td>1</td><td>15</td><td>18</td><td>83.33</td><td>0.02</td></tr>",
                            "<tr><td>ARTS 345 (4, 3)</td><td>2</td><td>39</td><td>34</td><td>114.71</td><td>0.05</td></tr>",
                            "<tr><td>ARTS 347 (4, 3)</td><td>1</td><td>3</td><td>4</td><td>75.00</td><td>0.00</td></tr>",
                            "<tr><td>ARTS 350 (4, 3)</td><td>1</td><td>19</td><td>18</td><td>105.56</td><td>0.02</td></tr>",
                            "<tr><td>ARTS 355 (4, 3)</td><td>1</td><td>6</td><td>4</td><td>150.00</td><td>0.01</td></tr>",
                            "<tr><td>ARTS 359 (4, 3)</td><td>1</td><td>7</td><td>6</td><td>116.67</td><td>0.01</td></tr>",
                            "<tr><td>ARTS 369 (4, 3)</td><td>1</td><td>4</td><td>4</td><td>100.00</td><td>0.00</td></tr>",
                            "<tr><td>ARTS 370 (4, 3)</td><td>4</td><td>68</td><td>68</td><td>100.00</td><td>0.08</td></tr>",
                            "<tr><td>ARTS 375 (4, 3)</td><td>2</td><td>4</td><td>2</td><td>200.00</td><td>0.00</td></tr>",
                            "<tr><td>ARTS 379 (4, 3)</td><td>4</td><td>6</td><td>4</td><td>150.00</td><td>0.01</td></tr>",
                            "<tr><td>ARTS 390 (4, 3)</td><td>2</td><td>13</td><td>14</td><td>92.86</td><td>0.02</td></tr>",
                            "<tr><td>ARTS 391 (4, 3)</td><td>1</td><td>20</td><td>18</td><td>111.11</td><td>0.02</td></tr>",
                            "<tr><td>ARTS 392 (4, 3)</td><td>1</td><td>14</td><td>7</td><td>200.00</td><td>0.02</td></tr>",
                            "</table>"
                        ]
                    }
                },
                {
                    "output_type": "error",
                    "evalue": "Msg 8115, Level 16, State 8, Line 6\nArithmetic overflow error converting numeric to data type numeric.",
                    "ename": "",
                    "traceback": []
                }
            ],
            "execution_count": 3
        },
        {
            "cell_type": "markdown",
            "source": [
                "<h1 style = \"color:#0D0630\">Query 4</h1>\n",
                "\n",
                "<div style=\"border:2px solid #C57B57; padding: 7px; background-color:#FEFAEC\">\n",
                "<h2 style=\"color:#3A435E\"><b>Proposition Statement:</h2>\n",
                "<h3><b>Give a count of all the rooms that are inside each building that is used for teaching a class.</b></h3>\n",
                "<p><i>(Completed by Jude Pierre)</i></p>\n",
                "</div>"
            ],
            "metadata": {
                "language": "sql",
                "azdata_cell_guid": "7eb7d2ab-3c41-49de-a0dd-2e4869e852b6"
            },
            "attachments": {}
        },
        {
            "cell_type": "code",
            "source": [
                "---===========================================================\n",
                "---This query gives a count of all the rooms that are inside each building\n",
                "--- that is used for teaching a class.\n",
                "---==========================================================\n",
                "USE QueensClassSchedule;\n",
                "SELECT  L.BuildingLocationKey, L.BuildingLocationName, COUNT(LL.RoomLocationKey) AS NumberOfTeachingRooms\n",
                "From [Location].BuildingLocation AS L\n",
                "LEFT OUTER JOIN [Location].RoomLocation AS LL\n",
                "ON L.BuildingLocationKey = LL.BuildingLocationKey\n",
                "GROUP BY L.BuildingLocationName, L.BuildingLocationKey\n",
                ""
            ],
            "metadata": {
                "language": "sql",
                "azdata_cell_guid": "3efc7305-26bc-4445-8250-9777e562ffb0"
            },
            "outputs": [],
            "execution_count": null
        },
        {
            "cell_type": "markdown",
            "source": [
                "<h1 style = \"color:#0D0630\">Query 5</h1>\n",
                "\n",
                "<div style=\"border:2px solid #C57B57; padding: 7px; background-color:#FEFAEC\">\n",
                "<h2 style=\"color:#3A435E\"><b>Proposition Statement:</h2>\n",
                "<h3><b>Display total number of classes and total enrollment for each day and section of the week.</b></h3>\n",
                "<p><i>(Completed by Jamal Siddiqui)</i></p>\n",
                "</div>"
            ],
            "metadata": {
                "language": "sql",
                "azdata_cell_guid": "869c8d97-a88f-42c4-b8f5-920f92b4ade4"
            },
            "attachments": {}
        },
        {
            "cell_type": "code",
            "source": [
                "USE [QueensClassSchedule];\n",
                "GO\n",
                "\n",
                "--Project 3: Other Query 2 - Jamal Siddiqui\n",
                "\n",
                "SELECT\n",
                "    Day,\n",
                "    Section,\n",
                "    COUNT(*) AS TotalClasses,\n",
                "    SUM(NumberEnrolled) AS TotalEnrollment\n",
                "FROM \n",
                "    Course.Class\n",
                "GROUP BY \n",
                "    Day,\n",
                "    Section\n",
                "ORDER BY \n",
                "    Day,\n",
                "    Section;"
            ],
            "metadata": {
                "language": "sql",
                "azdata_cell_guid": "99e382f9-77b5-44a5-b6b5-76aba0b17fe4"
            },
            "outputs": [],
            "execution_count": null
        },
        {
            "cell_type": "markdown",
            "source": [
                "<h1 style = \"color:#0D0630\">Query 6</h1>\n",
                "\n",
                "<div style=\"border:2px solid #C57B57; padding: 7px; background-color:#FEFAEC\">\n",
                "<h2 style=\"color:#3A435E\"><b>Proposition Statement:</h2>\n",
                "<h3><b>Show how many 4-credit classes still have enrollment slots open.</b></h3>\n",
                "<p><i>(Completed by Jianhao Jin)</i></p>\n",
                "</div>"
            ],
            "metadata": {
                "language": "sql",
                "azdata_cell_guid": "e0b9c182-b5d7-4156-aead-1578aa9f6f0d"
            },
            "attachments": {}
        },
        {
            "cell_type": "code",
            "source": [
                "USE QueensClassSchedule;\n",
                "GO\n",
                "\n",
                "--All class with 4 credit that still has place to login\n",
                "SELECT c.CourseName,c.CourseDescription, (CAST(c.Limit AS INT) - CAST(c.NumberEnrolled AS INT)) AS numberofSpace\n",
                "FROM Course.Class as c\n",
                "    INNER JOIN Course.Course AS co\n",
                "        ON c.CourseKey = co.CourseKey\n",
                "WHERE (CAST(c.Limit AS INT) - CAST(c.NumberEnrolled AS INT)) >0\n",
                "AND co.NumberOfCredits = 4"
            ],
            "metadata": {
                "language": "sql",
                "azdata_cell_guid": "3a4b2dd9-3043-4a46-a575-da6f5ee669da"
            },
            "outputs": [],
            "execution_count": null
        },
        {
            "cell_type": "markdown",
            "source": [
                "<h1 style = \"color:#0D0630\">Query 7</h1>\n",
                "\n",
                "<div style=\"border:2px solid #C57B57; padding: 7px; background-color:#FEFAEC\">\n",
                "<h2 style=\"color:#3A435E\"><b>Proposition Statement:</h2>\n",
                "<h3><b>Get a count of all classes, grouped by Mode of Instruction.</b></h3>\n",
                "<p><i>(Completed by Kathy He)</i></p>\n",
                "</div>"
            ],
            "metadata": {
                "language": "sql",
                "azdata_cell_guid": "4e65ef04-42e9-4300-a257-45dfda727ea7"
            },
            "attachments": {}
        },
        {
            "cell_type": "code",
            "source": [
                "USE QueensClassSchedule;\n",
                "\n",
                "SELECT ModeOfInstructionName AS ModeOfInstruction,\n",
                "       COUNT(ClassKey) AS NumberOfClasses\n",
                "FROM Course.Class\n",
                "GROUP BY ModeOfInstructionName;"
            ],
            "metadata": {
                "language": "sql",
                "azdata_cell_guid": "385d6f9c-5c13-4165-83b7-a47d3cdfa471"
            },
            "outputs": [],
            "execution_count": null
        },
        {
            "cell_type": "markdown",
            "source": [
                "<h1 style = \"color:#0D0630\">Query 8</h1>\n",
                "\n",
                "<div style=\"border:2px solid #C57B57; padding: 7px; background-color:#FEFAEC\">\n",
                "<h2 style=\"color:#3A435E\"><b>Proposition Statement:</h2>\n",
                "<h3><b>Show the number of students enrolled in every overtallied class, along with percentage of the overtally.</b></h3>\n",
                "<p><i>(Completed by Kathy He)</i></p>\n",
                "</div>"
            ],
            "metadata": {
                "language": "sql",
                "azdata_cell_guid": "583feb11-2655-4adb-8891-25c290b3c488"
            },
            "attachments": {}
        },
        {
            "cell_type": "code",
            "source": [
                "USE QueensClassSchedule;\n",
                "\n",
                "SELECT NumberEnrolled,\n",
                "       PercentageOvertallied = CAST(((NumberEnrolled+0.0)/Limit)*100 AS DECIMAL(5,2))\n",
                "FROM [Course].[Class]\n",
                "WHERE Overtally>0;"
            ],
            "metadata": {
                "language": "sql",
                "azdata_cell_guid": "a831b679-b6c3-4608-a53c-9f271b747632"
            },
            "outputs": [],
            "execution_count": null
        },
        {
            "cell_type": "markdown",
            "source": [
                "<h1 style = \"color:#0D0630\">Query 9</h1>\n",
                "\n",
                "<div style=\"border:2px solid #C57B57; padding: 7px; background-color:#FEFAEC\">\n",
                "<h2 style=\"color:#3A435E\"><b>Proposition Statement:</h2>\n",
                "<h3><b>Show how many classes are held in each building where classes are being held this semester, from highest to lowest.</b></h3>\n",
                "<p><i>(Completed by Kathy He)</i></p>\n",
                "</div>"
            ],
            "metadata": {
                "language": "sql",
                "azdata_cell_guid": "a0b9b716-4be4-46f9-aa88-aef054951c8b"
            },
            "attachments": {}
        },
        {
            "cell_type": "code",
            "source": [
                "USE QueensClassSchedule;\n",
                "\n",
                "SELECT BL.BuildingLocationName AS BuildingName,\n",
                "       COUNT(C.ClassKey) AS NumberOfClasses\n",
                "FROM Course.Class AS C\n",
                "    INNER JOIN Location.RoomLocation AS RL\n",
                "        ON RL.RoomLocationKey = C.RoomLocationKey\n",
                "            INNER JOIN Location.BuildingLocation AS BL\n",
                "                ON BL.BuildingLocationKey = RL.BuildingLocationkey\n",
                "GROUP BY BL.BuildingLocationName\n",
                "ORDER BY NumberOfClasses DESC;"
            ],
            "metadata": {
                "language": "sql",
                "azdata_cell_guid": "b01ef4f6-1e42-42db-9d3e-f6f46a996601"
            },
            "outputs": [],
            "execution_count": null
        },
        {
            "cell_type": "markdown",
            "source": [
                "<h1 style = \"color:#0D0630\">Query 10</h1>\n",
                "\n",
                "<div style=\"border:2px solid #C57B57; padding: 7px; background-color:#FEFAEC\">\n",
                "<h2 style=\"color:#3A435E\"><b>Proposition Statement:</h2>\n",
                "<h3><b>Show the number of classes each instructor teaches, depending on the days scheduled.</b></h3>\n",
                "<p><i>(Completed by Kathy He)</i></p>\n",
                "</div>"
            ],
            "metadata": {
                "language": "sql",
                "azdata_cell_guid": "324bb4bf-fbb8-44ce-b629-3d6ccc0ba41e"
            },
            "attachments": {}
        },
        {
            "cell_type": "code",
            "source": [
                "USE QueensClassSchedule;\n",
                "\n",
                "SELECT I.InstructorFirstName,\n",
                "       I.InstructorLastName,\n",
                "       C.Day,\n",
                "       COUNT(C.CourseCode) AS CountOfClasses\n",
                "FROM [Course].[Class] AS C\n",
                "    LEFT OUTER JOIN [Department].[Instructor] AS I\n",
                "        ON C.InstructorKey = I.InstructorKey\n",
                "GROUP BY I.InstructorFirstName, I.InstructorLastName, C.[Day]\n",
                "ORDER BY I.InstructorLastName;"
            ],
            "metadata": {
                "language": "sql",
                "azdata_cell_guid": "38abd6bd-cf3f-4b6d-a07b-665affc8e08e"
            },
            "outputs": [],
            "execution_count": null
        },
        {
            "cell_type": "markdown",
            "source": [
                "<h1 style = \"color:#0D0630\">Query 11</h1>\n",
                "\n",
                "<div style=\"border:2px solid #C57B57; padding: 7px; background-color:#FEFAEC\">\n",
                "<h2 style=\"color:#3A435E\"><b>Proposition Statement:</h2>\n",
                "<h3><b>Show the percentage of enrollment for the day(s) of the week that classes are held on, for each course.</b></h3>\n",
                "<p><i>(Completed by Kathy He)</i></p>\n",
                "</div>"
            ],
            "metadata": {
                "language": "sql",
                "azdata_cell_guid": "ffaaf684-556b-413e-8038-4107eafffa84"
            },
            "attachments": {}
        },
        {
            "cell_type": "code",
            "source": [
                "USE QueensClassSchedule;\n",
                "\n",
                "\n",
                "SELECT CO.CourseName AS CourseName,\n",
                "       C.Day AS DayOfWeek,\n",
                "       SUM(C.NumberEnrolled) AS TotalNumberEnrolled,\n",
                "       SUM(C.Limit) AS TotalLimit,\n",
                "       CAST(((SUM(C.NumberEnrolled)+0.0)/\n",
                "            (SELECT SUM(NumberEnrolled) FROM [Course].[Class] WHERE CourseName = CO.CourseName))*100 AS DECIMAL(4,2)) AS PercentageOfTotalEnrollment\n",
                "FROM [Course].[Class] AS C\n",
                "    INNER JOIN [Course].[Course] AS CO \n",
                "        ON C.CourseKey = CO.CourseKey\n",
                "GROUP BY CO.CourseName, C.Day "
            ],
            "metadata": {
                "language": "sql",
                "azdata_cell_guid": "f9f18842-b374-4fef-b775-7162ab3dc61d"
            },
            "outputs": [],
            "execution_count": null
        },
        {
            "cell_type": "markdown",
            "source": [
                "<h1 style = \"color:#0D0630\">Query 12</h1>\n",
                "\n",
                "<div style=\"border:2px solid #C57B57; padding: 7px; background-color:#FEFAEC\">\n",
                "<h2 style=\"color:#3A435E\"><b>Proposition Statement:</h2>\n",
                "<h3><b>Look at each course and its associated classes and compare the number of students enrolled for those classes based off mode of instruction.</b></h3>\n",
                "<p><i>(Completed by Kathy He)</i></p>\n",
                "</div>"
            ],
            "metadata": {
                "language": "sql",
                "azdata_cell_guid": "95ce43a1-6f7f-46a1-987f-218913e92d6d"
            },
            "attachments": {}
        },
        {
            "cell_type": "code",
            "source": [
                "USE QueensClassSchedule;\n",
                "\n",
                "SELECT CO.CourseName,\n",
                "       MOI.ModeOfInstructionName,\n",
                "       COUNT(C.ClassKey) AS NumberOfClasses,\n",
                "       SUM(C.NumberEnrolled) AS NumberEnrolled\n",
                "FROM [Course].[Course] AS CO \n",
                "    INNER JOIN [Course].[Class] AS C\n",
                "        ON CO.CourseKey = C.CourseKey\n",
                "            INNER JOIN [Class].[ModeOfInstruction] AS MOI\n",
                "                ON C.ModeOfInstructionKey = MOI.ModeOfInstructionKey\n",
                "GROUP BY CO.CourseName, MOI.ModeOfInstructionName\n",
                "ORDER BY CO.CourseName, ModeOfInstructionName;"
            ],
            "metadata": {
                "language": "sql",
                "azdata_cell_guid": "3ddef00c-178d-454a-bfc4-39c3b76db9cc"
            },
            "outputs": [],
            "execution_count": null
        },
        {
            "cell_type": "markdown",
            "source": [
                "<h1 style = \"color:#0D0630\">Query 13</h1>\n",
                "\n",
                "<div style=\"border:2px solid #C57B57; padding: 7px; background-color:#FEFAEC\">\n",
                "<h2 style=\"color:#3A435E\"><b>Proposition Statement:</h2>\n",
                "<h3><b>Create a function that will help the user search up which classes currently have openings if they provide the course title.</b></h3>\n",
                "<p><i>(Completed by Kathy He)</i></p>\n",
                "</div>"
            ],
            "metadata": {
                "language": "sql",
                "azdata_cell_guid": "9fe38e10-53a0-4cc3-a4b1-5d57642a6609"
            },
            "attachments": {}
        },
        {
            "cell_type": "code",
            "source": [
                "USE [QueensClassSchedule];\n",
                "GO\n",
                "\n",
                "CREATE OR ALTER FUNCTION [Class].[itvf_GetAvailableClasses] (@CourseTitle varchar(50))\n",
                "RETURNS TABLE\n",
                "AS\n",
                "RETURN (\n",
                "    SELECT C.CourseCode, C.Section, C.CourseName, C.CourseDescription, C.InstructorFullName, C.Day, CO.NumberOfHours, C.NumberEnrolled, C.Limit\n",
                "    FROM Course.Class AS C\n",
                "        INNER JOIN Course.Course AS CO\n",
                "            ON C.CourseKey = CO.CourseKey\n",
                "    WHERE C.CourseName = @CourseTitle AND C.NumberEnrolled < C.Limit\n",
                ");\n",
                "GO\n",
                "\n",
                "SELECT *\n",
                "FROM [Class].[itvf_GetAvailableClasses]('ACCT 101 (4, 3)');"
            ],
            "metadata": {
                "language": "sql",
                "azdata_cell_guid": "21bbf065-02e9-4704-b631-111625279176"
            },
            "outputs": [],
            "execution_count": null
        }
    ]
}